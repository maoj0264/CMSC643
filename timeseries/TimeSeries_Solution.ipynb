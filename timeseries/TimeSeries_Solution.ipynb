{
 "cells": [
  {
   "cell_type": "markdown",
   "metadata": {},
   "source": [
    "# Time series analysis as supervised learning\n",
    "\n",
    "The remaining parts of the project will build models for time series data using Keras.\n",
    "\n",
    "We will be using the mortgage affordability provided by Zillow https://www.zillow.com/research/data/ we have seen previously.\n",
    "\n",
    "The project repository includes the data and utility functions to load and plot it"
   ]
  },
  {
   "cell_type": "code",
   "execution_count": 1,
   "metadata": {},
   "outputs": [],
   "source": [
    "%load_ext autoreload\n",
    "%autoreload 2"
   ]
  },
  {
   "cell_type": "code",
   "execution_count": 2,
   "metadata": {},
   "outputs": [
    {
     "data": {
      "text/html": [
       "<div>\n",
       "<style scoped>\n",
       "    .dataframe tbody tr th:only-of-type {\n",
       "        vertical-align: middle;\n",
       "    }\n",
       "\n",
       "    .dataframe tbody tr th {\n",
       "        vertical-align: top;\n",
       "    }\n",
       "\n",
       "    .dataframe thead th {\n",
       "        text-align: right;\n",
       "    }\n",
       "</style>\n",
       "<table border=\"1\" class=\"dataframe\">\n",
       "  <thead>\n",
       "    <tr style=\"text-align: right;\">\n",
       "      <th></th>\n",
       "      <th>RegionID</th>\n",
       "      <th>RegionName</th>\n",
       "      <th>SizeRank</th>\n",
       "      <th>1979-03</th>\n",
       "      <th>1979-06</th>\n",
       "      <th>1979-09</th>\n",
       "      <th>1979-12</th>\n",
       "      <th>1980-03</th>\n",
       "      <th>1980-06</th>\n",
       "      <th>1980-09</th>\n",
       "      <th>...</th>\n",
       "      <th>2014-12</th>\n",
       "      <th>2015-03</th>\n",
       "      <th>2015-06</th>\n",
       "      <th>2015-09</th>\n",
       "      <th>2015-12</th>\n",
       "      <th>2016-03</th>\n",
       "      <th>2016-06</th>\n",
       "      <th>2016-09</th>\n",
       "      <th>2016-12</th>\n",
       "      <th>2017-03</th>\n",
       "    </tr>\n",
       "  </thead>\n",
       "  <tbody>\n",
       "    <tr>\n",
       "      <th>324</th>\n",
       "      <td>394913</td>\n",
       "      <td>New York, NY</td>\n",
       "      <td>1</td>\n",
       "      <td>0.261700</td>\n",
       "      <td>0.278316</td>\n",
       "      <td>0.284399</td>\n",
       "      <td>0.319438</td>\n",
       "      <td>0.379845</td>\n",
       "      <td>0.318970</td>\n",
       "      <td>0.337586</td>\n",
       "      <td>...</td>\n",
       "      <td>0.241961</td>\n",
       "      <td>0.240494</td>\n",
       "      <td>0.247387</td>\n",
       "      <td>0.245957</td>\n",
       "      <td>0.249606</td>\n",
       "      <td>0.241544</td>\n",
       "      <td>0.239503</td>\n",
       "      <td>0.240021</td>\n",
       "      <td>0.265376</td>\n",
       "      <td>0.269264</td>\n",
       "    </tr>\n",
       "    <tr>\n",
       "      <th>325</th>\n",
       "      <td>753899</td>\n",
       "      <td>Los Angeles-Long Beach-Anaheim, CA</td>\n",
       "      <td>2</td>\n",
       "      <td>0.357694</td>\n",
       "      <td>0.388161</td>\n",
       "      <td>0.401762</td>\n",
       "      <td>0.459422</td>\n",
       "      <td>0.541508</td>\n",
       "      <td>0.464528</td>\n",
       "      <td>0.486750</td>\n",
       "      <td>...</td>\n",
       "      <td>0.383162</td>\n",
       "      <td>0.382531</td>\n",
       "      <td>0.396277</td>\n",
       "      <td>0.395686</td>\n",
       "      <td>0.402116</td>\n",
       "      <td>0.393042</td>\n",
       "      <td>0.390708</td>\n",
       "      <td>0.386895</td>\n",
       "      <td>0.430334</td>\n",
       "      <td>0.433476</td>\n",
       "    </tr>\n",
       "    <tr>\n",
       "      <th>326</th>\n",
       "      <td>394463</td>\n",
       "      <td>Chicago, IL</td>\n",
       "      <td>3</td>\n",
       "      <td>0.261928</td>\n",
       "      <td>0.276790</td>\n",
       "      <td>0.276248</td>\n",
       "      <td>0.309709</td>\n",
       "      <td>0.353099</td>\n",
       "      <td>0.299344</td>\n",
       "      <td>0.295616</td>\n",
       "      <td>...</td>\n",
       "      <td>0.134913</td>\n",
       "      <td>0.134063</td>\n",
       "      <td>0.139074</td>\n",
       "      <td>0.137962</td>\n",
       "      <td>0.138784</td>\n",
       "      <td>0.134412</td>\n",
       "      <td>0.133701</td>\n",
       "      <td>0.132856</td>\n",
       "      <td>0.147025</td>\n",
       "      <td>0.149054</td>\n",
       "    </tr>\n",
       "    <tr>\n",
       "      <th>327</th>\n",
       "      <td>394514</td>\n",
       "      <td>Dallas-Fort Worth, TX</td>\n",
       "      <td>4</td>\n",
       "      <td>0.301131</td>\n",
       "      <td>0.328453</td>\n",
       "      <td>0.340857</td>\n",
       "      <td>0.386321</td>\n",
       "      <td>0.452818</td>\n",
       "      <td>0.376912</td>\n",
       "      <td>0.394715</td>\n",
       "      <td>...</td>\n",
       "      <td>0.118163</td>\n",
       "      <td>0.117663</td>\n",
       "      <td>0.124935</td>\n",
       "      <td>0.128167</td>\n",
       "      <td>0.133517</td>\n",
       "      <td>0.131539</td>\n",
       "      <td>0.133219</td>\n",
       "      <td>0.135142</td>\n",
       "      <td>0.149861</td>\n",
       "      <td>0.152387</td>\n",
       "    </tr>\n",
       "    <tr>\n",
       "      <th>328</th>\n",
       "      <td>394974</td>\n",
       "      <td>Philadelphia, PA</td>\n",
       "      <td>5</td>\n",
       "      <td>0.204333</td>\n",
       "      <td>0.215107</td>\n",
       "      <td>0.219247</td>\n",
       "      <td>0.247690</td>\n",
       "      <td>0.295396</td>\n",
       "      <td>0.248018</td>\n",
       "      <td>0.260259</td>\n",
       "      <td>...</td>\n",
       "      <td>0.141915</td>\n",
       "      <td>0.139100</td>\n",
       "      <td>0.142831</td>\n",
       "      <td>0.141625</td>\n",
       "      <td>0.142089</td>\n",
       "      <td>0.137387</td>\n",
       "      <td>0.135599</td>\n",
       "      <td>0.135064</td>\n",
       "      <td>0.148746</td>\n",
       "      <td>0.148559</td>\n",
       "    </tr>\n",
       "    <tr>\n",
       "      <th>329</th>\n",
       "      <td>394692</td>\n",
       "      <td>Houston, TX</td>\n",
       "      <td>6</td>\n",
       "      <td>0.243178</td>\n",
       "      <td>0.265630</td>\n",
       "      <td>0.268049</td>\n",
       "      <td>0.294382</td>\n",
       "      <td>0.342770</td>\n",
       "      <td>0.291661</td>\n",
       "      <td>0.292763</td>\n",
       "      <td>...</td>\n",
       "      <td>0.112149</td>\n",
       "      <td>0.113520</td>\n",
       "      <td>0.118255</td>\n",
       "      <td>0.119155</td>\n",
       "      <td>0.122370</td>\n",
       "      <td>0.120863</td>\n",
       "      <td>0.120717</td>\n",
       "      <td>0.120675</td>\n",
       "      <td>0.132078</td>\n",
       "      <td>0.130511</td>\n",
       "    </tr>\n",
       "    <tr>\n",
       "      <th>330</th>\n",
       "      <td>395209</td>\n",
       "      <td>Washington, DC</td>\n",
       "      <td>7</td>\n",
       "      <td>0.254252</td>\n",
       "      <td>0.264869</td>\n",
       "      <td>0.277353</td>\n",
       "      <td>0.314773</td>\n",
       "      <td>0.373035</td>\n",
       "      <td>0.319475</td>\n",
       "      <td>0.337635</td>\n",
       "      <td>...</td>\n",
       "      <td>0.174821</td>\n",
       "      <td>0.173381</td>\n",
       "      <td>0.178910</td>\n",
       "      <td>0.177032</td>\n",
       "      <td>0.178584</td>\n",
       "      <td>0.172367</td>\n",
       "      <td>0.169965</td>\n",
       "      <td>0.168010</td>\n",
       "      <td>0.185774</td>\n",
       "      <td>0.186239</td>\n",
       "    </tr>\n",
       "    <tr>\n",
       "      <th>331</th>\n",
       "      <td>394856</td>\n",
       "      <td>Miami-Fort Lauderdale, FL</td>\n",
       "      <td>8</td>\n",
       "      <td>0.267852</td>\n",
       "      <td>0.284229</td>\n",
       "      <td>0.287053</td>\n",
       "      <td>0.332037</td>\n",
       "      <td>0.392403</td>\n",
       "      <td>0.334098</td>\n",
       "      <td>0.360938</td>\n",
       "      <td>...</td>\n",
       "      <td>0.181766</td>\n",
       "      <td>0.183585</td>\n",
       "      <td>0.194088</td>\n",
       "      <td>0.197580</td>\n",
       "      <td>0.203430</td>\n",
       "      <td>0.197855</td>\n",
       "      <td>0.198292</td>\n",
       "      <td>0.199508</td>\n",
       "      <td>0.221129</td>\n",
       "      <td>0.222176</td>\n",
       "    </tr>\n",
       "    <tr>\n",
       "      <th>332</th>\n",
       "      <td>394347</td>\n",
       "      <td>Atlanta, GA</td>\n",
       "      <td>9</td>\n",
       "      <td>0.248301</td>\n",
       "      <td>0.264578</td>\n",
       "      <td>0.271742</td>\n",
       "      <td>0.312490</td>\n",
       "      <td>0.371988</td>\n",
       "      <td>0.307385</td>\n",
       "      <td>0.322451</td>\n",
       "      <td>...</td>\n",
       "      <td>0.113326</td>\n",
       "      <td>0.113214</td>\n",
       "      <td>0.117454</td>\n",
       "      <td>0.118066</td>\n",
       "      <td>0.120754</td>\n",
       "      <td>0.117895</td>\n",
       "      <td>0.117187</td>\n",
       "      <td>0.116937</td>\n",
       "      <td>0.130104</td>\n",
       "      <td>0.131081</td>\n",
       "    </tr>\n",
       "    <tr>\n",
       "      <th>333</th>\n",
       "      <td>394404</td>\n",
       "      <td>Boston, MA</td>\n",
       "      <td>10</td>\n",
       "      <td>0.222021</td>\n",
       "      <td>0.237248</td>\n",
       "      <td>0.239940</td>\n",
       "      <td>0.276893</td>\n",
       "      <td>0.316496</td>\n",
       "      <td>0.271210</td>\n",
       "      <td>0.285134</td>\n",
       "      <td>...</td>\n",
       "      <td>0.212892</td>\n",
       "      <td>0.210786</td>\n",
       "      <td>0.216809</td>\n",
       "      <td>0.217371</td>\n",
       "      <td>0.221722</td>\n",
       "      <td>0.215844</td>\n",
       "      <td>0.214103</td>\n",
       "      <td>0.212644</td>\n",
       "      <td>0.236357</td>\n",
       "      <td>0.239656</td>\n",
       "    </tr>\n",
       "  </tbody>\n",
       "</table>\n",
       "<p>10 rows × 156 columns</p>\n",
       "</div>"
      ],
      "text/plain": [
       "     RegionID                          RegionName  SizeRank   1979-03  \\\n",
       "324    394913                        New York, NY         1  0.261700   \n",
       "325    753899  Los Angeles-Long Beach-Anaheim, CA         2  0.357694   \n",
       "326    394463                         Chicago, IL         3  0.261928   \n",
       "327    394514               Dallas-Fort Worth, TX         4  0.301131   \n",
       "328    394974                    Philadelphia, PA         5  0.204333   \n",
       "329    394692                         Houston, TX         6  0.243178   \n",
       "330    395209                      Washington, DC         7  0.254252   \n",
       "331    394856           Miami-Fort Lauderdale, FL         8  0.267852   \n",
       "332    394347                         Atlanta, GA         9  0.248301   \n",
       "333    394404                          Boston, MA        10  0.222021   \n",
       "\n",
       "      1979-06   1979-09   1979-12   1980-03   1980-06   1980-09    ...     \\\n",
       "324  0.278316  0.284399  0.319438  0.379845  0.318970  0.337586    ...      \n",
       "325  0.388161  0.401762  0.459422  0.541508  0.464528  0.486750    ...      \n",
       "326  0.276790  0.276248  0.309709  0.353099  0.299344  0.295616    ...      \n",
       "327  0.328453  0.340857  0.386321  0.452818  0.376912  0.394715    ...      \n",
       "328  0.215107  0.219247  0.247690  0.295396  0.248018  0.260259    ...      \n",
       "329  0.265630  0.268049  0.294382  0.342770  0.291661  0.292763    ...      \n",
       "330  0.264869  0.277353  0.314773  0.373035  0.319475  0.337635    ...      \n",
       "331  0.284229  0.287053  0.332037  0.392403  0.334098  0.360938    ...      \n",
       "332  0.264578  0.271742  0.312490  0.371988  0.307385  0.322451    ...      \n",
       "333  0.237248  0.239940  0.276893  0.316496  0.271210  0.285134    ...      \n",
       "\n",
       "      2014-12   2015-03   2015-06   2015-09   2015-12   2016-03   2016-06  \\\n",
       "324  0.241961  0.240494  0.247387  0.245957  0.249606  0.241544  0.239503   \n",
       "325  0.383162  0.382531  0.396277  0.395686  0.402116  0.393042  0.390708   \n",
       "326  0.134913  0.134063  0.139074  0.137962  0.138784  0.134412  0.133701   \n",
       "327  0.118163  0.117663  0.124935  0.128167  0.133517  0.131539  0.133219   \n",
       "328  0.141915  0.139100  0.142831  0.141625  0.142089  0.137387  0.135599   \n",
       "329  0.112149  0.113520  0.118255  0.119155  0.122370  0.120863  0.120717   \n",
       "330  0.174821  0.173381  0.178910  0.177032  0.178584  0.172367  0.169965   \n",
       "331  0.181766  0.183585  0.194088  0.197580  0.203430  0.197855  0.198292   \n",
       "332  0.113326  0.113214  0.117454  0.118066  0.120754  0.117895  0.117187   \n",
       "333  0.212892  0.210786  0.216809  0.217371  0.221722  0.215844  0.214103   \n",
       "\n",
       "      2016-09   2016-12   2017-03  \n",
       "324  0.240021  0.265376  0.269264  \n",
       "325  0.386895  0.430334  0.433476  \n",
       "326  0.132856  0.147025  0.149054  \n",
       "327  0.135142  0.149861  0.152387  \n",
       "328  0.135064  0.148746  0.148559  \n",
       "329  0.120675  0.132078  0.130511  \n",
       "330  0.168010  0.185774  0.186239  \n",
       "331  0.199508  0.221129  0.222176  \n",
       "332  0.116937  0.130104  0.131081  \n",
       "333  0.212644  0.236357  0.239656  \n",
       "\n",
       "[10 rows x 156 columns]"
      ]
     },
     "execution_count": 2,
     "metadata": {},
     "output_type": "execute_result"
    }
   ],
   "source": [
    "import affordability_lib.utils as utils\n",
    "\n",
    "afford_df = utils.get_affordability_df()\n",
    "afford_df.head(10)"
   ]
  },
  {
   "cell_type": "code",
   "execution_count": 3,
   "metadata": {},
   "outputs": [
    {
     "data": {
      "image/png": "[encoded data removed]",
      "text/plain": [
       "<Figure size 432x288 with 1 Axes>"
      ]
     },
     "metadata": {},
     "output_type": "display_data"
    }
   ],
   "source": [
    "import matplotlib.pyplot as plt\n",
    "\n",
    "%matplotlib inline\n",
    "utils.plot_affordability_series(afford_df)\n",
    "plt.show()"
   ]
  },
  {
   "cell_type": "markdown",
   "metadata": {},
   "source": [
    "## Getting data ready\n",
    "\n",
    "We will build models that forecast mortgage one-year-out affordability based on the previous 4 years of affordability values. To obtain data for model building we provide the class `TSExampleGenerator` in the `affordability_lib.utils` module. This class does a bunch of things so let's take a look by parts.\n",
    "\n",
    "First, let's initialize the object. Here, we will set important parameters for our model building. We'll explain the parameters below"
   ]
  },
  {
   "cell_type": "code",
   "execution_count": 3,
   "metadata": {},
   "outputs": [],
   "source": [
    "from affordability_lib.utils import TSExampleGenerator\n",
    "example_generator_factory = TSExampleGenerator(afford_df, horizon=4, n_prediction_years=4,\n",
    "                                      n_test_quarters = 4, n_val_quarters=4,\n",
    "                                      normalize=True)\n"
   ]
  },
  {
   "cell_type": "markdown",
   "metadata": {},
   "source": [
    "The parameters we pass have the following purpose:\n",
    "- `afford_df`: the affordability data frame\n",
    "- `horizon=4`: how far from the last observed timepoint do we make predictions, since we are making one-year-out predictions, we have a 4 quarter horizon\n",
    "- `n_prediction_years`: how many years of data we use to make predictions, here we use 4 years, which gives us 16 total time points to use for predictions. Therefore, we have sequences of length 16, to make predictions of sequences of length 1\n",
    "- `n_test_quarters`: we split the dataset into train, validation and test, here we specify that the **last four quarters** of data are to be used as targets for testing\n",
    "- `n_val_quarters`: here we set that the four quarters preceeding the quarters above will be used as targets for validation, all the remaning data will be used for training\n",
    "- `normalize`: standardize timeseries for each region by centering and scaling using region-specific mean and standard deviation. These parameters are computed from the training portion of the sequences only.\n",
    "\n",
    "Once we have the object above we can get generators for the training, validation and testing portions of the dataset as follows:"
   ]
  },
  {
   "cell_type": "code",
   "execution_count": 4,
   "metadata": {},
   "outputs": [
    {
     "name": "stdout",
     "output_type": "stream",
     "text": [
      "<generator object _example_generator at 0x000001CB59A65678>\n",
      "15\n"
     ]
    }
   ],
   "source": [
    "# get generator for testing portion of dataset\n",
    "test_generator, num_test_steps = example_generator_factory.get_test_gen(batchsize=20)\n",
    "print(test_generator)\n",
    "print(num_test_steps)"
   ]
  },
  {
   "cell_type": "markdown",
   "metadata": {},
   "source": [
    "The above states that `test_generator` is a python generator. These are objects we can use in iterations using the `next` keyword. For example, to get a batch of 20 test sequences I can do the following:"
   ]
  },
  {
   "cell_type": "code",
   "execution_count": 6,
   "metadata": {},
   "outputs": [
    {
     "name": "stdout",
     "output_type": "stream",
     "text": [
      "(20, 16, 1)\n",
      "(20,)\n"
     ]
    }
   ],
   "source": [
    "X, y = next(test_generator)\n",
    "print(X.shape)\n",
    "print(y.shape)"
   ]
  },
  {
   "cell_type": "markdown",
   "metadata": {},
   "source": [
    "Note that the shape of `X` has three dimensions because sequence models in keras require it. The first dimension is the number of sequences, the second dimension the number of steps in the sequence (time), and the third dimension the dimensionality of the observations at each timestep (here 1 since we only observe affordability, in other situations this could be a multidimensional vector).\n"
   ]
  },
  {
   "cell_type": "markdown",
   "metadata": {},
   "source": [
    "The way this code is designed, we can call the `next` keyword on these generators infinitely as it is easier to use within keras that way. The `num_test_steps` returned above is used to ensure that we generate enough examples to cycle through at least once through the corresponding portion of the dataset. For instance, the following loop generates all test examples in the dataset."
   ]
  },
  {
   "cell_type": "code",
   "execution_count": 7,
   "metadata": {},
   "outputs": [],
   "source": [
    "for i in range(num_test_steps):\n",
    "    X, y = next(test_generator)"
   ]
  },
  {
   "cell_type": "markdown",
   "metadata": {},
   "source": [
    "## Baseline model\n",
    "\n",
    "To get a sense of the problem, let's use a baseline model that uses average mortgage affordability over the previous four years to predict one-year-out affordability. Let's try this model on the validation dataset and compute it's median absolute error."
   ]
  },
  {
   "cell_type": "code",
   "execution_count": 22,
   "metadata": {},
   "outputs": [
    {
     "name": "stdout",
     "output_type": "stream",
     "text": [
      "0.27454311314151586\n",
      "0.05348667369435827\n"
     ]
    }
   ],
   "source": [
    "import numpy as np\n",
    "\n",
    "def evaluate_naive():\n",
    "    batch_maes = []\n",
    "    gen, num_steps = example_generator_factory.get_val_gen(batchsize=20)\n",
    "    for step in range(num_steps):\n",
    "        X, y = next(gen)\n",
    "        yhat = np.mean(X, axis=1)\n",
    "        mae = np.median(np.abs(y - yhat))\n",
    "        batch_maes.append(mae)\n",
    "    return batch_maes\n",
    "\n",
    "naive_maes = evaluate_naive()\n",
    "print(np.mean(naive_maes))\n",
    "print(np.std(naive_maes))"
   ]
  },
  {
   "cell_type": "markdown",
   "metadata": {},
   "source": [
    "## Model building\n",
    "\n",
    "Let's build a few models for this task using keras. For all of these use `RMSprop` as the gradient descent algorithm, and `median absolute error` as the loss function. For each of the model plot training and validation error across epochs and comment on their behavior. Is the model learning anything, is it overfitting, how stable is it, etc. For each model, report median absolute error on the validation set."
   ]
  },
  {
   "cell_type": "markdown",
   "metadata": {},
   "source": [
    "### Model 1: Linear Regression \n",
    "\n",
    "Train a linear regression model using Keras for this task.\n",
    "\n",
    "- Recall that for linear regression we want to build a model\n",
    "\n",
    "$$\n",
    "f = Xw + b\n",
    "$$ \n",
    "\n",
    "where in this case, $X$ will be a matrix with 16 columns, corresponding to the values of affordability for the previous four years.\n",
    "\n",
    "The first layer in your network will be a `Flatten` layer since this is not a sequence model. This is true of the next two models as well. \n",
    "\n",
    "The general structure of your models will be as follows:"
   ]
  },
  {
   "cell_type": "code",
   "execution_count": 8,
   "metadata": {},
   "outputs": [
    {
     "name": "stderr",
     "output_type": "stream",
     "text": [
      "C:\\ProgramData\\Anaconda3\\lib\\site-packages\\h5py\\__init__.py:36: FutureWarning: Conversion of the second argument of issubdtype from `float` to `np.floating` is deprecated. In future, it will be treated as `np.float64 == np.dtype(float).type`.\n",
      "  from ._conv import register_converters as _register_converters\n"
     ]
    }
   ],
   "source": [
    "import tensorflow as tf\n",
    "from tensorflow.keras.models import Sequential\n",
    "from tensorflow.keras.layers import Dense, Dropout, LSTM, CuDNNLSTM, BatchNormalization, Flatten, SimpleRNN, TimeDistributed\n",
    "from tensorflow.keras.callbacks import TensorBoard\n",
    "from tensorflow.keras.callbacks import ModelCheckpoint\n",
    "from tensorflow.keras.optimizers import SGD, RMSprop"
   ]
  },
  {
   "cell_type": "code",
   "execution_count": 4,
   "metadata": {},
   "outputs": [],
   "source": [
    "train_gen, num_train_steps = example_generator_factory.get_train_gen(batchsize=20)\n",
    "val_gen, num_val_steps = example_generator_factory.get_val_gen(batchsize=20)"
   ]
  },
  {
   "cell_type": "code",
   "execution_count": 11,
   "metadata": {},
   "outputs": [
    {
     "name": "stdout",
     "output_type": "stream",
     "text": [
      "Epoch 1/20\n",
      "540/540 [==============================] - 2s 4ms/step - loss: 0.1391 - acc: 0.0000e+00 - val_loss: 0.2215 - val_acc: 0.0000e+00\n",
      "Epoch 2/20\n",
      "540/540 [==============================] - 2s 3ms/step - loss: 0.1014 - acc: 0.0000e+00 - val_loss: 0.2248 - val_acc: 0.0000e+00\n",
      "Epoch 3/20\n",
      "540/540 [==============================] - 2s 3ms/step - loss: 0.0840 - acc: 0.0000e+00 - val_loss: 0.2208 - val_acc: 0.0000e+00\n",
      "Epoch 4/20\n",
      "540/540 [==============================] - 2s 3ms/step - loss: 0.0761 - acc: 0.0000e+00 - val_loss: 0.1603 - val_acc: 0.0000e+00\n",
      "Epoch 5/20\n",
      "540/540 [==============================] - 2s 4ms/step - loss: 0.0713 - acc: 0.0000e+00 - val_loss: 0.1774 - val_acc: 0.0000e+00\n",
      "Epoch 6/20\n",
      "540/540 [==============================] - 2s 4ms/step - loss: 0.0684 - acc: 0.0000e+00 - val_loss: 0.1283 - val_acc: 0.0000e+00\n",
      "Epoch 7/20\n",
      "540/540 [==============================] - 2s 4ms/step - loss: 0.0660 - acc: 0.0000e+00 - val_loss: 0.2085 - val_acc: 0.0000e+00\n",
      "Epoch 8/20\n",
      "540/540 [==============================] - 2s 4ms/step - loss: 0.0643 - acc: 0.0000e+00 - val_loss: 0.1947 - val_acc: 0.0000e+00\n",
      "Epoch 9/20\n",
      "540/540 [==============================] - 2s 4ms/step - loss: 0.0627 - acc: 0.0000e+00 - val_loss: 0.1251 - val_acc: 0.0000e+00\n",
      "Epoch 10/20\n",
      "540/540 [==============================] - 2s 4ms/step - loss: 0.0617 - acc: 0.0000e+00 - val_loss: 0.0967 - val_acc: 0.0000e+00\n",
      "Epoch 11/20\n",
      "540/540 [==============================] - 2s 4ms/step - loss: 0.0607 - acc: 0.0000e+00 - val_loss: 0.1037 - val_acc: 0.0000e+00\n",
      "Epoch 12/20\n",
      "540/540 [==============================] - 2s 4ms/step - loss: 0.0595 - acc: 0.0000e+00 - val_loss: 0.1211 - val_acc: 0.0000e+00\n",
      "Epoch 13/20\n",
      "540/540 [==============================] - 2s 4ms/step - loss: 0.0587 - acc: 0.0000e+00 - val_loss: 0.1455 - val_acc: 0.0000e+00\n",
      "Epoch 14/20\n",
      "540/540 [==============================] - 2s 4ms/step - loss: 0.0580 - acc: 0.0000e+00 - val_loss: 0.1267 - val_acc: 0.0000e+00\n",
      "Epoch 15/20\n",
      "540/540 [==============================] - ETA: 0s - loss: 0.0574 - acc: 0.0000e+0 - 2s 4ms/step - loss: 0.0574 - acc: 0.0000e+00 - val_loss: 0.0982 - val_acc: 0.0000e+00\n",
      "Epoch 16/20\n",
      "540/540 [==============================] - 2s 4ms/step - loss: 0.0562 - acc: 0.0000e+00 - val_loss: 0.0925 - val_acc: 0.0000e+00\n",
      "Epoch 17/20\n",
      "540/540 [==============================] - 2s 4ms/step - loss: 0.0559 - acc: 0.0000e+00 - val_loss: 0.1118 - val_acc: 0.0000e+00\n",
      "Epoch 18/20\n",
      "540/540 [==============================] - 2s 4ms/step - loss: 0.0553 - acc: 0.0000e+00 - val_loss: 0.1110 - val_acc: 0.0000e+00\n",
      "Epoch 19/20\n",
      "540/540 [==============================] - 2s 4ms/step - loss: 0.0546 - acc: 0.0000e+00 - val_loss: 0.0929 - val_acc: 0.0000e+00\n",
      "Epoch 20/20\n",
      "540/540 [==============================] - 2s 4ms/step - loss: 0.0541 - acc: 0.0000e+00 - val_loss: 0.1138 - val_acc: 0.0000e+00\n"
     ]
    }
   ],
   "source": [
    "model = Sequential()\n",
    "model.add(Flatten(input_shape=(16,1)))\n",
    "model.add(Dense(526, activation='relu'))\n",
    "model.add(Dense(1, activation='linear'))\n",
    "\n",
    "rmsprop = RMSprop(lr=0.001)\n",
    "\n",
    "model.compile(optimizer=rmsprop, loss='mae', metrics=['accuracy'])\n",
    "\n",
    "history = model.fit_generator(train_gen,\n",
    "                              steps_per_epoch=num_train_steps,\n",
    "                              epochs=20, # however many epochs you plan to use\n",
    "                              validation_data=val_gen,\n",
    "                              validation_steps=num_val_steps)"
   ]
  },
  {
   "cell_type": "code",
   "execution_count": 13,
   "metadata": {},
   "outputs": [
    {
     "name": "stdout",
     "output_type": "stream",
     "text": [
      "Epoch 1/20\n",
      "540/540 [==============================] - 2s 4ms/step - loss: 0.1085 - acc: 0.0000e+00 - val_loss: 0.2121 - val_acc: 0.0000e+00\n",
      "Epoch 2/20\n",
      "540/540 [==============================] - 2s 3ms/step - loss: 0.0933 - acc: 0.0000e+00 - val_loss: 0.2250 - val_acc: 0.0000e+00\n",
      "Epoch 3/20\n",
      "540/540 [==============================] - 2s 3ms/step - loss: 0.0848 - acc: 0.0000e+00 - val_loss: 0.0878 - val_acc: 0.0000e+00\n",
      "Epoch 4/20\n",
      "540/540 [==============================] - 2s 3ms/step - loss: 0.0787 - acc: 0.0000e+00 - val_loss: 0.1879 - val_acc: 0.0000e+00\n",
      "Epoch 5/20\n",
      "540/540 [==============================] - 2s 3ms/step - loss: 0.0745 - acc: 0.0000e+00 - val_loss: 0.0965 - val_acc: 0.0000e+00\n",
      "Epoch 6/20\n",
      "540/540 [==============================] - 2s 3ms/step - loss: 0.0709 - acc: 0.0000e+00 - val_loss: 0.1554 - val_acc: 0.0000e+00\n",
      "Epoch 7/20\n",
      "540/540 [==============================] - 2s 3ms/step - loss: 0.0680 - acc: 0.0000e+00 - val_loss: 0.1844 - val_acc: 0.0000e+00\n",
      "Epoch 8/20\n",
      "540/540 [==============================] - 2s 3ms/step - loss: 0.0656 - acc: 0.0000e+00 - val_loss: 0.1496 - val_acc: 0.0000e+00\n",
      "Epoch 9/20\n",
      "540/540 [==============================] - 2s 3ms/step - loss: 0.0640 - acc: 0.0000e+00 - val_loss: 0.1579 - val_acc: 0.0000e+00\n",
      "Epoch 10/20\n",
      "540/540 [==============================] - 2s 3ms/step - loss: 0.0624 - acc: 0.0000e+00 - val_loss: 0.1414 - val_acc: 0.0000e+00\n",
      "Epoch 11/20\n",
      "540/540 [==============================] - 2s 3ms/step - loss: 0.0607 - acc: 0.0000e+00 - val_loss: 0.1456 - val_acc: 0.0000e+00\n",
      "Epoch 12/20\n",
      "540/540 [==============================] - 2s 4ms/step - loss: 0.0591 - acc: 0.0000e+00 - val_loss: 0.1407 - val_acc: 0.0000e+00\n",
      "Epoch 13/20\n",
      "540/540 [==============================] - 2s 3ms/step - loss: 0.0575 - acc: 0.0000e+00 - val_loss: 0.1177 - val_acc: 0.0000e+00\n",
      "Epoch 14/20\n",
      "540/540 [==============================] - 2s 3ms/step - loss: 0.0558 - acc: 0.0000e+00 - val_loss: 0.1087 - val_acc: 0.0000e+00\n",
      "Epoch 15/20\n",
      "540/540 [==============================] - 2s 3ms/step - loss: 0.0547 - acc: 0.0000e+00 - val_loss: 0.1330 - val_acc: 0.0000e+00\n",
      "Epoch 16/20\n",
      "540/540 [==============================] - 2s 3ms/step - loss: 0.0539 - acc: 0.0000e+00 - val_loss: 0.1021 - val_acc: 0.0000e+00\n",
      "Epoch 17/20\n",
      "540/540 [==============================] - 2s 3ms/step - loss: 0.0538 - acc: 0.0000e+00 - val_loss: 0.1310 - val_acc: 0.0000e+00\n",
      "Epoch 18/20\n",
      "540/540 [==============================] - 2s 3ms/step - loss: 0.0536 - acc: 0.0000e+00 - val_loss: 0.1142 - val_acc: 0.0000e+00\n",
      "Epoch 19/20\n",
      "540/540 [==============================] - 2s 4ms/step - loss: 0.0529 - acc: 0.0000e+00 - val_loss: 0.0916 - val_acc: 0.0000e+00\n",
      "Epoch 20/20\n",
      "540/540 [==============================] - 2s 3ms/step - loss: 0.0524 - acc: 0.0000e+00 - val_loss: 0.1011 - val_acc: 0.0000e+00\n"
     ]
    }
   ],
   "source": [
    "model = Sequential()\n",
    "model.add(Flatten(input_shape=(16,1)))\n",
    "model.add(Dense(128, activation='relu'))\n",
    "model.add(Dense(1, activation='linear'))\n",
    "\n",
    "rmsprop = RMSprop()\n",
    "\n",
    "model.compile(optimizer=rmsprop, loss='mae', metrics=['accuracy'])\n",
    "\n",
    "history = model.fit_generator(train_gen,\n",
    "                              steps_per_epoch=num_train_steps,\n",
    "                              epochs=20, # however many epochs you plan to use\n",
    "                              validation_data=val_gen,\n",
    "                              validation_steps=num_val_steps)"
   ]
  },
  {
   "cell_type": "code",
   "execution_count": 14,
   "metadata": {},
   "outputs": [
    {
     "name": "stdout",
     "output_type": "stream",
     "text": [
      "Epoch 1/20\n",
      "540/540 [==============================] - 3s 5ms/step - loss: 0.1504 - acc: 0.0000e+00 - val_loss: 0.2238 - val_acc: 0.0000e+00\n",
      "Epoch 2/20\n",
      "540/540 [==============================] - 2s 4ms/step - loss: 0.1042 - acc: 0.0000e+00 - val_loss: 0.2008 - val_acc: 0.0000e+00\n",
      "Epoch 3/20\n",
      "540/540 [==============================] - 2s 4ms/step - loss: 0.0866 - acc: 0.0000e+00 - val_loss: 0.2449 - val_acc: 0.0000e+00\n",
      "Epoch 4/20\n",
      "540/540 [==============================] - 2s 4ms/step - loss: 0.0776 - acc: 0.0000e+00 - val_loss: 0.2048 - val_acc: 0.0000e+00\n",
      "Epoch 5/20\n",
      "540/540 [==============================] - 2s 4ms/step - loss: 0.0724 - acc: 0.0000e+00 - val_loss: 0.2097 - val_acc: 0.0000e+00\n",
      "Epoch 6/20\n",
      "540/540 [==============================] - 2s 4ms/step - loss: 0.0690 - acc: 0.0000e+00 - val_loss: 0.2159 - val_acc: 0.0000e+00\n",
      "Epoch 7/20\n",
      "540/540 [==============================] - 2s 4ms/step - loss: 0.0661 - acc: 0.0000e+00 - val_loss: 0.2522 - val_acc: 0.0000e+00\n",
      "Epoch 8/20\n",
      "540/540 [==============================] - 2s 4ms/step - loss: 0.0636 - acc: 0.0000e+00 - val_loss: 0.2264 - val_acc: 0.0000e+00\n",
      "Epoch 9/20\n",
      "540/540 [==============================] - 2s 4ms/step - loss: 0.0622 - acc: 0.0000e+00 - val_loss: 0.1936 - val_acc: 0.0000e+00\n",
      "Epoch 10/20\n",
      "540/540 [==============================] - 2s 4ms/step - loss: 0.0610 - acc: 0.0000e+00 - val_loss: 0.2139 - val_acc: 0.0000e+00\n",
      "Epoch 11/20\n",
      "540/540 [==============================] - 2s 4ms/step - loss: 0.0598 - acc: 0.0000e+00 - val_loss: 0.2071 - val_acc: 0.0000e+00\n",
      "Epoch 12/20\n",
      "540/540 [==============================] - 2s 4ms/step - loss: 0.0588 - acc: 0.0000e+00 - val_loss: 0.1917 - val_acc: 0.0000e+00\n",
      "Epoch 13/20\n",
      "540/540 [==============================] - 2s 4ms/step - loss: 0.0586 - acc: 0.0000e+00 - val_loss: 0.1874 - val_acc: 0.0000e+00\n",
      "Epoch 14/20\n",
      "540/540 [==============================] - 2s 4ms/step - loss: 0.0579 - acc: 0.0000e+00 - val_loss: 0.1963 - val_acc: 0.0000e+00\n",
      "Epoch 15/20\n",
      "540/540 [==============================] - 2s 4ms/step - loss: 0.0570 - acc: 0.0000e+00 - val_loss: 0.1871 - val_acc: 0.0000e+00\n",
      "Epoch 16/20\n",
      "540/540 [==============================] - 2s 4ms/step - loss: 0.0564 - acc: 0.0000e+00 - val_loss: 0.1876 - val_acc: 0.0000e+00\n",
      "Epoch 17/20\n",
      "540/540 [==============================] - 2s 4ms/step - loss: 0.0561 - acc: 0.0000e+00 - val_loss: 0.1746 - val_acc: 0.0000e+00\n",
      "Epoch 18/20\n",
      "540/540 [==============================] - 2s 4ms/step - loss: 0.0553 - acc: 0.0000e+00 - val_loss: 0.1668 - val_acc: 0.0000e+00\n",
      "Epoch 19/20\n",
      "540/540 [==============================] - 2s 4ms/step - loss: 0.0547 - acc: 0.0000e+00 - val_loss: 0.1672 - val_acc: 0.0000e+00\n",
      "Epoch 20/20\n",
      "540/540 [==============================] - 2s 4ms/step - loss: 0.0542 - acc: 0.0000e+00 - val_loss: 0.1801 - val_acc: 0.0000e+00\n"
     ]
    }
   ],
   "source": [
    "model = Sequential()\n",
    "model.add(Flatten(input_shape=(16,1)))\n",
    "model.add(Dense(526, activation='relu'))\n",
    "model.add(Dense(1, activation='linear'))\n",
    "\n",
    "rmsprop = RMSprop()\n",
    "\n",
    "model.compile(optimizer=rmsprop, loss='mae', metrics=['accuracy'])\n",
    "\n",
    "history = model.fit_generator(train_gen,\n",
    "                              steps_per_epoch=num_train_steps,\n",
    "                              epochs=20, # however many epochs you plan to use\n",
    "                              validation_data=val_gen,\n",
    "                              validation_steps=num_val_steps)"
   ]
  },
  {
   "cell_type": "markdown",
   "metadata": {},
   "source": [
    "## Conclusion\n",
    "\n",
    "- It's better to use default than setting learning rate in RMSprop optimizer:\n",
    "        For example: RMSprop() is better than RMSprop(lr=0.001) \n",
    "- For one layer NN, increasing hidden layer unit number doesn't improve results:  "
   ]
  },
  {
   "cell_type": "code",
   "execution_count": 16,
   "metadata": {},
   "outputs": [
    {
     "name": "stdout",
     "output_type": "stream",
     "text": [
      "Training -----------\n",
      "train cost:  [0.035631772, 0.0]\n",
      "train cost:  [0.040394984, 0.0]\n",
      "train cost:  [0.06346612, 0.0]\n",
      "train cost:  [0.041374695, 0.0]\n",
      "train cost:  [0.033819202, 0.0]\n",
      "train cost:  [0.03293246, 0.0]\n"
     ]
    }
   ],
   "source": [
    "print('Training -----------')\n",
    "\n",
    "for step in range(num_train_steps):\n",
    "    X_train, y_train = next(train_gen)\n",
    "    #print(X_train.shape[1:])\n",
    "    cost = model.train_on_batch(X_train, y_train)\n",
    "    if step % 100 == 0:\n",
    "        print('train cost: ', cost)"
   ]
  },
  {
   "cell_type": "code",
   "execution_count": 17,
   "metadata": {},
   "outputs": [
    {
     "name": "stdout",
     "output_type": "stream",
     "text": [
      "Evaluating -----------\n",
      "20/20 [==============================] - 0s 100us/step\n",
      "Evaluation Score:  [0.12623417377471924, 0.0]\n",
      "20/20 [==============================] - 0s 150us/step\n",
      "Evaluation Score:  [0.11337611824274063, 0.0]\n",
      "20/20 [==============================] - 0s 250us/step\n",
      "Evaluation Score:  [0.09064967930316925, 0.0]\n",
      "20/20 [==============================] - 0s 227us/step\n",
      "Evaluation Score:  [0.13926276564598083, 0.0]\n",
      "20/20 [==============================] - 0s 150us/step\n",
      "Evaluation Score:  [0.12623417377471924, 0.0]\n",
      "20/20 [==============================] - 0s 100us/step\n",
      "Evaluation Score:  [0.11337611824274063, 0.0]\n",
      "20/20 [==============================] - 0s 50us/step\n",
      "Evaluation Score:  [0.09064967930316925, 0.0]\n",
      "20/20 [==============================] - 0s 100us/step\n",
      "Evaluation Score:  [0.13926276564598083, 0.0]\n",
      "20/20 [==============================] - 0s 150us/step\n",
      "Evaluation Score:  [0.12623417377471924, 0.0]\n",
      "20/20 [==============================] - 0s 100us/step\n",
      "Evaluation Score:  [0.11337611824274063, 0.0]\n",
      "20/20 [==============================] - 0s 98us/step\n",
      "Evaluation Score:  [0.09064967930316925, 0.0]\n",
      "20/20 [==============================] - 0s 100us/step\n",
      "Evaluation Score:  [0.13926276564598083, 0.0]\n",
      "20/20 [==============================] - 0s 450us/step\n",
      "Evaluation Score:  [0.12623417377471924, 0.0]\n",
      "20/20 [==============================] - 0s 300us/step\n",
      "Evaluation Score:  [0.11337611824274063, 0.0]\n",
      "20/20 [==============================] - 0s 350us/step\n",
      "Evaluation Score:  [0.09064967930316925, 0.0]\n"
     ]
    }
   ],
   "source": [
    "print('Evaluating -----------')\n",
    "\n",
    "for step in range(num_val_steps):\n",
    "    X_test, y_test = next(val_gen)\n",
    "\n",
    "    score = model.evaluate(X_test, y_test,verbose=1)\n",
    "    print('Evaluation Score: ', score)"
   ]
  },
  {
   "cell_type": "code",
   "execution_count": 18,
   "metadata": {},
   "outputs": [
    {
     "name": "stdout",
     "output_type": "stream",
     "text": [
      "dict_keys(['val_loss', 'val_acc', 'loss', 'acc'])\n"
     ]
    }
   ],
   "source": [
    "%matplotlib inline\n",
    "import matplotlib.pyplot as plt\n",
    "\n",
    "print(history.history.keys())"
   ]
  },
  {
   "cell_type": "code",
   "execution_count": 19,
   "metadata": {},
   "outputs": [
    {
     "data": {
      "image/png": "[encoded data removed]",
      "text/plain": [
       "<Figure size 432x288 with 1 Axes>"
      ]
     },
     "metadata": {},
     "output_type": "display_data"
    }
   ],
   "source": [
    "# you can use history to make plots of training and validation error\n",
    "# after that you can make predictions with model.predict\n",
    "\n",
    "# summarize history for accuracy\n",
    "plt.plot(history.history['acc'])\n",
    "plt.plot(history.history['val_acc'])\n",
    "plt.title('model accuracy')\n",
    "plt.ylabel('accuracy')\n",
    "plt.xlabel('epoch')\n",
    "plt.legend(['train', 'test'], loc='upper left')\n",
    "plt.show()"
   ]
  },
  {
   "cell_type": "code",
   "execution_count": 20,
   "metadata": {},
   "outputs": [
    {
     "data": {
      "image/png": "[encoded data removed]",
      "text/plain": [
       "<Figure size 432x288 with 1 Axes>"
      ]
     },
     "metadata": {},
     "output_type": "display_data"
    }
   ],
   "source": [
    "# summarize history for loss\n",
    "plt.plot(history.history['loss'])\n",
    "plt.plot(history.history['val_loss'])\n",
    "plt.title('model loss')\n",
    "plt.ylabel('loss')\n",
    "plt.xlabel('epoch')\n",
    "plt.legend(['train', 'test'], loc='upper left')\n",
    "plt.show()"
   ]
  },
  {
   "cell_type": "markdown",
   "metadata": {},
   "source": [
    "### Model 2: Single Layer Feed-Forward Neural Network\n",
    "\n",
    "Train a single layer feed forward neural network using Keras.\n",
    "\n",
    "Don't worry about tuning parameters yet (i.e., the number of units in the hidden layer units). Choose a number and go with it.\n"
   ]
  },
  {
   "cell_type": "code",
   "execution_count": 32,
   "metadata": {},
   "outputs": [
    {
     "name": "stdout",
     "output_type": "stream",
     "text": [
      "Epoch 1/20\n",
      "540/540 [==============================] - 4s 7ms/step - loss: -18.0173 - acc: 0.0000e+00 - val_loss: -16.6599 - val_acc: 0.0000e+00\n",
      "Epoch 2/20\n",
      "540/540 [==============================] - 2s 4ms/step - loss: -18.0453 - acc: 0.0000e+00 - val_loss: -16.8421 - val_acc: 0.0000e+00\n",
      "Epoch 3/20\n",
      "540/540 [==============================] - 2s 4ms/step - loss: -18.0453 - acc: 0.0000e+00 - val_loss: -16.8421 - val_acc: 0.0000e+00\n",
      "Epoch 4/20\n",
      "540/540 [==============================] - 2s 4ms/step - loss: -18.0453 - acc: 0.0000e+00 - val_loss: -16.8421 - val_acc: 0.0000e+00\n",
      "Epoch 5/20\n",
      "540/540 [==============================] - 2s 4ms/step - loss: -18.0453 - acc: 0.0000e+00 - val_loss: -16.8167 - val_acc: 0.0000e+00\n",
      "Epoch 6/20\n",
      "540/540 [==============================] - 2s 4ms/step - loss: -18.0453 - acc: 0.0000e+00 - val_loss: -16.7553 - val_acc: 0.0000e+00\n",
      "Epoch 7/20\n",
      "540/540 [==============================] - 2s 4ms/step - loss: -18.0453 - acc: 0.0000e+00 - val_loss: -16.6599 - val_acc: 0.0000e+00\n",
      "Epoch 8/20\n",
      "540/540 [==============================] - 2s 4ms/step - loss: -18.0453 - acc: 0.0000e+00 - val_loss: -16.8421 - val_acc: 0.0000e+00\n",
      "Epoch 9/20\n",
      "540/540 [==============================] - 2s 4ms/step - loss: -18.0453 - acc: 0.0000e+00 - val_loss: -16.8421 - val_acc: 0.0000e+00\n",
      "Epoch 10/20\n",
      "540/540 [==============================] - 2s 4ms/step - loss: -18.0453 - acc: 0.0000e+00 - val_loss: -16.8421 - val_acc: 0.0000e+00\n",
      "Epoch 11/20\n",
      "540/540 [==============================] - 2s 4ms/step - loss: -18.0453 - acc: 0.0000e+00 - val_loss: -16.7553 - val_acc: 0.0000e+00\n",
      "Epoch 12/20\n",
      "540/540 [==============================] - 2s 4ms/step - loss: -18.0453 - acc: 0.0000e+00 - val_loss: -16.8167 - val_acc: 0.0000e+00\n",
      "Epoch 13/20\n",
      "540/540 [==============================] - 2s 4ms/step - loss: -18.0453 - acc: 0.0000e+00 - val_loss: -16.8421 - val_acc: 0.0000e+00\n",
      "Epoch 14/20\n",
      "540/540 [==============================] - 2s 4ms/step - loss: -18.0453 - acc: 0.0000e+00 - val_loss: -16.8421 - val_acc: 0.0000e+00\n",
      "Epoch 15/20\n",
      "540/540 [==============================] - 2s 4ms/step - loss: -18.0453 - acc: 0.0000e+00 - val_loss: -16.6599 - val_acc: 0.0000e+00\n",
      "Epoch 16/20\n",
      "540/540 [==============================] - 2s 4ms/step - loss: -18.0453 - acc: 0.0000e+00 - val_loss: -16.6599 - val_acc: 0.0000e+00\n",
      "Epoch 17/20\n",
      "540/540 [==============================] - 2s 4ms/step - loss: -18.0453 - acc: 0.0000e+00 - val_loss: -16.6599 - val_acc: 0.0000e+00\n",
      "Epoch 18/20\n",
      "540/540 [==============================] - 2s 4ms/step - loss: -18.0453 - acc: 0.0000e+00 - val_loss: -16.8167 - val_acc: 0.0000e+00\n",
      "Epoch 19/20\n",
      "540/540 [==============================] - 2s 4ms/step - loss: -18.0453 - acc: 0.0000e+00 - val_loss: -16.7553 - val_acc: 0.0000e+00\n",
      "Epoch 20/20\n",
      "540/540 [==============================] - 3s 5ms/step - loss: -18.0453 - acc: 0.0000e+00 - val_loss: -16.8167 - val_acc: 0.0000e+00\n"
     ]
    }
   ],
   "source": [
    "model = Sequential()\n",
    "model.add(Flatten(input_shape=(16,1)))\n",
    "model.add(Dense(768, kernel_initializer='uniform', activation='relu'))\n",
    "model.add(Dense(1, activation='linear'))\n",
    "\n",
    "#sgd = SGD(lr=0.01)\n",
    "sgd = SGD()\n",
    "model.compile(loss='binary_crossentropy', optimizer=sgd, metrics=['accuracy'])\n",
    "\n",
    "history = model.fit_generator(train_gen,\n",
    "                              steps_per_epoch=num_train_steps,\n",
    "                              epochs=20, # however many epochs you plan to use\n",
    "                              validation_data=val_gen,\n",
    "                              validation_steps=num_val_steps)"
   ]
  },
  {
   "cell_type": "code",
   "execution_count": 33,
   "metadata": {},
   "outputs": [
    {
     "data": {
      "image/png": "[encoded data removed]",
      "text/plain": [
       "<Figure size 432x288 with 1 Axes>"
      ]
     },
     "metadata": {},
     "output_type": "display_data"
    }
   ],
   "source": [
    "# summarize history for loss\n",
    "plt.plot(history.history['loss'])\n",
    "plt.plot(history.history['val_loss'])\n",
    "plt.title('model loss')\n",
    "plt.ylabel('loss')\n",
    "plt.xlabel('epoch')\n",
    "plt.legend(['train', 'test'], loc='upper left')\n",
    "plt.show()"
   ]
  },
  {
   "cell_type": "code",
   "execution_count": 34,
   "metadata": {},
   "outputs": [
    {
     "name": "stdout",
     "output_type": "stream",
     "text": [
      "Epoch 1/20\n",
      "540/540 [==============================] - 4s 7ms/step - loss: -18.0173 - acc: 0.0000e+00 - val_loss: -16.7553 - val_acc: 0.0000e+00\n",
      "Epoch 2/20\n",
      "540/540 [==============================] - 2s 4ms/step - loss: -18.0453 - acc: 0.0000e+00 - val_loss: -16.8167 - val_acc: 0.0000e+00\n",
      "Epoch 3/20\n",
      "540/540 [==============================] - 2s 5ms/step - loss: -18.0453 - acc: 0.0000e+00 - val_loss: -16.7553 - val_acc: 0.0000e+00\n",
      "Epoch 4/20\n",
      "540/540 [==============================] - 2s 5ms/step - loss: -18.0453 - acc: 0.0000e+00 - val_loss: -16.6599 - val_acc: 0.0000e+00\n",
      "Epoch 5/20\n",
      "540/540 [==============================] - 2s 4ms/step - loss: -18.0453 - acc: 0.0000e+00 - val_loss: -16.8421 - val_acc: 0.0000e+00\n",
      "Epoch 6/20\n",
      "540/540 [==============================] - 2s 4ms/step - loss: -18.0453 - acc: 0.0000e+00 - val_loss: -16.8167 - val_acc: 0.0000e+00\n",
      "Epoch 7/20\n",
      "540/540 [==============================] - 2s 4ms/step - loss: -18.0453 - acc: 0.0000e+00 - val_loss: -16.6599 - val_acc: 0.0000e+00\n",
      "Epoch 8/20\n",
      "540/540 [==============================] - 3s 5ms/step - loss: -18.0453 - acc: 0.0000e+00 - val_loss: -16.6599 - val_acc: 0.0000e+00\n",
      "Epoch 9/20\n",
      "540/540 [==============================] - 2s 4ms/step - loss: -18.0453 - acc: 0.0000e+00 - val_loss: -16.8167 - val_acc: 0.0000e+00\n",
      "Epoch 10/20\n",
      "540/540 [==============================] - 2s 4ms/step - loss: -18.0453 - acc: 0.0000e+00 - val_loss: -16.7553 - val_acc: 0.0000e+00\n",
      "Epoch 11/20\n",
      "540/540 [==============================] - 2s 4ms/step - loss: -18.0453 - acc: 0.0000e+00 - val_loss: -16.6599 - val_acc: 0.0000e+00\n",
      "Epoch 12/20\n",
      "540/540 [==============================] - 2s 4ms/step - loss: -18.0453 - acc: 0.0000e+00 - val_loss: -16.6599 - val_acc: 0.0000e+00\n",
      "Epoch 13/20\n",
      "540/540 [==============================] - 2s 4ms/step - loss: -18.0453 - acc: 0.0000e+00 - val_loss: -16.6599 - val_acc: 0.0000e+00\n",
      "Epoch 14/20\n",
      "540/540 [==============================] - 2s 4ms/step - loss: -18.0453 - acc: 0.0000e+00 - val_loss: -16.6599 - val_acc: 0.0000e+00\n",
      "Epoch 15/20\n",
      "540/540 [==============================] - 3s 5ms/step - loss: -18.0453 - acc: 0.0000e+00 - val_loss: -16.7553 - val_acc: 0.0000e+00\n",
      "Epoch 16/20\n",
      "540/540 [==============================] - 2s 4ms/step - loss: -18.0453 - acc: 0.0000e+00 - val_loss: -16.7553 - val_acc: 0.0000e+00\n",
      "Epoch 17/20\n",
      "540/540 [==============================] - 2s 4ms/step - loss: -18.0453 - acc: 0.0000e+00 - val_loss: -16.8167 - val_acc: 0.0000e+00\n",
      "Epoch 18/20\n",
      "540/540 [==============================] - 2s 4ms/step - loss: -18.0453 - acc: 0.0000e+00 - val_loss: -16.8421 - val_acc: 0.0000e+00\n",
      "Epoch 19/20\n",
      "540/540 [==============================] - 2s 4ms/step - loss: -18.0453 - acc: 0.0000e+00 - val_loss: -16.8167 - val_acc: 0.0000e+00\n",
      "Epoch 20/20\n",
      "540/540 [==============================] - 2s 4ms/step - loss: -18.0453 - acc: 0.0000e+00 - val_loss: -16.8167 - val_acc: 0.0000e+00\n"
     ]
    }
   ],
   "source": [
    "model = Sequential()\n",
    "model.add(Flatten(input_shape=(16,1)))\n",
    "model.add(Dense(768, kernel_initializer='uniform', activation='relu'))\n",
    "model.add(Dense(1, activation='linear'))\n",
    "\n",
    "sgd = SGD(lr=0.001)\n",
    "#sgd = SGD()\n",
    "model.compile(loss='binary_crossentropy', optimizer=sgd, metrics=['accuracy'])\n",
    "\n",
    "history = model.fit_generator(train_gen,\n",
    "                              steps_per_epoch=num_train_steps,\n",
    "                              epochs=20, # however many epochs you plan to use\n",
    "                              validation_data=val_gen,\n",
    "                              validation_steps=num_val_steps)"
   ]
  },
  {
   "cell_type": "code",
   "execution_count": 35,
   "metadata": {},
   "outputs": [
    {
     "data": {
      "image/png": "[encoded data removed]",
      "text/plain": [
       "<Figure size 432x288 with 1 Axes>"
      ]
     },
     "metadata": {},
     "output_type": "display_data"
    }
   ],
   "source": [
    "# summarize history for loss\n",
    "plt.plot(history.history['loss'])\n",
    "plt.plot(history.history['val_loss'])\n",
    "plt.title('model loss')\n",
    "plt.ylabel('loss')\n",
    "plt.xlabel('epoch')\n",
    "plt.legend(['train', 'test'], loc='upper left')\n",
    "plt.show()"
   ]
  },
  {
   "cell_type": "code",
   "execution_count": 29,
   "metadata": {},
   "outputs": [
    {
     "name": "stdout",
     "output_type": "stream",
     "text": [
      "Epoch 1/20\n",
      "540/540 [==============================] - 12s 23ms/step - loss: -18.0453 - acc: 0.0000e+00 - val_loss: -14.2716 - val_acc: 0.0000e+00\n",
      "Epoch 2/20\n",
      "540/540 [==============================] - 10s 19ms/step - loss: -18.0453 - acc: 0.0000e+00 - val_loss: -14.0301 - val_acc: 0.0000e+00\n",
      "Epoch 3/20\n",
      "540/540 [==============================] - 12s 22ms/step - loss: -18.0453 - acc: 0.0000e+00 - val_loss: -14.0301 - val_acc: 0.0000e+00\n",
      "Epoch 4/20\n",
      "540/540 [==============================] - 11s 21ms/step - loss: -18.0453 - acc: 0.0000e+00 - val_loss: -14.0301 - val_acc: 0.0000e+00\n",
      "Epoch 5/20\n",
      "540/540 [==============================] - 10s 19ms/step - loss: -18.0453 - acc: 0.0000e+00 - val_loss: -14.0301 - val_acc: 0.0000e+00\n",
      "Epoch 6/20\n",
      "540/540 [==============================] - 11s 21ms/step - loss: -18.0453 - acc: 0.0000e+00 - val_loss: -13.8975 - val_acc: 0.0000e+00\n",
      "Epoch 7/20\n",
      "540/540 [==============================] - 11s 21ms/step - loss: -18.0453 - acc: 0.0000e+00 - val_loss: -13.8975 - val_acc: 0.0000e+00\n",
      "Epoch 8/20\n",
      "540/540 [==============================] - 11s 21ms/step - loss: -18.0453 - acc: 0.0000e+00 - val_loss: -14.1320 - val_acc: 0.0000e+00\n",
      "Epoch 9/20\n",
      "540/540 [==============================] - 12s 23ms/step - loss: -18.0453 - acc: 0.0000e+00 - val_loss: -14.1320 - val_acc: 0.0000e+00\n",
      "Epoch 10/20\n",
      "540/540 [==============================] - 13s 24ms/step - loss: -18.0453 - acc: 0.0000e+00 - val_loss: -14.2716 - val_acc: 0.0000e+00\n",
      "Epoch 11/20\n",
      "540/540 [==============================] - 13s 25ms/step - loss: -18.0453 - acc: 0.0000e+00 - val_loss: -14.0301 - val_acc: 0.0000e+00\n",
      "Epoch 12/20\n",
      "540/540 [==============================] - 13s 24ms/step - loss: -18.0453 - acc: 0.0000e+00 - val_loss: -14.0301 - val_acc: 0.0000e+00\n",
      "Epoch 13/20\n",
      "540/540 [==============================] - 13s 24ms/step - loss: -18.0453 - acc: 0.0000e+00 - val_loss: -14.0301 - val_acc: 0.0000e+00\n",
      "Epoch 14/20\n",
      "540/540 [==============================] - 13s 25ms/step - loss: -18.0453 - acc: 0.0000e+00 - val_loss: -14.0301 - val_acc: 0.0000e+0018.0447 - acc: 0.000\n",
      "Epoch 15/20\n",
      "540/540 [==============================] - 13s 25ms/step - loss: -18.0453 - acc: 0.0000e+00 - val_loss: -13.8975 - val_acc: 0.0000e+00\n",
      "Epoch 16/20\n",
      "540/540 [==============================] - 13s 24ms/step - loss: -18.0453 - acc: 0.0000e+00 - val_loss: -13.8975 - val_acc: 0.0000e+00\n",
      "Epoch 17/20\n",
      "540/540 [==============================] - 13s 23ms/step - loss: -18.0453 - acc: 0.0000e+00 - val_loss: -13.8975 - val_acc: 0.0000e+00\n",
      "Epoch 18/20\n",
      "540/540 [==============================] - 14s 25ms/step - loss: -18.0453 - acc: 0.0000e+00 - val_loss: -13.8975 - val_acc: 0.0000e+00\n",
      "Epoch 19/20\n",
      "540/540 [==============================] - 13s 25ms/step - loss: -18.0453 - acc: 0.0000e+00 - val_loss: -13.8975 - val_acc: 0.0000e+00 -18\n",
      "Epoch 20/20\n",
      "540/540 [==============================] - 13s 24ms/step - loss: -18.0453 - acc: 0.0000e+00 - val_loss: -13.8975 - val_acc: 0.0000e+00\n"
     ]
    }
   ],
   "source": [
    "model = Sequential()\n",
    "model.add(Flatten(input_shape=(16,1)))\n",
    "model.add(Dense(768, kernel_initializer='uniform', activation='relu'))\n",
    "model.add(Dense(384, activation='relu', kernel_initializer='uniform'))\n",
    "model.add(Dense(256, activation='selu', kernel_initializer='uniform'))\n",
    "model.add(Dense(128, activation='selu', kernel_initializer='uniform'))\n",
    "model.add(Dense(64, activation='selu', kernel_initializer='uniform'))\n",
    "model.add(Dense(1, activation='linear'))\n",
    "\n",
    "#sgd = SGD(lr=0.01)\n",
    "sgd = SGD()\n",
    "model.compile(loss='binary_crossentropy', optimizer=sgd, metrics=['accuracy'])\n",
    "\n",
    "history = model.fit_generator(train_gen,\n",
    "                              steps_per_epoch=num_train_steps,\n",
    "                              epochs=20, # however many epochs you plan to use\n",
    "                              validation_data=val_gen,\n",
    "                              validation_steps=num_val_steps)"
   ]
  },
  {
   "cell_type": "code",
   "execution_count": 30,
   "metadata": {},
   "outputs": [
    {
     "data": {
      "image/png": "[encoded data removed]",
      "text/plain": [
       "<Figure size 432x288 with 1 Axes>"
      ]
     },
     "metadata": {},
     "output_type": "display_data"
    }
   ],
   "source": [
    "# you can use history to make plots of training and validation error\n",
    "# after that you can make predictions with model.predict\n",
    "\n",
    "# summarize history for accuracy\n",
    "plt.plot(history.history['acc'])\n",
    "plt.plot(history.history['val_acc'])\n",
    "plt.title('model accuracy')\n",
    "plt.ylabel('accuracy')\n",
    "plt.xlabel('epoch')\n",
    "plt.legend(['train', 'test'], loc='upper left')\n",
    "plt.show()"
   ]
  },
  {
   "cell_type": "code",
   "execution_count": 31,
   "metadata": {},
   "outputs": [
    {
     "data": {
      "image/png": "[encoded data removed]",
      "text/plain": [
       "<Figure size 432x288 with 1 Axes>"
      ]
     },
     "metadata": {},
     "output_type": "display_data"
    }
   ],
   "source": [
    "# summarize history for loss\n",
    "plt.plot(history.history['loss'])\n",
    "plt.plot(history.history['val_loss'])\n",
    "plt.title('model loss')\n",
    "plt.ylabel('loss')\n",
    "plt.xlabel('epoch')\n",
    "plt.legend(['train', 'test'], loc='upper left')\n",
    "plt.show()"
   ]
  },
  {
   "cell_type": "markdown",
   "metadata": {},
   "source": [
    "## Conclusion\n",
    "\n",
    "- From the above testing results, the Feed-Forward Neural Network (FFNN) is not good at time series data\n",
    "- Adding more layers doesn't improve accuracy."
   ]
  },
  {
   "cell_type": "markdown",
   "metadata": {},
   "source": [
    "### Model 3: Deep Neural Network\n",
    "\n",
    "Train a neural network with one or more layers for this task. \n",
    "\n",
    "Here, try tuning parameters (the number of hidden layers, and the number of units per layer). Use MAE on validation set as a guide."
   ]
  },
  {
   "cell_type": "code",
   "execution_count": 46,
   "metadata": {},
   "outputs": [
    {
     "name": "stdout",
     "output_type": "stream",
     "text": [
      "Epoch 1/20\n",
      "540/540 [==============================] - 5s 9ms/step - loss: 0.1082 - acc: 0.0000e+00 - val_loss: 0.3143 - val_acc: 0.0000e+00\n",
      "Epoch 2/20\n",
      "540/540 [==============================] - 2s 5ms/step - loss: 0.0862 - acc: 0.0000e+00 - val_loss: 0.2737 - val_acc: 0.0000e+00\n",
      "Epoch 3/20\n",
      "540/540 [==============================] - 2s 4ms/step - loss: 0.0790 - acc: 0.0000e+00 - val_loss: 0.2085 - val_acc: 0.0000e+00\n",
      "Epoch 4/20\n",
      "540/540 [==============================] - 2s 4ms/step - loss: 0.0740 - acc: 0.0000e+00 - val_loss: 0.1395 - val_acc: 0.0000e+00\n",
      "Epoch 5/20\n",
      "540/540 [==============================] - 2s 4ms/step - loss: 0.0706 - acc: 0.0000e+00 - val_loss: 0.1793 - val_acc: 0.0000e+00\n",
      "Epoch 6/20\n",
      "540/540 [==============================] - 2s 4ms/step - loss: 0.0683 - acc: 0.0000e+00 - val_loss: 0.1306 - val_acc: 0.0000e+00\n",
      "Epoch 7/20\n",
      "540/540 [==============================] - 3s 5ms/step - loss: 0.0667 - acc: 0.0000e+00 - val_loss: 0.1660 - val_acc: 0.0000e+00\n",
      "Epoch 8/20\n",
      "540/540 [==============================] - 2s 5ms/step - loss: 0.0654 - acc: 0.0000e+00 - val_loss: 0.1799 - val_acc: 0.0000e+00\n",
      "Epoch 9/20\n",
      "540/540 [==============================] - 2s 4ms/step - loss: 0.0641 - acc: 0.0000e+00 - val_loss: 0.1752 - val_acc: 0.0000e+00\n",
      "Epoch 10/20\n",
      "540/540 [==============================] - 3s 5ms/step - loss: 0.0630 - acc: 0.0000e+00 - val_loss: 0.1475 - val_acc: 0.0000e+00\n",
      "Epoch 11/20\n",
      "540/540 [==============================] - 3s 6ms/step - loss: 0.0615 - acc: 0.0000e+00 - val_loss: 0.1632 - val_acc: 0.0000e+00\n",
      "Epoch 12/20\n",
      "540/540 [==============================] - 2s 4ms/step - loss: 0.0604 - acc: 0.0000e+00 - val_loss: 0.1129 - val_acc: 0.0000e+00\n",
      "Epoch 13/20\n",
      "540/540 [==============================] - 2s 4ms/step - loss: 0.0595 - acc: 0.0000e+00 - val_loss: 0.1147 - val_acc: 0.0000e+00\n",
      "Epoch 14/20\n",
      "540/540 [==============================] - 2s 4ms/step - loss: 0.0586 - acc: 0.0000e+00 - val_loss: 0.1297 - val_acc: 0.0000e+00\n",
      "Epoch 15/20\n",
      "540/540 [==============================] - 2s 4ms/step - loss: 0.0576 - acc: 0.0000e+00 - val_loss: 0.1160 - val_acc: 0.0000e+00\n",
      "Epoch 16/20\n",
      "540/540 [==============================] - 3s 5ms/step - loss: 0.0567 - acc: 0.0000e+00 - val_loss: 0.1332 - val_acc: 0.0000e+00\n",
      "Epoch 17/20\n",
      "540/540 [==============================] - 2s 5ms/step - loss: 0.0563 - acc: 0.0000e+00 - val_loss: 0.1013 - val_acc: 0.0000e+00\n",
      "Epoch 18/20\n",
      "540/540 [==============================] - 3s 5ms/step - loss: 0.0559 - acc: 0.0000e+00 - val_loss: 0.0868 - val_acc: 0.0000e+00\n",
      "Epoch 19/20\n",
      "540/540 [==============================] - 2s 4ms/step - loss: 0.0550 - acc: 0.0000e+00 - val_loss: 0.1264 - val_acc: 0.0000e+00\n",
      "Epoch 20/20\n",
      "540/540 [==============================] - 2s 4ms/step - loss: 0.0546 - acc: 0.0000e+00 - val_loss: 0.1509 - val_acc: 0.0000e+00\n"
     ]
    }
   ],
   "source": [
    "model = Sequential()\n",
    "model.add(Flatten(input_shape=(16,1)))\n",
    "model.add(Dense(128, activation='relu'))\n",
    "model.add(Dense(1, activation='linear'))\n",
    "\n",
    "#rmsprop = RMSprop(lr=0.001)\n",
    "rmsprop = RMSprop()\n",
    "model.compile(optimizer=rmsprop, loss='mae', metrics=['accuracy'])\n",
    "history = model.fit_generator(train_gen,\n",
    "                              steps_per_epoch=num_train_steps,\n",
    "                              epochs=20, # however many epochs you plan to use\n",
    "                              validation_data=val_gen,\n",
    "                              validation_steps=num_val_steps)"
   ]
  },
  {
   "cell_type": "code",
   "execution_count": 47,
   "metadata": {},
   "outputs": [
    {
     "data": {
      "image/png": "[encoded data removed]",
      "text/plain": [
       "<Figure size 432x288 with 1 Axes>"
      ]
     },
     "metadata": {},
     "output_type": "display_data"
    }
   ],
   "source": [
    "# summarize history for loss\n",
    "plt.plot(history.history['loss'])\n",
    "plt.plot(history.history['val_loss'])\n",
    "plt.title('model loss')\n",
    "plt.ylabel('loss')\n",
    "plt.xlabel('epoch')\n",
    "plt.legend(['train', 'test'], loc='upper left')\n",
    "plt.show()"
   ]
  },
  {
   "cell_type": "code",
   "execution_count": 48,
   "metadata": {},
   "outputs": [
    {
     "name": "stdout",
     "output_type": "stream",
     "text": [
      "Epoch 1/20\n",
      "540/540 [==============================] - 5s 9ms/step - loss: 0.1513 - acc: 0.0000e+00 - val_loss: 0.1810 - val_acc: 0.0000e+00\n",
      "Epoch 2/20\n",
      "540/540 [==============================] - ETA: 0s - loss: 0.1011 - acc: 0.0000e+0 - 3s 5ms/step - loss: 0.1010 - acc: 0.0000e+00 - val_loss: 0.1956 - val_acc: 0.0000e+00\n",
      "Epoch 3/20\n",
      "540/540 [==============================] - 3s 5ms/step - loss: 0.0827 - acc: 0.0000e+00 - val_loss: 0.2200 - val_acc: 0.0000e+00\n",
      "Epoch 4/20\n",
      "540/540 [==============================] - 2s 4ms/step - loss: 0.0746 - acc: 0.0000e+00 - val_loss: 0.2165 - val_acc: 0.0000e+00\n",
      "Epoch 5/20\n",
      "540/540 [==============================] - 2s 4ms/step - loss: 0.0701 - acc: 0.0000e+00 - val_loss: 0.2409 - val_acc: 0.0000e+00\n",
      "Epoch 6/20\n",
      "540/540 [==============================] - 3s 5ms/step - loss: 0.0675 - acc: 0.0000e+00 - val_loss: 0.1982 - val_acc: 0.0000e+00\n",
      "Epoch 7/20\n",
      "540/540 [==============================] - 3s 5ms/step - loss: 0.0653 - acc: 0.0000e+00 - val_loss: 0.2097 - val_acc: 0.0000e+00\n",
      "Epoch 8/20\n",
      "540/540 [==============================] - 3s 5ms/step - loss: 0.0633 - acc: 0.0000e+00 - val_loss: 0.2254 - val_acc: 0.0000e+00\n",
      "Epoch 9/20\n",
      "540/540 [==============================] - 2s 5ms/step - loss: 0.0623 - acc: 0.0000e+00 - val_loss: 0.2168 - val_acc: 0.0000e+00\n",
      "Epoch 10/20\n",
      "540/540 [==============================] - 3s 5ms/step - loss: 0.0613 - acc: 0.0000e+00 - val_loss: 0.1990 - val_acc: 0.0000e+00\n",
      "Epoch 11/20\n",
      "540/540 [==============================] - 3s 5ms/step - loss: 0.0603 - acc: 0.0000e+00 - val_loss: 0.1904 - val_acc: 0.0000e+00\n",
      "Epoch 12/20\n",
      "540/540 [==============================] - 3s 5ms/step - loss: 0.0601 - acc: 0.0000e+00 - val_loss: 0.1850 - val_acc: 0.0000e+00\n",
      "Epoch 13/20\n",
      "540/540 [==============================] - 3s 5ms/step - loss: 0.0592 - acc: 0.0000e+00 - val_loss: 0.1896 - val_acc: 0.0000e+00\n",
      "Epoch 14/20\n",
      "540/540 [==============================] - 3s 5ms/step - loss: 0.0584 - acc: 0.0000e+00 - val_loss: 0.1955 - val_acc: 0.0000e+00\n",
      "Epoch 15/20\n",
      "540/540 [==============================] - 3s 5ms/step - loss: 0.0578 - acc: 0.0000e+00 - val_loss: 0.1926 - val_acc: 0.0000e+00\n",
      "Epoch 16/20\n",
      "540/540 [==============================] - 3s 5ms/step - loss: 0.0567 - acc: 0.0000e+00 - val_loss: 0.1937 - val_acc: 0.0000e+00\n",
      "Epoch 17/20\n",
      "540/540 [==============================] - 3s 5ms/step - loss: 0.0563 - acc: 0.0000e+00 - val_loss: 0.1904 - val_acc: 0.0000e+00\n",
      "Epoch 18/20\n",
      "540/540 [==============================] - 3s 5ms/step - loss: 0.0556 - acc: 0.0000e+00 - val_loss: 0.1853 - val_acc: 0.0000e+00\n",
      "Epoch 19/20\n",
      "540/540 [==============================] - 2s 5ms/step - loss: 0.0552 - acc: 0.0000e+00 - val_loss: 0.1869 - val_acc: 0.0000e+00\n",
      "Epoch 20/20\n",
      "540/540 [==============================] - 2s 5ms/step - loss: 0.0543 - acc: 0.0000e+00 - val_loss: 0.1702 - val_acc: 0.0000e+00\n"
     ]
    }
   ],
   "source": [
    "model = Sequential()\n",
    "model.add(Flatten(input_shape=(16,1)))\n",
    "model.add(Dense(738, activation='relu'))\n",
    "model.add(Dense(1, activation='linear'))\n",
    "\n",
    "#rmsprop = RMSprop(lr=0.001)\n",
    "rmsprop = RMSprop()\n",
    "model.compile(optimizer=rmsprop, loss='mae', metrics=['accuracy'])\n",
    "history = model.fit_generator(train_gen,\n",
    "                              steps_per_epoch=num_train_steps,\n",
    "                              epochs=20, # however many epochs you plan to use\n",
    "                              validation_data=val_gen,\n",
    "                              validation_steps=num_val_steps)"
   ]
  },
  {
   "cell_type": "code",
   "execution_count": 49,
   "metadata": {},
   "outputs": [
    {
     "data": {
      "image/png": "[encoded data removed]",
      "text/plain": [
       "<Figure size 432x288 with 1 Axes>"
      ]
     },
     "metadata": {},
     "output_type": "display_data"
    }
   ],
   "source": [
    "# summarize history for loss\n",
    "plt.plot(history.history['loss'])\n",
    "plt.plot(history.history['val_loss'])\n",
    "plt.title('model loss')\n",
    "plt.ylabel('loss')\n",
    "plt.xlabel('epoch')\n",
    "plt.legend(['train', 'test'], loc='upper left')\n",
    "plt.show()"
   ]
  },
  {
   "cell_type": "code",
   "execution_count": 43,
   "metadata": {},
   "outputs": [
    {
     "name": "stdout",
     "output_type": "stream",
     "text": [
      "Epoch 1/20\n",
      "540/540 [==============================] - 22s 41ms/step - loss: 0.1819 - acc: 0.0000e+00 - val_loss: 0.1398 - val_acc: 0.0000e+00\n",
      "Epoch 2/20\n",
      "540/540 [==============================] - 21s 39ms/step - loss: 0.1074 - acc: 0.0000e+00 - val_loss: 0.1347 - val_acc: 0.0000e+00\n",
      "Epoch 3/20\n",
      "540/540 [==============================] - 21s 39ms/step - loss: 0.0940 - acc: 0.0000e+00 - val_loss: 0.1645 - val_acc: 0.0000e+00\n",
      "Epoch 4/20\n",
      "540/540 [==============================] - 24s 44ms/step - loss: 0.0855 - acc: 0.0000e+00 - val_loss: 0.1622 - val_acc: 0.0000e+00\n",
      "Epoch 5/20\n",
      "540/540 [==============================] - 22s 41ms/step - loss: 0.0769 - acc: 0.0000e+00 - val_loss: 0.1866 - val_acc: 0.0000e+00\n",
      "Epoch 6/20\n",
      "540/540 [==============================] - 25s 46ms/step - loss: 0.0710 - acc: 0.0000e+00 - val_loss: 0.1558 - val_acc: 0.0000e+00\n",
      "Epoch 7/20\n",
      "540/540 [==============================] - 24s 45ms/step - loss: 0.0667 - acc: 0.0000e+00 - val_loss: 0.1351 - val_acc: 0.0000e+00\n",
      "Epoch 8/20\n",
      "540/540 [==============================] - 25s 46ms/step - loss: 0.0630 - acc: 0.0000e+00 - val_loss: 0.1160 - val_acc: 0.0000e+00\n",
      "Epoch 9/20\n",
      "540/540 [==============================] - 23s 43ms/step - loss: 0.0610 - acc: 0.0000e+00 - val_loss: 0.1399 - val_acc: 0.0000e+00\n",
      "Epoch 10/20\n",
      "540/540 [==============================] - 20s 36ms/step - loss: 0.0589 - acc: 0.0000e+00 - val_loss: 0.1332 - val_acc: 0.0000e+00\n",
      "Epoch 11/20\n",
      "540/540 [==============================] - 20s 37ms/step - loss: 0.0578 - acc: 0.0000e+00 - val_loss: 0.1486 - val_acc: 0.0000e+00\n",
      "Epoch 12/20\n",
      "540/540 [==============================] - 21s 39ms/step - loss: 0.0562 - acc: 0.0000e+00 - val_loss: 0.1616 - val_acc: 0.0000e+00\n",
      "Epoch 13/20\n",
      "540/540 [==============================] - 22s 41ms/step - loss: 0.0554 - acc: 0.0000e+00 - val_loss: 0.1656 - val_acc: 0.0000e+00\n",
      "Epoch 14/20\n",
      "540/540 [==============================] - 22s 40ms/step - loss: 0.0545 - acc: 0.0000e+00 - val_loss: 0.1511 - val_acc: 0.0000e+00\n",
      "Epoch 15/20\n",
      "540/540 [==============================] - 22s 40ms/step - loss: 0.0531 - acc: 0.0000e+00 - val_loss: 0.1835 - val_acc: 0.0000e+00\n",
      "Epoch 16/20\n",
      "540/540 [==============================] - 23s 43ms/step - loss: 0.0528 - acc: 0.0000e+00 - val_loss: 0.1588 - val_acc: 0.0000e+00\n",
      "Epoch 17/20\n",
      "540/540 [==============================] - 23s 42ms/step - loss: 0.0512 - acc: 0.0000e+00 - val_loss: 0.1819 - val_acc: 0.0000e+00\n",
      "Epoch 18/20\n",
      "540/540 [==============================] - 22s 41ms/step - loss: 0.0506 - acc: 0.0000e+00 - val_loss: 0.1624 - val_acc: 0.0000e+00\n",
      "Epoch 19/20\n",
      "540/540 [==============================] - 24s 44ms/step - loss: 0.0495 - acc: 0.0000e+00 - val_loss: 0.1917 - val_acc: 0.0000e+00\n",
      "Epoch 20/20\n",
      "540/540 [==============================] - 25s 45ms/step - loss: 0.0479 - acc: 0.0000e+00 - val_loss: 0.1707 - val_acc: 0.0000e+00\n"
     ]
    }
   ],
   "source": [
    "model = Sequential()\n",
    "model.add(Flatten(input_shape=(16,1)))\n",
    "model.add(Dense(738, activation='relu'))\n",
    "model.add(Dense(526, activation='relu'))\n",
    "model.add(Dense(438, activation='relu'))\n",
    "model.add(Dense(128, activation='relu'))\n",
    "model.add(Dense(64, activation='relu'))\n",
    "model.add(Dense(1, activation='linear'))\n",
    "\n",
    "rmsprop = RMSprop(lr=0.001)\n",
    "#rmsprop = RMSprop()\n",
    "model.compile(optimizer=rmsprop, loss='mae', metrics=['accuracy'])\n",
    "history = model.fit_generator(train_gen,\n",
    "                              steps_per_epoch=num_train_steps,\n",
    "                              epochs=20, # however many epochs you plan to use\n",
    "                              validation_data=val_gen,\n",
    "                              validation_steps=num_val_steps)"
   ]
  },
  {
   "cell_type": "code",
   "execution_count": 44,
   "metadata": {},
   "outputs": [
    {
     "data": {
      "image/png": "[encoded data removed]",
      "text/plain": [
       "<Figure size 432x288 with 1 Axes>"
      ]
     },
     "metadata": {},
     "output_type": "display_data"
    }
   ],
   "source": [
    "# summarize history for loss\n",
    "plt.plot(history.history['loss'])\n",
    "plt.plot(history.history['val_loss'])\n",
    "plt.title('model loss')\n",
    "plt.ylabel('loss')\n",
    "plt.xlabel('epoch')\n",
    "plt.legend(['train', 'test'], loc='upper left')\n",
    "plt.show()"
   ]
  },
  {
   "cell_type": "code",
   "execution_count": 45,
   "metadata": {},
   "outputs": [
    {
     "name": "stdout",
     "output_type": "stream",
     "text": [
      "Epoch 1/20\n",
      "540/540 [==============================] - 23s 42ms/step - loss: 0.1942 - acc: 0.0000e+00 - val_loss: 0.2702 - val_acc: 0.0000e+00\n",
      "Epoch 2/20\n",
      "540/540 [==============================] - 20s 37ms/step - loss: 0.1076 - acc: 0.0000e+00 - val_loss: 0.2152 - val_acc: 0.0000e+00\n",
      "Epoch 3/20\n",
      "540/540 [==============================] - 21s 39ms/step - loss: 0.0959 - acc: 0.0000e+00 - val_loss: 0.1850 - val_acc: 0.0000e+00\n",
      "Epoch 4/20\n",
      "540/540 [==============================] - 22s 41ms/step - loss: 0.0875 - acc: 0.0000e+00 - val_loss: 0.1389 - val_acc: 0.0000e+00\n",
      "Epoch 5/20\n",
      "540/540 [==============================] - 21s 38ms/step - loss: 0.0818 - acc: 0.0000e+00 - val_loss: 0.1822 - val_acc: 0.0000e+00\n",
      "Epoch 6/20\n",
      "540/540 [==============================] - 22s 40ms/step - loss: 0.0772 - acc: 0.0000e+00 - val_loss: 0.2047 - val_acc: 0.0000e+00\n",
      "Epoch 7/20\n",
      "540/540 [==============================] - 22s 41ms/step - loss: 0.0718 - acc: 0.0000e+00 - val_loss: 0.1995 - val_acc: 0.0000e+00\n",
      "Epoch 8/20\n",
      "540/540 [==============================] - 22s 40ms/step - loss: 0.0678 - acc: 0.0000e+00 - val_loss: 0.1616 - val_acc: 0.0000e+00\n",
      "Epoch 9/20\n",
      "540/540 [==============================] - 23s 43ms/step - loss: 0.0659 - acc: 0.0000e+00 - val_loss: 0.1788 - val_acc: 0.0000e+00\n",
      "Epoch 10/20\n",
      "540/540 [==============================] - 22s 41ms/step - loss: 0.0635 - acc: 0.0000e+00 - val_loss: 0.1673 - val_acc: 0.0000e+00\n",
      "Epoch 11/20\n",
      "540/540 [==============================] - 22s 40ms/step - loss: 0.0621 - acc: 0.0000e+00 - val_loss: 0.1651 - val_acc: 0.0000e+00\n",
      "Epoch 12/20\n",
      "540/540 [==============================] - 23s 42ms/step - loss: 0.0600 - acc: 0.0000e+00 - val_loss: 0.1702 - val_acc: 0.0000e+00\n",
      "Epoch 13/20\n",
      "540/540 [==============================] - 23s 43ms/step - loss: 0.0585 - acc: 0.0000e+00 - val_loss: 0.1473 - val_acc: 0.0000e+00\n",
      "Epoch 14/20\n",
      "540/540 [==============================] - 23s 43ms/step - loss: 0.0569 - acc: 0.0000e+00 - val_loss: 0.1463 - val_acc: 0.0000e+00\n",
      "Epoch 15/20\n",
      "540/540 [==============================] - 22s 42ms/step - loss: 0.0552 - acc: 0.0000e+00 - val_loss: 0.1368 - val_acc: 0.0000e+00\n",
      "Epoch 16/20\n",
      "540/540 [==============================] - 23s 42ms/step - loss: 0.0534 - acc: 0.0000e+00 - val_loss: 0.1275 - val_acc: 0.0000e+00\n",
      "Epoch 17/20\n",
      "540/540 [==============================] - 24s 44ms/step - loss: 0.0527 - acc: 0.0000e+00 - val_loss: 0.1443 - val_acc: 0.0000e+00\n",
      "Epoch 18/20\n",
      "540/540 [==============================] - 23s 42ms/step - loss: 0.0513 - acc: 0.0000e+00 - val_loss: 0.1708 - val_acc: 0.0000e+00\n",
      "Epoch 19/20\n",
      "540/540 [==============================] - 22s 40ms/step - loss: 0.0502 - acc: 0.0000e+00 - val_loss: 0.1608 - val_acc: 0.0000e+00\n",
      "Epoch 20/20\n",
      "540/540 [==============================] - 23s 43ms/step - loss: 0.0500 - acc: 0.0000e+00 - val_loss: 0.1931 - val_acc: 0.0000e+00\n"
     ]
    }
   ],
   "source": [
    "model = Sequential()\n",
    "model.add(Flatten(input_shape=(16,1)))\n",
    "model.add(Dense(738, activation='relu'))\n",
    "model.add(Dense(526, activation='relu'))\n",
    "model.add(Dense(438, activation='selu'))\n",
    "model.add(Dense(128, activation='relu'))\n",
    "model.add(Dense(64, activation='relu'))\n",
    "model.add(Dense(1, activation='linear'))\n",
    "\n",
    "#rmsprop = RMSprop(lr=0.001)\n",
    "rmsprop = RMSprop()\n",
    "model.compile(optimizer=rmsprop, loss='mae', metrics=['accuracy'])\n",
    "history = model.fit_generator(train_gen,\n",
    "                              steps_per_epoch=num_train_steps,\n",
    "                              epochs=20, # however many epochs you plan to use\n",
    "                              validation_data=val_gen,\n",
    "                              validation_steps=num_val_steps)"
   ]
  },
  {
   "cell_type": "code",
   "execution_count": 50,
   "metadata": {},
   "outputs": [
    {
     "data": {
      "image/png": "[encoded data removed]",
      "text/plain": [
       "<Figure size 432x288 with 1 Axes>"
      ]
     },
     "metadata": {},
     "output_type": "display_data"
    }
   ],
   "source": [
    "# summarize history for loss\n",
    "plt.plot(history.history['loss'])\n",
    "plt.plot(history.history['val_loss'])\n",
    "plt.title('model loss')\n",
    "plt.ylabel('loss')\n",
    "plt.xlabel('epoch')\n",
    "plt.legend(['train', 'test'], loc='upper left')\n",
    "plt.show()"
   ]
  },
  {
   "cell_type": "code",
   "execution_count": 53,
   "metadata": {},
   "outputs": [
    {
     "name": "stdout",
     "output_type": "stream",
     "text": [
      "Epoch 1/20\n",
      "540/540 [==============================] - 16s 30ms/step - loss: 0.1504 - acc: 0.0000e+00 - val_loss: 0.1232 - val_acc: 0.0000e+00\n",
      "Epoch 2/20\n",
      "540/540 [==============================] - 13s 24ms/step - loss: 0.0943 - acc: 0.0000e+00 - val_loss: 0.2053 - val_acc: 0.0000e+00\n",
      "Epoch 3/20\n",
      "540/540 [==============================] - 14s 26ms/step - loss: 0.0814 - acc: 0.0000e+00 - val_loss: 0.1571 - val_acc: 0.0000e+00\n",
      "Epoch 4/20\n",
      "540/540 [==============================] - 14s 26ms/step - loss: 0.0742 - acc: 0.0000e+00 - val_loss: 0.1022 - val_acc: 0.0000e+00\n",
      "Epoch 5/20\n",
      "540/540 [==============================] - 16s 29ms/step - loss: 0.0701 - acc: 0.0000e+00 - val_loss: 0.1245 - val_acc: 0.0000e+00\n",
      "Epoch 6/20\n",
      "540/540 [==============================] - 16s 30ms/step - loss: 0.0675 - acc: 0.0000e+00 - val_loss: 0.1607 - val_acc: 0.0000e+00\n",
      "Epoch 7/20\n",
      "540/540 [==============================] - 17s 32ms/step - loss: 0.0646 - acc: 0.0000e+00 - val_loss: 0.1350 - val_acc: 0.0000e+00\n",
      "Epoch 8/20\n",
      "540/540 [==============================] - 18s 33ms/step - loss: 0.0617 - acc: 0.0000e+00 - val_loss: 0.1718 - val_acc: 0.0000e+00\n",
      "Epoch 9/20\n",
      "540/540 [==============================] - 16s 29ms/step - loss: 0.0596 - acc: 0.0000e+00 - val_loss: 0.1635 - val_acc: 0.0000e+00\n",
      "Epoch 10/20\n",
      "540/540 [==============================] - 16s 30ms/step - loss: 0.0578 - acc: 0.0000e+00 - val_loss: 0.1463 - val_acc: 0.0000e+00s - ETA: 0s - loss: 0.0578 - acc: 0.0000e+ - ETA: 0s - loss: 0.0578 - acc: 0.000\n",
      "Epoch 11/20\n",
      "540/540 [==============================] - 17s 32ms/step - loss: 0.0561 - acc: 0.0000e+00 - val_loss: 0.1625 - val_acc: 0.0000e+00\n",
      "Epoch 12/20\n",
      "540/540 [==============================] - 18s 32ms/step - loss: 0.0547 - acc: 0.0000e+00 - val_loss: 0.1565 - val_acc: 0.0000e+00\n",
      "Epoch 13/20\n",
      "540/540 [==============================] - 17s 32ms/step - loss: 0.0539 - acc: 0.0000e+00 - val_loss: 0.1823 - val_acc: 0.0000e+00\n",
      "Epoch 14/20\n",
      "540/540 [==============================] - 16s 30ms/step - loss: 0.0529 - acc: 0.0000e+00 - val_loss: 0.1924 - val_acc: 0.0000e+00\n",
      "Epoch 15/20\n",
      "540/540 [==============================] - 16s 31ms/step - loss: 0.0520 - acc: 0.0000e+00 - val_loss: 0.1668 - val_acc: 0.0000e+00\n",
      "Epoch 16/20\n",
      "540/540 [==============================] - 17s 31ms/step - loss: 0.0506 - acc: 0.0000e+00 - val_loss: 0.1756 - val_acc: 0.0000e+00\n",
      "Epoch 17/20\n",
      "540/540 [==============================] - 18s 33ms/step - loss: 0.0499 - acc: 0.0000e+00 - val_loss: 0.1634 - val_acc: 0.0000e+00\n",
      "Epoch 18/20\n",
      "540/540 [==============================] - 17s 32ms/step - loss: 0.0491 - acc: 0.0000e+00 - val_loss: 0.1951 - val_acc: 0.0000e+00\n",
      "Epoch 19/20\n",
      "540/540 [==============================] - 18s 33ms/step - loss: 0.0484 - acc: 0.0000e+00 - val_loss: 0.1798 - val_acc: 0.0000e+00\n",
      "Epoch 20/20\n",
      "540/540 [==============================] - 17s 32ms/step - loss: 0.0477 - acc: 0.0000e+00 - val_loss: 0.1613 - val_acc: 0.0000e+00\n"
     ]
    }
   ],
   "source": [
    "model = Sequential()\n",
    "model.add(Flatten(input_shape=(16,1)))\n",
    "model.add(Dense(738, activation='relu'))\n",
    "model.add(Dense(526, activation='relu'))\n",
    "model.add(Dense(1, activation='linear'))\n",
    "\n",
    "rmsprop = RMSprop()\n",
    "model.compile(optimizer=rmsprop, loss='mae', metrics=['accuracy'])\n",
    "history = model.fit_generator(train_gen,\n",
    "                              steps_per_epoch=num_train_steps,\n",
    "                              epochs=20, # however many epochs you plan to use\n",
    "                              validation_data=val_gen,\n",
    "                              validation_steps=num_val_steps)"
   ]
  },
  {
   "cell_type": "code",
   "execution_count": 54,
   "metadata": {},
   "outputs": [
    {
     "data": {
      "image/png": "[encoded data removed]",
      "text/plain": [
       "<Figure size 432x288 with 1 Axes>"
      ]
     },
     "metadata": {},
     "output_type": "display_data"
    }
   ],
   "source": [
    "# summarize history for loss\n",
    "plt.plot(history.history['loss'])\n",
    "plt.plot(history.history['val_loss'])\n",
    "plt.title('model loss')\n",
    "plt.ylabel('loss')\n",
    "plt.xlabel('epoch')\n",
    "plt.legend(['train', 'test'], loc='upper left')\n",
    "plt.show()"
   ]
  },
  {
   "cell_type": "code",
   "execution_count": 56,
   "metadata": {},
   "outputs": [
    {
     "name": "stdout",
     "output_type": "stream",
     "text": [
      "Epoch 1/20\n",
      "540/540 [==============================] - 17s 31ms/step - loss: 1.1206 - acc: 0.0000e+00 - val_loss: 1.0449 - val_acc: 0.0000e+00\n",
      "Epoch 2/20\n",
      "540/540 [==============================] - 13s 25ms/step - loss: 1.1196 - acc: 0.0000e+00 - val_loss: 1.0433 - val_acc: 0.0000e+00\n",
      "Epoch 3/20\n",
      "540/540 [==============================] - 14s 27ms/step - loss: 1.1196 - acc: 0.0000e+00 - val_loss: 1.0395 - val_acc: 0.0000e+00\n",
      "Epoch 4/20\n",
      "540/540 [==============================] - 14s 26ms/step - loss: 1.1196 - acc: 0.0000e+00 - val_loss: 1.0336 - val_acc: 0.0000e+00\n",
      "Epoch 5/20\n",
      "540/540 [==============================] - 16s 29ms/step - loss: 1.1196 - acc: 0.0000e+00 - val_loss: 1.0449 - val_acc: 0.0000e+00\n",
      "Epoch 6/20\n",
      "540/540 [==============================] - 16s 29ms/step - loss: 1.1196 - acc: 0.0000e+00 - val_loss: 1.0336 - val_acc: 0.0000e+00\n",
      "Epoch 7/20\n",
      "540/540 [==============================] - 17s 32ms/step - loss: 1.1196 - acc: 0.0000e+00 - val_loss: 1.0449 - val_acc: 0.0000e+00\n",
      "Epoch 8/20\n",
      "540/540 [==============================] - 18s 33ms/step - loss: 1.1196 - acc: 0.0000e+00 - val_loss: 1.0433 - val_acc: 0.0000e+00\n",
      "Epoch 9/20\n",
      "540/540 [==============================] - 17s 31ms/step - loss: 1.1196 - acc: 0.0000e+00 - val_loss: 1.0433 - val_acc: 0.0000e+00 loss: 1.1196 - acc: 0. - ETA: 1s - los\n",
      "Epoch 10/20\n",
      "540/540 [==============================] - 17s 32ms/step - loss: 1.1196 - acc: 0.0000e+00 - val_loss: 1.0395 - val_acc: 0.0000e+00- loss: 1.1196 \n",
      "Epoch 11/20\n",
      "540/540 [==============================] - 16s 30ms/step - loss: 1.1196 - acc: 0.0000e+00 - val_loss: 1.0395 - val_acc: 0.0000e+00\n",
      "Epoch 12/20\n",
      "540/540 [==============================] - 18s 33ms/step - loss: 1.1196 - acc: 0.0000e+00 - val_loss: 1.0336 - val_acc: 0.0000e+00\n",
      "Epoch 13/20\n",
      "540/540 [==============================] - 16s 29ms/step - loss: 1.1196 - acc: 0.0000e+00 - val_loss: 1.0336 - val_acc: 0.0000e+00\n",
      "Epoch 14/20\n",
      "540/540 [==============================] - 16s 30ms/step - loss: 1.1196 - acc: 0.0000e+00 - val_loss: 1.0449 - val_acc: 0.0000e+00\n",
      "Epoch 15/20\n",
      "540/540 [==============================] - 17s 31ms/step - loss: 1.1196 - acc: 0.0000e+00 - val_loss: 1.0433 - val_acc: 0.0000e+00\n",
      "Epoch 16/20\n",
      "540/540 [==============================] - 16s 30ms/step - loss: 1.1196 - acc: 0.0000e+00 - val_loss: 1.0433 - val_acc: 0.0000e+00\n",
      "Epoch 17/20\n",
      "540/540 [==============================] - 15s 28ms/step - loss: 1.1196 - acc: 0.0000e+00 - val_loss: 1.0395 - val_acc: 0.0000e+00\n",
      "Epoch 18/20\n",
      "540/540 [==============================] - 16s 29ms/step - loss: 1.1196 - acc: 0.0000e+00 - val_loss: 1.0336 - val_acc: 0.0000e+00\n",
      "Epoch 19/20\n",
      "540/540 [==============================] - 16s 29ms/step - loss: 1.1196 - acc: 0.0000e+00 - val_loss: 1.0336 - val_acc: 0.0000e+00\n",
      "Epoch 20/20\n",
      "540/540 [==============================] - 16s 30ms/step - loss: 1.1196 - acc: 0.0000e+00 - val_loss: 1.0336 - val_acc: 0.0000e+00\n"
     ]
    }
   ],
   "source": [
    "model = Sequential()\n",
    "model.add(Flatten(input_shape=(16,1)))\n",
    "model.add(Dense(738, activation='relu'))\n",
    "model.add(Dense(526, activation='relu'))\n",
    "model.add(Dense(1, activation='sigmoid'))\n",
    "\n",
    "rmsprop = RMSprop(lr=0.001)\n",
    "model.compile(optimizer=rmsprop, loss='mae', metrics=['accuracy'])\n",
    "history = model.fit_generator(train_gen,\n",
    "                              steps_per_epoch=num_train_steps,\n",
    "                              epochs=20, # however many epochs you plan to use\n",
    "                              validation_data=val_gen,\n",
    "                              validation_steps=num_val_steps)"
   ]
  },
  {
   "cell_type": "code",
   "execution_count": 57,
   "metadata": {},
   "outputs": [
    {
     "data": {
      "image/png": "[encoded data removed]",
      "text/plain": [
       "<Figure size 432x288 with 1 Axes>"
      ]
     },
     "metadata": {},
     "output_type": "display_data"
    }
   ],
   "source": [
    "# summarize history for loss\n",
    "plt.plot(history.history['loss'])\n",
    "plt.plot(history.history['val_loss'])\n",
    "plt.title('model loss')\n",
    "plt.ylabel('loss')\n",
    "plt.xlabel('epoch')\n",
    "plt.legend(['train', 'test'], loc='upper left')\n",
    "plt.show()"
   ]
  },
  {
   "cell_type": "markdown",
   "metadata": {},
   "source": [
    "## Conclusion\n",
    "From the above testing results:\n",
    "- Increaseing number of nodes in hidden layer improves results.\n",
    "- Adding more layers improves results.\n",
    "- With the same number layers, more nodes better results.\n",
    "- Use linear activition in the output layer is better than sigmoid activition."
   ]
  },
  {
   "cell_type": "markdown",
   "metadata": {},
   "source": [
    "### Model 4: Single layer recurrent neural network\n",
    "\n",
    "Train a recurrent neural network with a single layer, using a `GRU` recurrent cell. \n",
    "\n",
    "Look at documentation for the GRU layers in keras: https://keras.io/layers/recurrent/\n",
    "\n",
    "You will not need a `Flatten` layer in these networks."
   ]
  },
  {
   "cell_type": "code",
   "execution_count": 115,
   "metadata": {},
   "outputs": [],
   "source": [
    "from keras.models import Sequential  \n",
    "from keras.layers.core import Dense, Activation  \n",
    "from keras.layers.recurrent import LSTM, GRU\n",
    "\n",
    "in_out_neurons = 1  \n",
    "hidden_neurons = 300\n",
    "\n",
    "model = Sequential()\n",
    "model.add(GRU(hidden_neurons, return_sequences=False,\n",
    "               input_shape=(None, in_out_neurons)))\n",
    "model.add(Dense(in_out_neurons, input_dim=hidden_neurons))  \n",
    "model.add(Activation(\"linear\"))  \n",
    "model.compile(loss=\"mae\", optimizer=\"rmsprop\", metrics=['accuracy']) "
   ]
  },
  {
   "cell_type": "code",
   "execution_count": 116,
   "metadata": {},
   "outputs": [
    {
     "name": "stdout",
     "output_type": "stream",
     "text": [
      "(None, 1)\n"
     ]
    }
   ],
   "source": [
    "print(model.output_shape)"
   ]
  },
  {
   "cell_type": "code",
   "execution_count": 117,
   "metadata": {},
   "outputs": [
    {
     "name": "stdout",
     "output_type": "stream",
     "text": [
      "_________________________________________________________________\n",
      "Layer (type)                 Output Shape              Param #   \n",
      "=================================================================\n",
      "gru_1 (GRU)                  (None, 300)               271800    \n",
      "_________________________________________________________________\n",
      "dense_3 (Dense)              (None, 1)                 301       \n",
      "_________________________________________________________________\n",
      "activation_3 (Activation)    (None, 1)                 0         \n",
      "=================================================================\n",
      "Total params: 272,101\n",
      "Trainable params: 272,101\n",
      "Non-trainable params: 0\n",
      "_________________________________________________________________\n"
     ]
    }
   ],
   "source": [
    "model.summary()"
   ]
  },
  {
   "cell_type": "code",
   "execution_count": 118,
   "metadata": {},
   "outputs": [
    {
     "name": "stdout",
     "output_type": "stream",
     "text": [
      "Epoch 1/20\n",
      "540/540 [==============================] - 68s 125ms/step - loss: 0.1053 - acc: 0.0000e+00 - val_loss: 0.0779 - val_acc: 0.0000e+00\n",
      "Epoch 2/20\n",
      "540/540 [==============================] - 66s 123ms/step - loss: 0.0668 - acc: 0.0000e+00 - val_loss: 0.0931 - val_acc: 0.0000e+00\n",
      "Epoch 3/20\n",
      "540/540 [==============================] - 68s 126ms/step - loss: 0.0558 - acc: 0.0000e+00 - val_loss: 0.1498 - val_acc: 0.0000e+00\n",
      "Epoch 4/20\n",
      "540/540 [==============================] - 68s 125ms/step - loss: 0.0475 - acc: 0.0000e+00 - val_loss: 0.1990 - val_acc: 0.0000e+00\n",
      "Epoch 5/20\n",
      "540/540 [==============================] - 67s 124ms/step - loss: 0.0435 - acc: 0.0000e+00 - val_loss: 0.2547 - val_acc: 0.0000e+00\n",
      "Epoch 6/20\n",
      "540/540 [==============================] - 67s 124ms/step - loss: 0.0403 - acc: 0.0000e+00 - val_loss: 0.2582 - val_acc: 0.0000e+00\n",
      "Epoch 7/20\n",
      "540/540 [==============================] - 68s 125ms/step - loss: 0.0360 - acc: 0.0000e+00 - val_loss: 0.3260 - val_acc: 0.0000e+00\n",
      "Epoch 8/20\n",
      "540/540 [==============================] - 68s 126ms/step - loss: 0.0325 - acc: 0.0000e+00 - val_loss: 0.3822 - val_acc: 0.0000e+00\n",
      "Epoch 9/20\n",
      "540/540 [==============================] - 68s 127ms/step - loss: 0.0309 - acc: 0.0000e+00 - val_loss: 0.3117 - val_acc: 0.0000e+00\n",
      "Epoch 10/20\n",
      "540/540 [==============================] - 65s 121ms/step - loss: 0.0284 - acc: 0.0000e+00 - val_loss: 0.3327 - val_acc: 0.0000e+00\n",
      "Epoch 11/20\n",
      "540/540 [==============================] - 65s 120ms/step - loss: 0.0262 - acc: 0.0000e+00 - val_loss: 0.3576 - val_acc: 0.0000e+00\n",
      "Epoch 12/20\n",
      "540/540 [==============================] - 65s 120ms/step - loss: 0.0242 - acc: 0.0000e+00 - val_loss: 0.3543 - val_acc: 0.0000e+00\n",
      "Epoch 13/20\n",
      "540/540 [==============================] - 64s 119ms/step - loss: 0.0230 - acc: 0.0000e+00 - val_loss: 0.3077 - val_acc: 0.0000e+00\n",
      "Epoch 14/20\n",
      "540/540 [==============================] - 66s 121ms/step - loss: 0.0220 - acc: 0.0000e+00 - val_loss: 0.3736 - val_acc: 0.0000e+00\n",
      "Epoch 15/20\n",
      "540/540 [==============================] - 68s 125ms/step - loss: 0.0208 - acc: 0.0000e+00 - val_loss: 0.3355 - val_acc: 0.0000e+00\n",
      "Epoch 16/20\n",
      "540/540 [==============================] - 72s 132ms/step - loss: 0.0200 - acc: 0.0000e+00 - val_loss: 0.3080 - val_acc: 0.0000e+00\n",
      "Epoch 17/20\n",
      "540/540 [==============================] - 75s 138ms/step - loss: 0.0196 - acc: 0.0000e+00 - val_loss: 0.3072 - val_acc: 0.0000e+00\n",
      "Epoch 18/20\n",
      "540/540 [==============================] - 73s 136ms/step - loss: 0.0186 - acc: 0.0000e+00 - val_loss: 0.2911 - val_acc: 0.0000e+00\n",
      "Epoch 19/20\n",
      "540/540 [==============================] - 72s 133ms/step - loss: 0.0181 - acc: 0.0000e+00 - val_loss: 0.3255 - val_acc: 0.0000e+00\n",
      "Epoch 20/20\n",
      "540/540 [==============================] - 70s 129ms/step - loss: 0.0176 - acc: 0.0000e+00 - val_loss: 0.2921 - val_acc: 0.0000e+00\n"
     ]
    }
   ],
   "source": [
    "history = model.fit_generator(train_gen,\n",
    "                              steps_per_epoch=num_train_steps,\n",
    "                              epochs=20, # however many epochs you plan to use\n",
    "                              validation_data=val_gen,\n",
    "                              validation_steps=num_val_steps)"
   ]
  },
  {
   "cell_type": "code",
   "execution_count": 111,
   "metadata": {},
   "outputs": [],
   "source": [
    "from keras.models import Sequential  \n",
    "from keras.layers.core import Dense, Activation  \n",
    "from keras.layers.recurrent import LSTM, GRU\n",
    "\n",
    "in_out_neurons = 1  \n",
    "hidden_neurons = 300\n",
    "\n",
    "model = Sequential()\n",
    "model.add(LSTM(hidden_neurons, return_sequences=False,\n",
    "               input_shape=(None, in_out_neurons)))\n",
    "model.add(Dense(in_out_neurons, input_dim=hidden_neurons))  \n",
    "model.add(Activation(\"linear\"))  \n",
    "model.compile(loss=\"mae\", optimizer=\"rmsprop\")  "
   ]
  },
  {
   "cell_type": "code",
   "execution_count": 112,
   "metadata": {},
   "outputs": [
    {
     "name": "stdout",
     "output_type": "stream",
     "text": [
      "(None, 1)\n"
     ]
    }
   ],
   "source": [
    "print(model.output_shape)"
   ]
  },
  {
   "cell_type": "code",
   "execution_count": 113,
   "metadata": {},
   "outputs": [
    {
     "name": "stdout",
     "output_type": "stream",
     "text": [
      "_________________________________________________________________\n",
      "Layer (type)                 Output Shape              Param #   \n",
      "=================================================================\n",
      "lstm_2 (LSTM)                (None, 300)               362400    \n",
      "_________________________________________________________________\n",
      "dense_2 (Dense)              (None, 1)                 301       \n",
      "_________________________________________________________________\n",
      "activation_2 (Activation)    (None, 1)                 0         \n",
      "=================================================================\n",
      "Total params: 362,701\n",
      "Trainable params: 362,701\n",
      "Non-trainable params: 0\n",
      "_________________________________________________________________\n"
     ]
    }
   ],
   "source": [
    "model.summary()"
   ]
  },
  {
   "cell_type": "code",
   "execution_count": 114,
   "metadata": {},
   "outputs": [
    {
     "name": "stdout",
     "output_type": "stream",
     "text": [
      "Epoch 1/20\n",
      "540/540 [==============================] - 166s 308ms/step - loss: 0.1308 - val_loss: 0.3061\n",
      "Epoch 2/20\n",
      "540/540 [==============================] - 141s 262ms/step - loss: 0.0863 - val_loss: 0.2290\n",
      "Epoch 3/20\n",
      "540/540 [==============================] - 140s 259ms/step - loss: 0.0742 - val_loss: 0.1622\n",
      "Epoch 4/20\n",
      "540/540 [==============================] - 141s 261ms/step - loss: 0.0664 - val_loss: 0.1657\n",
      "Epoch 5/20\n",
      "540/540 [==============================] - 141s 261ms/step - loss: 0.0590 - val_loss: 0.1455\n",
      "Epoch 6/20\n",
      "540/540 [==============================] - 142s 263ms/step - loss: 0.0553 - val_loss: 0.1838\n",
      "Epoch 7/20\n",
      "540/540 [==============================] - 140s 260ms/step - loss: 0.0524 - val_loss: 0.2133\n",
      "Epoch 8/20\n",
      "540/540 [==============================] - 141s 262ms/step - loss: 0.0488 - val_loss: 0.4541\n",
      "Epoch 9/20\n",
      "540/540 [==============================] - 145s 268ms/step - loss: 0.0444 - val_loss: 0.4019\n",
      "Epoch 10/20\n",
      "540/540 [==============================] - 151s 280ms/step - loss: 0.0404 - val_loss: 0.4300\n",
      "Epoch 11/20\n",
      "540/540 [==============================] - 153s 283ms/step - loss: 0.0356 - val_loss: 0.3128\n",
      "Epoch 12/20\n",
      "540/540 [==============================] - 150s 278ms/step - loss: 0.0306 - val_loss: 0.2891\n",
      "Epoch 13/20\n",
      "540/540 [==============================] - 144s 267ms/step - loss: 0.0275 - val_loss: 0.2776\n",
      "Epoch 14/20\n",
      "540/540 [==============================] - 148s 275ms/step - loss: 0.0255 - val_loss: 0.2503\n",
      "Epoch 15/20\n",
      "540/540 [==============================] - 145s 269ms/step - loss: 0.0236 - val_loss: 0.2709\n",
      "Epoch 16/20\n",
      "540/540 [==============================] - 144s 267ms/step - loss: 0.0223 - val_loss: 0.2610\n",
      "Epoch 17/20\n",
      "540/540 [==============================] - 146s 271ms/step - loss: 0.0211 - val_loss: 0.2358\n",
      "Epoch 18/20\n",
      "540/540 [==============================] - 144s 267ms/step - loss: 0.0199 - val_loss: 0.2315\n",
      "Epoch 19/20\n",
      "540/540 [==============================] - 143s 265ms/step - loss: 0.0187 - val_loss: 0.2462\n",
      "Epoch 20/20\n",
      "540/540 [==============================] - 142s 264ms/step - loss: 0.0176 - val_loss: 0.2298\n"
     ]
    }
   ],
   "source": [
    "history = model.fit_generator(train_gen,\n",
    "                              steps_per_epoch=num_train_steps,\n",
    "                              epochs=20, # however many epochs you plan to use\n",
    "                              validation_data=val_gen,\n",
    "                              validation_steps=num_val_steps)"
   ]
  },
  {
   "cell_type": "markdown",
   "metadata": {},
   "source": [
    "## Conclusion\n",
    "From the above testing results:\n",
    "- From the above testing results, GRU seems to fit time series better than LSTM model."
   ]
  },
  {
   "cell_type": "markdown",
   "metadata": {},
   "source": [
    "### Model 5: Single layer recurrent neural network with dropout\n",
    "\n",
    "Train a recurrent neural network with a single layer, using a GRU recurrent cell.\n",
    "\n",
    "Look at documentation for the GRU layers in keras: https://keras.io/layers/recurrent/\n",
    "\n",
    "Use the `dropout` and `recurrent_dropout` arguments to implement weight dropout in the RNN. "
   ]
  },
  {
   "cell_type": "code",
   "execution_count": 124,
   "metadata": {},
   "outputs": [],
   "source": [
    "from keras.models import Sequential  \n",
    "from keras.layers.core import Dense, Activation, Dropout\n",
    "from keras.layers.recurrent import GRU\n",
    "\n",
    "in_out_neurons = 1  \n",
    "hidden_neurons = 300\n",
    "\n",
    "model = Sequential()\n",
    "model.add(GRU(hidden_neurons, dropout=0.2, recurrent_dropout=0.1, return_sequences=True, input_shape=(None, in_out_neurons)))\n",
    "model.add(GRU(hidden_neurons, dropout=0.2, recurrent_dropout=0.1))\n",
    "#model.add(Dropout(0.2))\n",
    "model.add(Dense(in_out_neurons, input_dim=hidden_neurons))  \n",
    "model.add(Activation(\"linear\"))  \n",
    "model.compile(loss=\"mae\", optimizer=\"rmsprop\") "
   ]
  },
  {
   "cell_type": "code",
   "execution_count": 125,
   "metadata": {},
   "outputs": [
    {
     "name": "stdout",
     "output_type": "stream",
     "text": [
      "(None, 1)\n"
     ]
    }
   ],
   "source": [
    "print(model.output_shape)"
   ]
  },
  {
   "cell_type": "code",
   "execution_count": 126,
   "metadata": {},
   "outputs": [
    {
     "name": "stdout",
     "output_type": "stream",
     "text": [
      "_________________________________________________________________\n",
      "Layer (type)                 Output Shape              Param #   \n",
      "=================================================================\n",
      "gru_3 (GRU)                  (None, None, 300)         271800    \n",
      "_________________________________________________________________\n",
      "gru_4 (GRU)                  (None, 300)               540900    \n",
      "_________________________________________________________________\n",
      "dense_4 (Dense)              (None, 1)                 301       \n",
      "_________________________________________________________________\n",
      "activation_4 (Activation)    (None, 1)                 0         \n",
      "=================================================================\n",
      "Total params: 813,001\n",
      "Trainable params: 813,001\n",
      "Non-trainable params: 0\n",
      "_________________________________________________________________\n"
     ]
    }
   ],
   "source": [
    "model.summary()"
   ]
  },
  {
   "cell_type": "code",
   "execution_count": 127,
   "metadata": {},
   "outputs": [
    {
     "name": "stdout",
     "output_type": "stream",
     "text": [
      "Epoch 1/20\n",
      "540/540 [==============================] - 178s 330ms/step - loss: 0.1912 - val_loss: 0.2245\n",
      "Epoch 2/20\n",
      "540/540 [==============================] - 184s 341ms/step - loss: 0.1256 - val_loss: 0.1289\n",
      "Epoch 3/20\n",
      "540/540 [==============================] - 176s 326ms/step - loss: 0.1146 - val_loss: 0.1349\n",
      "Epoch 4/20\n",
      "540/540 [==============================] - 166s 307ms/step - loss: 0.1038 - val_loss: 0.1516\n",
      "Epoch 5/20\n",
      "540/540 [==============================] - 168s 311ms/step - loss: 0.0871 - val_loss: 0.1436\n",
      "Epoch 6/20\n",
      "540/540 [==============================] - 177s 328ms/step - loss: 0.0817 - val_loss: 0.1306\n",
      "Epoch 7/20\n",
      "540/540 [==============================] - 168s 312ms/step - loss: 0.0764 - val_loss: 0.1462\n",
      "Epoch 8/20\n",
      "540/540 [==============================] - 163s 302ms/step - loss: 0.0733 - val_loss: 0.1468\n",
      "Epoch 9/20\n",
      "540/540 [==============================] - 169s 313ms/step - loss: 0.0704 - val_loss: 0.1737\n",
      "Epoch 10/20\n",
      "540/540 [==============================] - 165s 306ms/step - loss: 0.0661 - val_loss: 0.1766\n",
      "Epoch 11/20\n",
      "540/540 [==============================] - 166s 307ms/step - loss: 0.0645 - val_loss: 0.1858\n",
      "Epoch 12/20\n",
      "540/540 [==============================] - 171s 316ms/step - loss: 0.0623 - val_loss: 0.1765\n",
      "Epoch 13/20\n",
      "540/540 [==============================] - 173s 320ms/step - loss: 0.0611 - val_loss: 0.2014\n",
      "Epoch 14/20\n",
      "540/540 [==============================] - 166s 307ms/step - loss: 0.0590 - val_loss: 0.2192\n",
      "Epoch 15/20\n",
      "540/540 [==============================] - 166s 307ms/step - loss: 0.0566 - val_loss: 0.2165\n",
      "Epoch 16/20\n",
      "540/540 [==============================] - 170s 315ms/step - loss: 0.0546 - val_loss: 0.2283\n",
      "Epoch 17/20\n",
      "540/540 [==============================] - 167s 309ms/step - loss: 0.0538 - val_loss: 0.2586\n",
      "Epoch 18/20\n",
      "540/540 [==============================] - 164s 303ms/step - loss: 0.0532 - val_loss: 0.2283\n",
      "Epoch 19/20\n",
      "540/540 [==============================] - 171s 316ms/step - loss: 0.0515 - val_loss: 0.2162\n",
      "Epoch 20/20\n",
      "540/540 [==============================] - 167s 310ms/step - loss: 0.0511 - val_loss: 0.2275\n"
     ]
    }
   ],
   "source": [
    "history = model.fit_generator(train_gen,\n",
    "                              steps_per_epoch=num_train_steps,\n",
    "                              epochs=20, # however many epochs you plan to use\n",
    "                              validation_data=val_gen,\n",
    "                              validation_steps=num_val_steps)"
   ]
  },
  {
   "cell_type": "markdown",
   "metadata": {},
   "source": [
    "## Conclusion\n",
    "From the above testing results:\n",
    "- From the above testing results, adding dropout and recurrent_dropout weight doesn't improve the results."
   ]
  },
  {
   "cell_type": "markdown",
   "metadata": {},
   "source": [
    "### Model 6: Deep RNN \n",
    "\n",
    "Train a recurrent neural network with two or more layers, with or without dropout. Here experiment with number and size of layers using validation error as a guide."
   ]
  },
  {
   "cell_type": "code",
   "execution_count": 7,
   "metadata": {},
   "outputs": [],
   "source": [
    "from keras.models import Sequential  \n",
    "from keras.layers.core import Dense, Activation, Dropout\n",
    "from keras.layers.recurrent import GRU, LSTM\n",
    "from keras import layers\n",
    "\n",
    "in_out_neurons = 1  \n",
    "hidden_neurons = 300\n",
    "\n",
    "model = Sequential()\n",
    "model.add(GRU(hidden_neurons, dropout=0.2, recurrent_dropout=0.1, return_sequences=True, input_shape=(None, in_out_neurons)))\n",
    "model.add(GRU(hidden_neurons, dropout=0.2, recurrent_dropout=0.1, return_sequences=True))\n",
    "#model.add(LSTM(hidden_neurons, dropout=0.2, recurrent_dropout=0.1, return_sequences=True))\n",
    "#model.add(layers.CuDNNLSTM(hidden_neurons, return_sequences=True))\n",
    "model.add(GRU(hidden_neurons))\n",
    "\n",
    "model.add(Dense(in_out_neurons, input_dim=hidden_neurons))  \n",
    "model.add(Activation(\"linear\"))  \n",
    "model.compile(loss=\"mae\", optimizer=\"rmsprop\") "
   ]
  },
  {
   "cell_type": "code",
   "execution_count": 8,
   "metadata": {},
   "outputs": [
    {
     "name": "stdout",
     "output_type": "stream",
     "text": [
      "_________________________________________________________________\n",
      "Layer (type)                 Output Shape              Param #   \n",
      "=================================================================\n",
      "gru_4 (GRU)                  (None, None, 300)         271800    \n",
      "_________________________________________________________________\n",
      "gru_5 (GRU)                  (None, None, 300)         540900    \n",
      "_________________________________________________________________\n",
      "gru_6 (GRU)                  (None, 300)               540900    \n",
      "_________________________________________________________________\n",
      "dense_2 (Dense)              (None, 1)                 301       \n",
      "_________________________________________________________________\n",
      "activation_2 (Activation)    (None, 1)                 0         \n",
      "=================================================================\n",
      "Total params: 1,353,901\n",
      "Trainable params: 1,353,901\n",
      "Non-trainable params: 0\n",
      "_________________________________________________________________\n"
     ]
    }
   ],
   "source": [
    "model.summary()"
   ]
  },
  {
   "cell_type": "code",
   "execution_count": 9,
   "metadata": {},
   "outputs": [
    {
     "name": "stdout",
     "output_type": "stream",
     "text": [
      "Epoch 1/20\n",
      "540/540 [==============================] - 246s 456ms/step - loss: 0.2529 - val_loss: 0.2418\n",
      "Epoch 2/20\n",
      "540/540 [==============================] - 246s 456ms/step - loss: 0.1452 - val_loss: 0.1597\n",
      "Epoch 3/20\n",
      "540/540 [==============================] - 242s 448ms/step - loss: 0.1144 - val_loss: 0.1615\n",
      "Epoch 4/20\n",
      "540/540 [==============================] - 224s 415ms/step - loss: 0.0949 - val_loss: 0.1898\n",
      "Epoch 5/20\n",
      "540/540 [==============================] - 226s 419ms/step - loss: 0.0802 - val_loss: 0.1661\n",
      "Epoch 6/20\n",
      "540/540 [==============================] - 227s 420ms/step - loss: 0.0727 - val_loss: 0.2017\n",
      "Epoch 7/20\n",
      "540/540 [==============================] - 223s 412ms/step - loss: 0.0679 - val_loss: 0.1905\n",
      "Epoch 8/20\n",
      "540/540 [==============================] - 230s 426ms/step - loss: 0.0626 - val_loss: 0.2164\n",
      "Epoch 9/20\n",
      "540/540 [==============================] - 231s 428ms/step - loss: 0.0590 - val_loss: 0.2031\n",
      "Epoch 10/20\n",
      "540/540 [==============================] - 231s 427ms/step - loss: 0.0564 - val_loss: 0.2187\n",
      "Epoch 11/20\n",
      "540/540 [==============================] - 218s 404ms/step - loss: 0.0532 - val_loss: 0.2057\n",
      "Epoch 12/20\n",
      "540/540 [==============================] - 221s 408ms/step - loss: 0.0499 - val_loss: 0.1911\n",
      "Epoch 13/20\n",
      "540/540 [==============================] - 213s 395ms/step - loss: 0.0486 - val_loss: 0.2182\n",
      "Epoch 14/20\n",
      "540/540 [==============================] - 209s 387ms/step - loss: 0.0457 - val_loss: 0.2059\n",
      "Epoch 15/20\n",
      "540/540 [==============================] - 239s 442ms/step - loss: 0.0463 - val_loss: 0.2165\n",
      "Epoch 16/20\n",
      "540/540 [==============================] - 261s 483ms/step - loss: 0.0447 - val_loss: 0.1962\n",
      "Epoch 17/20\n",
      "540/540 [==============================] - 291s 539ms/step - loss: 0.0427 - val_loss: 0.1931\n",
      "Epoch 18/20\n",
      "540/540 [==============================] - 276s 511ms/step - loss: 0.0426 - val_loss: 0.2284\n",
      "Epoch 19/20\n",
      "540/540 [==============================] - 227s 421ms/step - loss: 0.0411 - val_loss: 0.2201\n",
      "Epoch 20/20\n",
      "540/540 [==============================] - 224s 415ms/step - loss: 0.0415 - val_loss: 0.2274\n"
     ]
    }
   ],
   "source": [
    "history = model.fit_generator(train_gen,\n",
    "                              steps_per_epoch=num_train_steps,\n",
    "                              epochs=20, # however many epochs you plan to use\n",
    "                              validation_data=val_gen,\n",
    "                              validation_steps=num_val_steps)"
   ]
  },
  {
   "cell_type": "code",
   "execution_count": 10,
   "metadata": {},
   "outputs": [],
   "source": [
    "from keras.models import Sequential  \n",
    "from keras.layers.core import Dense, Activation, Dropout\n",
    "from keras.layers.recurrent import GRU, LSTM\n",
    "from keras import layers\n",
    "\n",
    "in_out_neurons = 1  \n",
    "hidden_neurons = 200\n",
    "\n",
    "model = Sequential()\n",
    "model.add(GRU(hidden_neurons, dropout=0.2, recurrent_dropout=0.1, return_sequences=True, input_shape=(None, in_out_neurons)))\n",
    "model.add(GRU(hidden_neurons, dropout=0.2, recurrent_dropout=0.1, return_sequences=True))\n",
    "model.add(GRU(hidden_neurons, dropout=0.2, recurrent_dropout=0.1, return_sequences=True))\n",
    "model.add(GRU(hidden_neurons, dropout=0.2, recurrent_dropout=0.1, return_sequences=True))\n",
    "model.add(GRU(hidden_neurons))\n",
    "\n",
    "model.add(Dense(in_out_neurons, input_dim=hidden_neurons))  \n",
    "model.add(Activation(\"linear\"))  \n",
    "model.compile(loss=\"mae\", optimizer=\"rmsprop\")  "
   ]
  },
  {
   "cell_type": "code",
   "execution_count": 11,
   "metadata": {},
   "outputs": [
    {
     "name": "stdout",
     "output_type": "stream",
     "text": [
      "_________________________________________________________________\n",
      "Layer (type)                 Output Shape              Param #   \n",
      "=================================================================\n",
      "gru_7 (GRU)                  (None, None, 200)         121200    \n",
      "_________________________________________________________________\n",
      "gru_8 (GRU)                  (None, None, 200)         240600    \n",
      "_________________________________________________________________\n",
      "gru_9 (GRU)                  (None, None, 200)         240600    \n",
      "_________________________________________________________________\n",
      "gru_10 (GRU)                 (None, None, 200)         240600    \n",
      "_________________________________________________________________\n",
      "gru_11 (GRU)                 (None, 200)               240600    \n",
      "_________________________________________________________________\n",
      "dense_3 (Dense)              (None, 1)                 201       \n",
      "_________________________________________________________________\n",
      "activation_3 (Activation)    (None, 1)                 0         \n",
      "=================================================================\n",
      "Total params: 1,083,801\n",
      "Trainable params: 1,083,801\n",
      "Non-trainable params: 0\n",
      "_________________________________________________________________\n"
     ]
    }
   ],
   "source": [
    "model.summary()"
   ]
  },
  {
   "cell_type": "code",
   "execution_count": 12,
   "metadata": {},
   "outputs": [
    {
     "name": "stdout",
     "output_type": "stream",
     "text": [
      "Epoch 1/20\n",
      "540/540 [==============================] - 213s 394ms/step - loss: 0.2489 - val_loss: 0.2198\n",
      "Epoch 2/20\n",
      "540/540 [==============================] - 224s 415ms/step - loss: 0.1427 - val_loss: 0.2502\n",
      "Epoch 3/20\n",
      "540/540 [==============================] - 319s 591ms/step - loss: 0.1201 - val_loss: 0.1859\n",
      "Epoch 4/20\n",
      "540/540 [==============================] - 235s 436ms/step - loss: 0.1129 - val_loss: 0.2361\n",
      "Epoch 5/20\n",
      "540/540 [==============================] - 196s 363ms/step - loss: 0.1063 - val_loss: 0.2522\n",
      "Epoch 6/20\n",
      "540/540 [==============================] - 182s 338ms/step - loss: 0.1025 - val_loss: 0.2264\n",
      "Epoch 7/20\n",
      "540/540 [==============================] - 185s 342ms/step - loss: 0.0862 - val_loss: 0.2026\n",
      "Epoch 8/20\n",
      "540/540 [==============================] - 188s 348ms/step - loss: 0.0769 - val_loss: 0.2022\n",
      "Epoch 9/20\n",
      "540/540 [==============================] - 186s 345ms/step - loss: 0.0709 - val_loss: 0.2004\n",
      "Epoch 10/20\n",
      "540/540 [==============================] - 178s 330ms/step - loss: 0.0655 - val_loss: 0.1872\n",
      "Epoch 11/20\n",
      "540/540 [==============================] - 178s 330ms/step - loss: 0.0621 - val_loss: 0.1897\n",
      "Epoch 12/20\n",
      "540/540 [==============================] - 177s 327ms/step - loss: 0.0599 - val_loss: 0.1904\n",
      "Epoch 13/20\n",
      "540/540 [==============================] - 176s 326ms/step - loss: 0.0569 - val_loss: 0.1980\n",
      "Epoch 14/20\n",
      "540/540 [==============================] - 178s 330ms/step - loss: 0.0558 - val_loss: 0.2040\n",
      "Epoch 15/20\n",
      "540/540 [==============================] - 181s 335ms/step - loss: 0.0521 - val_loss: 0.1532\n",
      "Epoch 16/20\n",
      "540/540 [==============================] - 176s 326ms/step - loss: 0.0512 - val_loss: 0.1872\n",
      "Epoch 17/20\n",
      "540/540 [==============================] - 192s 355ms/step - loss: 0.0491 - val_loss: 0.2239\n",
      "Epoch 18/20\n",
      "540/540 [==============================] - 249s 462ms/step - loss: 0.0480 - val_loss: 0.1844\n",
      "Epoch 19/20\n",
      "540/540 [==============================] - 279s 517ms/step - loss: 0.0471 - val_loss: 0.1978\n",
      "Epoch 20/20\n",
      "540/540 [==============================] - 314s 581ms/step - loss: 0.0466 - val_loss: 0.1808\n"
     ]
    }
   ],
   "source": [
    "history = model.fit_generator(train_gen,\n",
    "                              steps_per_epoch=num_train_steps,\n",
    "                              epochs=20, # however many epochs you plan to use\n",
    "                              validation_data=val_gen,\n",
    "                              validation_steps=num_val_steps)"
   ]
  },
  {
   "cell_type": "code",
   "execution_count": 13,
   "metadata": {},
   "outputs": [
    {
     "name": "stdout",
     "output_type": "stream",
     "text": [
      "Evaluating -----------\n",
      "20/20 [==============================] - 0s 10ms/step\n",
      "Evaluation Score:  0.11526278406381607\n",
      "20/20 [==============================] - 0s 11ms/step\n",
      "Evaluation Score:  0.23357948660850525\n",
      "20/20 [==============================] - 0s 12ms/step\n",
      "Evaluation Score:  0.20024187862873077\n",
      "20/20 [==============================] - 0s 9ms/step\n",
      "Evaluation Score:  0.18725702166557312\n",
      "20/20 [==============================] - 0s 9ms/step\n",
      "Evaluation Score:  0.11526278406381607\n",
      "20/20 [==============================] - 0s 9ms/step\n",
      "Evaluation Score:  0.23357948660850525\n",
      "20/20 [==============================] - 0s 12ms/step\n",
      "Evaluation Score:  0.20024187862873077\n",
      "20/20 [==============================] - 0s 10ms/step\n",
      "Evaluation Score:  0.18725702166557312\n",
      "20/20 [==============================] - 0s 14ms/step\n",
      "Evaluation Score:  0.11526278406381607\n",
      "20/20 [==============================] - 0s 10ms/step\n",
      "Evaluation Score:  0.23357948660850525\n",
      "20/20 [==============================] - 0s 8ms/step\n",
      "Evaluation Score:  0.20024187862873077\n",
      "20/20 [==============================] - 0s 12ms/step\n",
      "Evaluation Score:  0.18725702166557312\n",
      "20/20 [==============================] - 0s 9ms/step\n",
      "Evaluation Score:  0.11526278406381607\n",
      "20/20 [==============================] - 0s 11ms/step\n",
      "Evaluation Score:  0.23357948660850525\n",
      "20/20 [==============================] - 0s 8ms/step\n",
      "Evaluation Score:  0.20024187862873077\n"
     ]
    }
   ],
   "source": [
    "print('Evaluating -----------')\n",
    "\n",
    "for step in range(num_val_steps):\n",
    "    X_test, y_test = next(val_gen)\n",
    "\n",
    "    score = model.evaluate(X_test, y_test,verbose=1)\n",
    "    print('Evaluation Score: ', score)"
   ]
  },
  {
   "cell_type": "code",
   "execution_count": 45,
   "metadata": {},
   "outputs": [
    {
     "name": "stdout",
     "output_type": "stream",
     "text": [
      "predicting -----------\n",
      "Predictions mean:  0.17527205690507605\n"
     ]
    }
   ],
   "source": [
    "import numpy as np\n",
    "from sklearn.metrics import accuracy_score\n",
    "from functools import reduce\n",
    "import operator\n",
    "\n",
    "print('predicting -----------')\n",
    "\n",
    "preds = []\n",
    "for step in range(num_val_steps):\n",
    "    X_test, y_test = next(val_gen)\n",
    "    \n",
    "    y_true = y_test.tolist()\n",
    "\n",
    "    #print(y_true)\n",
    "    y_pred = model.predict(X_test)\n",
    "    \n",
    "    y_pred_flat = reduce(operator.iconcat, y_pred, [])\n",
    "    #print(y_pred_flat)\n",
    "    for i in range(len(y_true)):\n",
    "        pred = (1 - y_true[i]/y_pred_flat[i])\n",
    "        preds.append(abs(pred))\n",
    "    #accuracy_score(y_test[0], y_pred[0])\n",
    "    #print('Predictions score: ', accuracy_score(y_true, y_pred_flat))\n",
    "    \n",
    "\n",
    "nd_array = np.array(preds)\n",
    "print('Predictions mean: ', nd_array.mean())"
   ]
  },
  {
   "cell_type": "code",
   "execution_count": 46,
   "metadata": {},
   "outputs": [],
   "source": [
    "from keras.models import Sequential  \n",
    "from keras.layers.core import Dense, Activation, Dropout\n",
    "from keras.layers.recurrent import GRU, LSTM\n",
    "from keras import layers\n",
    "\n",
    "in_out_neurons = 1  \n",
    "hidden_neurons = 400\n",
    "\n",
    "model = Sequential()\n",
    "model.add(GRU(hidden_neurons, dropout=0.0, recurrent_dropout=0.0, return_sequences=True, input_shape=(None, in_out_neurons)))\n",
    "model.add(GRU(hidden_neurons, dropout=0.2, recurrent_dropout=0.1, return_sequences=True))\n",
    "model.add(GRU(hidden_neurons, dropout=0.0, recurrent_dropout=0.0, return_sequences=True))\n",
    "model.add(GRU(hidden_neurons, dropout=0.2, recurrent_dropout=0.1, return_sequences=True))\n",
    "model.add(GRU(hidden_neurons))\n",
    "\n",
    "model.add(Dense(in_out_neurons, input_dim=hidden_neurons))  \n",
    "model.add(Activation(\"linear\"))  \n",
    "model.compile(loss=\"mae\", optimizer=\"rmsprop\") "
   ]
  },
  {
   "cell_type": "code",
   "execution_count": null,
   "metadata": {},
   "outputs": [],
   "source": [
    "history = model.fit_generator(train_gen,\n",
    "                              steps_per_epoch=num_train_steps,\n",
    "                              epochs=20, # however many epochs you plan to use\n",
    "                              validation_data=val_gen,\n",
    "                              validation_steps=num_val_steps)"
   ]
  },
  {
   "cell_type": "code",
   "execution_count": 48,
   "metadata": {},
   "outputs": [],
   "source": [
    "from keras.models import Sequential  \n",
    "from keras.layers.core import Dense, Activation, Dropout\n",
    "from keras.layers.recurrent import GRU, LSTM\n",
    "from keras import layers\n",
    "\n",
    "in_out_neurons = 1  \n",
    "hidden_neurons = 400\n",
    "hidden_neurons_2 = 200\n",
    "\n",
    "model = Sequential()\n",
    "model.add(GRU(hidden_neurons, dropout=0.2, recurrent_dropout=0.1, return_sequences=True, input_shape=(None, in_out_neurons)))\n",
    "model.add(GRU(hidden_neurons, dropout=0.2, recurrent_dropout=0.1, return_sequences=True))\n",
    "model.add(GRU(hidden_neurons_2, dropout=0.2, recurrent_dropout=0.1, return_sequences=True))\n",
    "model.add(GRU(hidden_neurons_2, dropout=0.2, recurrent_dropout=0.1, return_sequences=True))\n",
    "model.add(GRU(hidden_neurons_2))\n",
    "\n",
    "model.add(Dense(in_out_neurons, input_dim=hidden_neurons_2))  \n",
    "model.add(Activation(\"linear\"))  \n",
    "model.compile(loss=\"mae\", optimizer=\"rmsprop\")  "
   ]
  },
  {
   "cell_type": "code",
   "execution_count": 49,
   "metadata": {},
   "outputs": [
    {
     "name": "stdout",
     "output_type": "stream",
     "text": [
      "Epoch 1/20\n",
      "540/540 [==============================] - 405s 750ms/step - loss: 0.2632 - val_loss: 0.2410\n",
      "Epoch 2/20\n",
      "540/540 [==============================] - 383s 710ms/step - loss: 0.1472 - val_loss: 0.1946\n",
      "Epoch 3/20\n",
      "540/540 [==============================] - 406s 751ms/step - loss: 0.1213 - val_loss: 0.2134\n",
      "Epoch 4/20\n",
      "540/540 [==============================] - 405s 750ms/step - loss: 0.1107 - val_loss: 0.2369\n",
      "Epoch 5/20\n",
      "540/540 [==============================] - 377s 698ms/step - loss: 0.1046 - val_loss: 0.2587\n",
      "Epoch 6/20\n",
      "540/540 [==============================] - 378s 700ms/step - loss: 0.0975 - val_loss: 0.2532\n",
      "Epoch 7/20\n",
      "540/540 [==============================] - 378s 700ms/step - loss: 0.0956 - val_loss: 0.1922\n",
      "Epoch 8/20\n",
      "540/540 [==============================] - 376s 696ms/step - loss: 0.1078 - val_loss: 0.2933\n",
      "Epoch 9/20\n",
      "540/540 [==============================] - 384s 711ms/step - loss: 0.0796 - val_loss: 0.2384\n",
      "Epoch 10/20\n",
      "540/540 [==============================] - 360s 666ms/step - loss: 0.0674 - val_loss: 0.2325\n",
      "Epoch 11/20\n",
      "540/540 [==============================] - 366s 677ms/step - loss: 0.0636 - val_loss: 0.2512\n",
      "Epoch 12/20\n",
      "540/540 [==============================] - 375s 695ms/step - loss: 0.0590 - val_loss: 0.2389\n",
      "Epoch 13/20\n",
      "540/540 [==============================] - 366s 678ms/step - loss: 0.0568 - val_loss: 0.2619\n",
      "Epoch 14/20\n",
      "540/540 [==============================] - 374s 692ms/step - loss: 0.0530 - val_loss: 0.2692\n",
      "Epoch 15/20\n",
      "540/540 [==============================] - 367s 680ms/step - loss: 0.0509 - val_loss: 0.2451\n",
      "Epoch 16/20\n",
      "540/540 [==============================] - 367s 679ms/step - loss: 0.0490 - val_loss: 0.2562\n",
      "Epoch 17/20\n",
      "540/540 [==============================] - 377s 698ms/step - loss: 0.0487 - val_loss: 0.2317\n",
      "Epoch 18/20\n",
      "540/540 [==============================] - 372s 689ms/step - loss: 0.0457 - val_loss: 0.2476\n",
      "Epoch 19/20\n",
      "540/540 [==============================] - 376s 696ms/step - loss: 0.0461 - val_loss: 0.2396\n",
      "Epoch 20/20\n",
      "540/540 [==============================] - 378s 701ms/step - loss: 0.0449 - val_loss: 0.2014\n"
     ]
    }
   ],
   "source": [
    "history = model.fit_generator(train_gen,\n",
    "                              steps_per_epoch=num_train_steps,\n",
    "                              epochs=20, # however many epochs you plan to use\n",
    "                              validation_data=val_gen,\n",
    "                              validation_steps=num_val_steps)"
   ]
  },
  {
   "cell_type": "code",
   "execution_count": 50,
   "metadata": {},
   "outputs": [
    {
     "name": "stdout",
     "output_type": "stream",
     "text": [
      "Evaluating -----------\n",
      "20/20 [==============================] - 0s 14ms/step\n",
      "Evaluation Score:  0.14071834087371826\n",
      "20/20 [==============================] - 0s 13ms/step\n",
      "Evaluation Score:  0.26163217425346375\n",
      "20/20 [==============================] - 0s 12ms/step\n",
      "Evaluation Score:  0.21704621613025665\n",
      "20/20 [==============================] - 0s 16ms/step\n",
      "Evaluation Score:  0.201259583234787\n",
      "20/20 [==============================] - 0s 13ms/step\n",
      "Evaluation Score:  0.14071834087371826\n",
      "20/20 [==============================] - 0s 18ms/step\n",
      "Evaluation Score:  0.26163217425346375\n",
      "20/20 [==============================] - 0s 14ms/step\n",
      "Evaluation Score:  0.21704621613025665\n",
      "20/20 [==============================] - 0s 16ms/step\n",
      "Evaluation Score:  0.201259583234787\n",
      "20/20 [==============================] - 0s 15ms/step\n",
      "Evaluation Score:  0.14071834087371826\n",
      "20/20 [==============================] - 0s 19ms/step\n",
      "Evaluation Score:  0.26163217425346375\n",
      "20/20 [==============================] - 0s 13ms/step\n",
      "Evaluation Score:  0.21704621613025665\n",
      "20/20 [==============================] - 0s 18ms/step\n",
      "Evaluation Score:  0.201259583234787\n",
      "20/20 [==============================] - 0s 13ms/step\n",
      "Evaluation Score:  0.14071834087371826\n",
      "20/20 [==============================] - 0s 17ms/step\n",
      "Evaluation Score:  0.26163217425346375\n",
      "20/20 [==============================] - 0s 12ms/step\n",
      "Evaluation Score:  0.21704621613025665\n"
     ]
    }
   ],
   "source": [
    "print('Evaluating -----------')\n",
    "\n",
    "for step in range(num_val_steps):\n",
    "    X_test, y_test = next(val_gen)\n",
    "\n",
    "    score = model.evaluate(X_test, y_test,verbose=1)\n",
    "    print('Evaluation Score: ', score)"
   ]
  },
  {
   "cell_type": "code",
   "execution_count": 51,
   "metadata": {},
   "outputs": [
    {
     "name": "stdout",
     "output_type": "stream",
     "text": [
      "predicting -----------\n",
      "Predictions mean:  0.19179228619831998\n"
     ]
    }
   ],
   "source": [
    "import numpy as np\n",
    "from sklearn.metrics import accuracy_score\n",
    "from functools import reduce\n",
    "import operator\n",
    "\n",
    "print('predicting -----------')\n",
    "\n",
    "preds = []\n",
    "for step in range(num_val_steps):\n",
    "    X_test, y_test = next(val_gen)\n",
    "    \n",
    "    y_true = y_test.tolist()\n",
    "\n",
    "    #print(y_true)\n",
    "    y_pred = model.predict(X_test)\n",
    "    \n",
    "    y_pred_flat = reduce(operator.iconcat, y_pred, [])\n",
    "    #print(y_pred_flat)\n",
    "    for i in range(len(y_true)):\n",
    "        pred = (1 - y_true[i]/y_pred_flat[i])\n",
    "        preds.append(abs(pred))\n",
    "    #accuracy_score(y_test[0], y_pred[0])\n",
    "    #print('Predictions score: ', accuracy_score(y_true, y_pred_flat))\n",
    "    \n",
    "\n",
    "nd_array = np.array(preds)\n",
    "print('Predictions mean: ', nd_array.mean())"
   ]
  },
  {
   "cell_type": "markdown",
   "metadata": {},
   "source": [
    "## Conclusion\n",
    "\n",
    "Comment on the overall performance of these models. \n",
    "\n",
    "- How much of an improvement did you obtain over the baseline? \n",
    "        Comparing with baseline, the evaluation score almost doubled. \n",
    "- What is the general relative performance of recurrent networks relative to flat networks? \n",
    "        Recurrent networks is relatively better than flat networks.\n",
    "- What was the effect of using dropout in the RNN network? \n",
    "        I don't see that using dropout improves results.\n",
    "- What was the effect of network architecture, number and size of layers, on performance? Was the effect similar in RNNs and flat networks?\n",
    "        Number of neurons effect more than the size of layers. \n",
    "        The model with more number of neurons has better results.\n",
    "        The model with less number of neurons tunes the results slowly at each epoch.\n",
    "        The model with more number of neurons will take more time to run.\n",
    "        The model with missed number of neurons and layers has better results.\n",
    "\n",
    "Choose a final model based on your observations above and compare to the baseline model based on the median absolute error on the test set portion of the data. "
   ]
  }
 ],
 "metadata": {
  "kernelspec": {
   "display_name": "Python 3",
   "language": "python",
   "name": "python3"
  },
  "language_info": {
   "codemirror_mode": {
    "name": "ipython",
    "version": 3
   },
   "file_extension": ".py",
   "mimetype": "text/x-python",
   "name": "python",
   "nbconvert_exporter": "python",
   "pygments_lexer": "ipython3",
   "version": "3.6.5"
  }
 },
 "nbformat": 4,
 "nbformat_minor": 2
}
