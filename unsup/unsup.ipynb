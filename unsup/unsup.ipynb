{
 "cells": [
  {
   "cell_type": "markdown",
   "metadata": {},
   "source": [
    "# Unsupervised methods for time series analysis\n",
    "\n",
    "We will be using the mortgage affordability provided by Zillow https://www.zillow.com/research/data/\n",
    "\n",
    "The project repository includes the data and utility functions to load and plot it"
   ]
  },
  {
   "cell_type": "code",
   "execution_count": 14,
   "metadata": {},
   "outputs": [
    {
     "name": "stdout",
     "output_type": "stream",
     "text": [
      "The autoreload extension is already loaded. To reload it, use:\n",
      "  %reload_ext autoreload\n"
     ]
    }
   ],
   "source": [
    "%load_ext autoreload\n",
    "%autoreload 2\n",
    "%matplotlib inline"
   ]
  },
  {
   "cell_type": "code",
   "execution_count": 15,
   "metadata": {},
   "outputs": [
    {
     "data": {
      "text/html": [
       "<div>\n",
       "<style scoped>\n",
       "    .dataframe tbody tr th:only-of-type {\n",
       "        vertical-align: middle;\n",
       "    }\n",
       "\n",
       "    .dataframe tbody tr th {\n",
       "        vertical-align: top;\n",
       "    }\n",
       "\n",
       "    .dataframe thead th {\n",
       "        text-align: right;\n",
       "    }\n",
       "</style>\n",
       "<table border=\"1\" class=\"dataframe\">\n",
       "  <thead>\n",
       "    <tr style=\"text-align: right;\">\n",
       "      <th></th>\n",
       "      <th>RegionID</th>\n",
       "      <th>RegionName</th>\n",
       "      <th>SizeRank</th>\n",
       "      <th>1979-03</th>\n",
       "      <th>1979-06</th>\n",
       "      <th>1979-09</th>\n",
       "      <th>1979-12</th>\n",
       "      <th>1980-03</th>\n",
       "      <th>1980-06</th>\n",
       "      <th>1980-09</th>\n",
       "      <th>...</th>\n",
       "      <th>2014-12</th>\n",
       "      <th>2015-03</th>\n",
       "      <th>2015-06</th>\n",
       "      <th>2015-09</th>\n",
       "      <th>2015-12</th>\n",
       "      <th>2016-03</th>\n",
       "      <th>2016-06</th>\n",
       "      <th>2016-09</th>\n",
       "      <th>2016-12</th>\n",
       "      <th>2017-03</th>\n",
       "    </tr>\n",
       "  </thead>\n",
       "  <tbody>\n",
       "    <tr>\n",
       "      <th>324</th>\n",
       "      <td>394913</td>\n",
       "      <td>New York, NY</td>\n",
       "      <td>1</td>\n",
       "      <td>0.261700</td>\n",
       "      <td>0.278316</td>\n",
       "      <td>0.284399</td>\n",
       "      <td>0.319438</td>\n",
       "      <td>0.379845</td>\n",
       "      <td>0.318970</td>\n",
       "      <td>0.337586</td>\n",
       "      <td>...</td>\n",
       "      <td>0.241961</td>\n",
       "      <td>0.240494</td>\n",
       "      <td>0.247387</td>\n",
       "      <td>0.245957</td>\n",
       "      <td>0.249606</td>\n",
       "      <td>0.241544</td>\n",
       "      <td>0.239503</td>\n",
       "      <td>0.240021</td>\n",
       "      <td>0.265376</td>\n",
       "      <td>0.269264</td>\n",
       "    </tr>\n",
       "    <tr>\n",
       "      <th>325</th>\n",
       "      <td>753899</td>\n",
       "      <td>Los Angeles-Long Beach-Anaheim, CA</td>\n",
       "      <td>2</td>\n",
       "      <td>0.357694</td>\n",
       "      <td>0.388161</td>\n",
       "      <td>0.401762</td>\n",
       "      <td>0.459422</td>\n",
       "      <td>0.541508</td>\n",
       "      <td>0.464528</td>\n",
       "      <td>0.486750</td>\n",
       "      <td>...</td>\n",
       "      <td>0.383162</td>\n",
       "      <td>0.382531</td>\n",
       "      <td>0.396277</td>\n",
       "      <td>0.395686</td>\n",
       "      <td>0.402116</td>\n",
       "      <td>0.393042</td>\n",
       "      <td>0.390708</td>\n",
       "      <td>0.386895</td>\n",
       "      <td>0.430334</td>\n",
       "      <td>0.433476</td>\n",
       "    </tr>\n",
       "    <tr>\n",
       "      <th>326</th>\n",
       "      <td>394463</td>\n",
       "      <td>Chicago, IL</td>\n",
       "      <td>3</td>\n",
       "      <td>0.261928</td>\n",
       "      <td>0.276790</td>\n",
       "      <td>0.276248</td>\n",
       "      <td>0.309709</td>\n",
       "      <td>0.353099</td>\n",
       "      <td>0.299344</td>\n",
       "      <td>0.295616</td>\n",
       "      <td>...</td>\n",
       "      <td>0.134913</td>\n",
       "      <td>0.134063</td>\n",
       "      <td>0.139074</td>\n",
       "      <td>0.137962</td>\n",
       "      <td>0.138784</td>\n",
       "      <td>0.134412</td>\n",
       "      <td>0.133701</td>\n",
       "      <td>0.132856</td>\n",
       "      <td>0.147025</td>\n",
       "      <td>0.149054</td>\n",
       "    </tr>\n",
       "    <tr>\n",
       "      <th>327</th>\n",
       "      <td>394514</td>\n",
       "      <td>Dallas-Fort Worth, TX</td>\n",
       "      <td>4</td>\n",
       "      <td>0.301131</td>\n",
       "      <td>0.328453</td>\n",
       "      <td>0.340857</td>\n",
       "      <td>0.386321</td>\n",
       "      <td>0.452818</td>\n",
       "      <td>0.376912</td>\n",
       "      <td>0.394715</td>\n",
       "      <td>...</td>\n",
       "      <td>0.118163</td>\n",
       "      <td>0.117663</td>\n",
       "      <td>0.124935</td>\n",
       "      <td>0.128167</td>\n",
       "      <td>0.133517</td>\n",
       "      <td>0.131539</td>\n",
       "      <td>0.133219</td>\n",
       "      <td>0.135142</td>\n",
       "      <td>0.149861</td>\n",
       "      <td>0.152387</td>\n",
       "    </tr>\n",
       "    <tr>\n",
       "      <th>328</th>\n",
       "      <td>394974</td>\n",
       "      <td>Philadelphia, PA</td>\n",
       "      <td>5</td>\n",
       "      <td>0.204333</td>\n",
       "      <td>0.215107</td>\n",
       "      <td>0.219247</td>\n",
       "      <td>0.247690</td>\n",
       "      <td>0.295396</td>\n",
       "      <td>0.248018</td>\n",
       "      <td>0.260259</td>\n",
       "      <td>...</td>\n",
       "      <td>0.141915</td>\n",
       "      <td>0.139100</td>\n",
       "      <td>0.142831</td>\n",
       "      <td>0.141625</td>\n",
       "      <td>0.142089</td>\n",
       "      <td>0.137387</td>\n",
       "      <td>0.135599</td>\n",
       "      <td>0.135064</td>\n",
       "      <td>0.148746</td>\n",
       "      <td>0.148559</td>\n",
       "    </tr>\n",
       "    <tr>\n",
       "      <th>329</th>\n",
       "      <td>394692</td>\n",
       "      <td>Houston, TX</td>\n",
       "      <td>6</td>\n",
       "      <td>0.243178</td>\n",
       "      <td>0.265630</td>\n",
       "      <td>0.268049</td>\n",
       "      <td>0.294382</td>\n",
       "      <td>0.342770</td>\n",
       "      <td>0.291661</td>\n",
       "      <td>0.292763</td>\n",
       "      <td>...</td>\n",
       "      <td>0.112149</td>\n",
       "      <td>0.113520</td>\n",
       "      <td>0.118255</td>\n",
       "      <td>0.119155</td>\n",
       "      <td>0.122370</td>\n",
       "      <td>0.120863</td>\n",
       "      <td>0.120717</td>\n",
       "      <td>0.120675</td>\n",
       "      <td>0.132078</td>\n",
       "      <td>0.130511</td>\n",
       "    </tr>\n",
       "    <tr>\n",
       "      <th>330</th>\n",
       "      <td>395209</td>\n",
       "      <td>Washington, DC</td>\n",
       "      <td>7</td>\n",
       "      <td>0.254252</td>\n",
       "      <td>0.264869</td>\n",
       "      <td>0.277353</td>\n",
       "      <td>0.314773</td>\n",
       "      <td>0.373035</td>\n",
       "      <td>0.319475</td>\n",
       "      <td>0.337635</td>\n",
       "      <td>...</td>\n",
       "      <td>0.174821</td>\n",
       "      <td>0.173381</td>\n",
       "      <td>0.178910</td>\n",
       "      <td>0.177032</td>\n",
       "      <td>0.178584</td>\n",
       "      <td>0.172367</td>\n",
       "      <td>0.169965</td>\n",
       "      <td>0.168010</td>\n",
       "      <td>0.185774</td>\n",
       "      <td>0.186239</td>\n",
       "    </tr>\n",
       "    <tr>\n",
       "      <th>331</th>\n",
       "      <td>394856</td>\n",
       "      <td>Miami-Fort Lauderdale, FL</td>\n",
       "      <td>8</td>\n",
       "      <td>0.267852</td>\n",
       "      <td>0.284229</td>\n",
       "      <td>0.287053</td>\n",
       "      <td>0.332037</td>\n",
       "      <td>0.392403</td>\n",
       "      <td>0.334098</td>\n",
       "      <td>0.360938</td>\n",
       "      <td>...</td>\n",
       "      <td>0.181766</td>\n",
       "      <td>0.183585</td>\n",
       "      <td>0.194088</td>\n",
       "      <td>0.197580</td>\n",
       "      <td>0.203430</td>\n",
       "      <td>0.197855</td>\n",
       "      <td>0.198292</td>\n",
       "      <td>0.199508</td>\n",
       "      <td>0.221129</td>\n",
       "      <td>0.222176</td>\n",
       "    </tr>\n",
       "    <tr>\n",
       "      <th>332</th>\n",
       "      <td>394347</td>\n",
       "      <td>Atlanta, GA</td>\n",
       "      <td>9</td>\n",
       "      <td>0.248301</td>\n",
       "      <td>0.264578</td>\n",
       "      <td>0.271742</td>\n",
       "      <td>0.312490</td>\n",
       "      <td>0.371988</td>\n",
       "      <td>0.307385</td>\n",
       "      <td>0.322451</td>\n",
       "      <td>...</td>\n",
       "      <td>0.113326</td>\n",
       "      <td>0.113214</td>\n",
       "      <td>0.117454</td>\n",
       "      <td>0.118066</td>\n",
       "      <td>0.120754</td>\n",
       "      <td>0.117895</td>\n",
       "      <td>0.117187</td>\n",
       "      <td>0.116937</td>\n",
       "      <td>0.130104</td>\n",
       "      <td>0.131081</td>\n",
       "    </tr>\n",
       "    <tr>\n",
       "      <th>333</th>\n",
       "      <td>394404</td>\n",
       "      <td>Boston, MA</td>\n",
       "      <td>10</td>\n",
       "      <td>0.222021</td>\n",
       "      <td>0.237248</td>\n",
       "      <td>0.239940</td>\n",
       "      <td>0.276893</td>\n",
       "      <td>0.316496</td>\n",
       "      <td>0.271210</td>\n",
       "      <td>0.285134</td>\n",
       "      <td>...</td>\n",
       "      <td>0.212892</td>\n",
       "      <td>0.210786</td>\n",
       "      <td>0.216809</td>\n",
       "      <td>0.217371</td>\n",
       "      <td>0.221722</td>\n",
       "      <td>0.215844</td>\n",
       "      <td>0.214103</td>\n",
       "      <td>0.212644</td>\n",
       "      <td>0.236357</td>\n",
       "      <td>0.239656</td>\n",
       "    </tr>\n",
       "  </tbody>\n",
       "</table>\n",
       "<p>10 rows × 156 columns</p>\n",
       "</div>"
      ],
      "text/plain": [
       "     RegionID                          RegionName  SizeRank   1979-03  \\\n",
       "324    394913                        New York, NY         1  0.261700   \n",
       "325    753899  Los Angeles-Long Beach-Anaheim, CA         2  0.357694   \n",
       "326    394463                         Chicago, IL         3  0.261928   \n",
       "327    394514               Dallas-Fort Worth, TX         4  0.301131   \n",
       "328    394974                    Philadelphia, PA         5  0.204333   \n",
       "329    394692                         Houston, TX         6  0.243178   \n",
       "330    395209                      Washington, DC         7  0.254252   \n",
       "331    394856           Miami-Fort Lauderdale, FL         8  0.267852   \n",
       "332    394347                         Atlanta, GA         9  0.248301   \n",
       "333    394404                          Boston, MA        10  0.222021   \n",
       "\n",
       "      1979-06   1979-09   1979-12   1980-03   1980-06   1980-09    ...     \\\n",
       "324  0.278316  0.284399  0.319438  0.379845  0.318970  0.337586    ...      \n",
       "325  0.388161  0.401762  0.459422  0.541508  0.464528  0.486750    ...      \n",
       "326  0.276790  0.276248  0.309709  0.353099  0.299344  0.295616    ...      \n",
       "327  0.328453  0.340857  0.386321  0.452818  0.376912  0.394715    ...      \n",
       "328  0.215107  0.219247  0.247690  0.295396  0.248018  0.260259    ...      \n",
       "329  0.265630  0.268049  0.294382  0.342770  0.291661  0.292763    ...      \n",
       "330  0.264869  0.277353  0.314773  0.373035  0.319475  0.337635    ...      \n",
       "331  0.284229  0.287053  0.332037  0.392403  0.334098  0.360938    ...      \n",
       "332  0.264578  0.271742  0.312490  0.371988  0.307385  0.322451    ...      \n",
       "333  0.237248  0.239940  0.276893  0.316496  0.271210  0.285134    ...      \n",
       "\n",
       "      2014-12   2015-03   2015-06   2015-09   2015-12   2016-03   2016-06  \\\n",
       "324  0.241961  0.240494  0.247387  0.245957  0.249606  0.241544  0.239503   \n",
       "325  0.383162  0.382531  0.396277  0.395686  0.402116  0.393042  0.390708   \n",
       "326  0.134913  0.134063  0.139074  0.137962  0.138784  0.134412  0.133701   \n",
       "327  0.118163  0.117663  0.124935  0.128167  0.133517  0.131539  0.133219   \n",
       "328  0.141915  0.139100  0.142831  0.141625  0.142089  0.137387  0.135599   \n",
       "329  0.112149  0.113520  0.118255  0.119155  0.122370  0.120863  0.120717   \n",
       "330  0.174821  0.173381  0.178910  0.177032  0.178584  0.172367  0.169965   \n",
       "331  0.181766  0.183585  0.194088  0.197580  0.203430  0.197855  0.198292   \n",
       "332  0.113326  0.113214  0.117454  0.118066  0.120754  0.117895  0.117187   \n",
       "333  0.212892  0.210786  0.216809  0.217371  0.221722  0.215844  0.214103   \n",
       "\n",
       "      2016-09   2016-12   2017-03  \n",
       "324  0.240021  0.265376  0.269264  \n",
       "325  0.386895  0.430334  0.433476  \n",
       "326  0.132856  0.147025  0.149054  \n",
       "327  0.135142  0.149861  0.152387  \n",
       "328  0.135064  0.148746  0.148559  \n",
       "329  0.120675  0.132078  0.130511  \n",
       "330  0.168010  0.185774  0.186239  \n",
       "331  0.199508  0.221129  0.222176  \n",
       "332  0.116937  0.130104  0.131081  \n",
       "333  0.212644  0.236357  0.239656  \n",
       "\n",
       "[10 rows x 156 columns]"
      ]
     },
     "execution_count": 15,
     "metadata": {},
     "output_type": "execute_result"
    }
   ],
   "source": [
    "import affordability_lib.utils as utils\n",
    "\n",
    "afford_df = utils.get_affordability_df()\n",
    "afford_df.head(10)"
   ]
  },
  {
   "cell_type": "code",
   "execution_count": 50,
   "metadata": {},
   "outputs": [
    {
     "data": {
      "text/html": [
       "<div>\n",
       "<style scoped>\n",
       "    .dataframe tbody tr th:only-of-type {\n",
       "        vertical-align: middle;\n",
       "    }\n",
       "\n",
       "    .dataframe tbody tr th {\n",
       "        vertical-align: top;\n",
       "    }\n",
       "\n",
       "    .dataframe thead th {\n",
       "        text-align: right;\n",
       "    }\n",
       "</style>\n",
       "<table border=\"1\" class=\"dataframe\">\n",
       "  <thead>\n",
       "    <tr style=\"text-align: right;\">\n",
       "      <th>RegionID</th>\n",
       "      <th>394304</th>\n",
       "      <th>394312</th>\n",
       "      <th>394318</th>\n",
       "      <th>394347</th>\n",
       "      <th>394355</th>\n",
       "      <th>394357</th>\n",
       "      <th>394358</th>\n",
       "      <th>394367</th>\n",
       "      <th>394378</th>\n",
       "      <th>394388</th>\n",
       "      <th>...</th>\n",
       "      <th>395134</th>\n",
       "      <th>395148</th>\n",
       "      <th>395160</th>\n",
       "      <th>395167</th>\n",
       "      <th>395169</th>\n",
       "      <th>395183</th>\n",
       "      <th>395209</th>\n",
       "      <th>753899</th>\n",
       "      <th>753906</th>\n",
       "      <th>753924</th>\n",
       "    </tr>\n",
       "    <tr>\n",
       "      <th>date</th>\n",
       "      <th></th>\n",
       "      <th></th>\n",
       "      <th></th>\n",
       "      <th></th>\n",
       "      <th></th>\n",
       "      <th></th>\n",
       "      <th></th>\n",
       "      <th></th>\n",
       "      <th></th>\n",
       "      <th></th>\n",
       "      <th></th>\n",
       "      <th></th>\n",
       "      <th></th>\n",
       "      <th></th>\n",
       "      <th></th>\n",
       "      <th></th>\n",
       "      <th></th>\n",
       "      <th></th>\n",
       "      <th></th>\n",
       "      <th></th>\n",
       "      <th></th>\n",
       "    </tr>\n",
       "  </thead>\n",
       "  <tbody>\n",
       "    <tr>\n",
       "      <th>1979-03</th>\n",
       "      <td>0.232680</td>\n",
       "      <td>0.287440</td>\n",
       "      <td>0.241254</td>\n",
       "      <td>0.248301</td>\n",
       "      <td>0.281276</td>\n",
       "      <td>0.293120</td>\n",
       "      <td>0.241090</td>\n",
       "      <td>0.320604</td>\n",
       "      <td>0.279537</td>\n",
       "      <td>0.261269</td>\n",
       "      <td>...</td>\n",
       "      <td>0.329093</td>\n",
       "      <td>0.262781</td>\n",
       "      <td>0.233772</td>\n",
       "      <td>0.290762</td>\n",
       "      <td>0.237118</td>\n",
       "      <td>0.291715</td>\n",
       "      <td>0.254252</td>\n",
       "      <td>0.357694</td>\n",
       "      <td>0.324803</td>\n",
       "      <td>0.303692</td>\n",
       "    </tr>\n",
       "    <tr>\n",
       "      <th>1979-06</th>\n",
       "      <td>0.247157</td>\n",
       "      <td>0.313798</td>\n",
       "      <td>0.242736</td>\n",
       "      <td>0.264578</td>\n",
       "      <td>0.291680</td>\n",
       "      <td>0.320723</td>\n",
       "      <td>0.262005</td>\n",
       "      <td>0.344172</td>\n",
       "      <td>0.293638</td>\n",
       "      <td>0.272639</td>\n",
       "      <td>...</td>\n",
       "      <td>0.351231</td>\n",
       "      <td>0.275551</td>\n",
       "      <td>0.242763</td>\n",
       "      <td>0.336807</td>\n",
       "      <td>0.249160</td>\n",
       "      <td>0.309812</td>\n",
       "      <td>0.264869</td>\n",
       "      <td>0.388161</td>\n",
       "      <td>0.329214</td>\n",
       "      <td>0.350751</td>\n",
       "    </tr>\n",
       "    <tr>\n",
       "      <th>1979-09</th>\n",
       "      <td>0.253609</td>\n",
       "      <td>0.321006</td>\n",
       "      <td>0.241687</td>\n",
       "      <td>0.271742</td>\n",
       "      <td>0.306315</td>\n",
       "      <td>0.327072</td>\n",
       "      <td>0.264234</td>\n",
       "      <td>0.352533</td>\n",
       "      <td>0.305817</td>\n",
       "      <td>0.271228</td>\n",
       "      <td>...</td>\n",
       "      <td>0.362340</td>\n",
       "      <td>0.283997</td>\n",
       "      <td>0.239239</td>\n",
       "      <td>0.325960</td>\n",
       "      <td>0.253414</td>\n",
       "      <td>0.324721</td>\n",
       "      <td>0.277353</td>\n",
       "      <td>0.401762</td>\n",
       "      <td>0.325394</td>\n",
       "      <td>0.382342</td>\n",
       "    </tr>\n",
       "    <tr>\n",
       "      <th>1979-12</th>\n",
       "      <td>0.277786</td>\n",
       "      <td>0.356240</td>\n",
       "      <td>0.283188</td>\n",
       "      <td>0.312490</td>\n",
       "      <td>0.356599</td>\n",
       "      <td>0.369596</td>\n",
       "      <td>0.293461</td>\n",
       "      <td>0.388893</td>\n",
       "      <td>0.327856</td>\n",
       "      <td>0.325152</td>\n",
       "      <td>...</td>\n",
       "      <td>0.403449</td>\n",
       "      <td>0.327575</td>\n",
       "      <td>0.272597</td>\n",
       "      <td>0.374332</td>\n",
       "      <td>0.284488</td>\n",
       "      <td>0.365309</td>\n",
       "      <td>0.314773</td>\n",
       "      <td>0.459422</td>\n",
       "      <td>0.394464</td>\n",
       "      <td>0.447982</td>\n",
       "    </tr>\n",
       "    <tr>\n",
       "      <th>1980-03</th>\n",
       "      <td>0.320509</td>\n",
       "      <td>0.432043</td>\n",
       "      <td>0.365602</td>\n",
       "      <td>0.371988</td>\n",
       "      <td>0.400885</td>\n",
       "      <td>0.416118</td>\n",
       "      <td>0.341429</td>\n",
       "      <td>0.464336</td>\n",
       "      <td>0.360372</td>\n",
       "      <td>0.344529</td>\n",
       "      <td>...</td>\n",
       "      <td>0.474701</td>\n",
       "      <td>0.372208</td>\n",
       "      <td>0.304646</td>\n",
       "      <td>0.441749</td>\n",
       "      <td>0.330377</td>\n",
       "      <td>0.454627</td>\n",
       "      <td>0.373035</td>\n",
       "      <td>0.541508</td>\n",
       "      <td>0.429323</td>\n",
       "      <td>0.550050</td>\n",
       "    </tr>\n",
       "  </tbody>\n",
       "</table>\n",
       "<p>5 rows × 75 columns</p>\n",
       "</div>"
      ],
      "text/plain": [
       "RegionID    394304    394312    394318    394347    394355    394357  \\\n",
       "date                                                                   \n",
       "1979-03   0.232680  0.287440  0.241254  0.248301  0.281276  0.293120   \n",
       "1979-06   0.247157  0.313798  0.242736  0.264578  0.291680  0.320723   \n",
       "1979-09   0.253609  0.321006  0.241687  0.271742  0.306315  0.327072   \n",
       "1979-12   0.277786  0.356240  0.283188  0.312490  0.356599  0.369596   \n",
       "1980-03   0.320509  0.432043  0.365602  0.371988  0.400885  0.416118   \n",
       "\n",
       "RegionID    394358    394367    394378    394388    ...       395134  \\\n",
       "date                                                ...                \n",
       "1979-03   0.241090  0.320604  0.279537  0.261269    ...     0.329093   \n",
       "1979-06   0.262005  0.344172  0.293638  0.272639    ...     0.351231   \n",
       "1979-09   0.264234  0.352533  0.305817  0.271228    ...     0.362340   \n",
       "1979-12   0.293461  0.388893  0.327856  0.325152    ...     0.403449   \n",
       "1980-03   0.341429  0.464336  0.360372  0.344529    ...     0.474701   \n",
       "\n",
       "RegionID    395148    395160    395167    395169    395183    395209  \\\n",
       "date                                                                   \n",
       "1979-03   0.262781  0.233772  0.290762  0.237118  0.291715  0.254252   \n",
       "1979-06   0.275551  0.242763  0.336807  0.249160  0.309812  0.264869   \n",
       "1979-09   0.283997  0.239239  0.325960  0.253414  0.324721  0.277353   \n",
       "1979-12   0.327575  0.272597  0.374332  0.284488  0.365309  0.314773   \n",
       "1980-03   0.372208  0.304646  0.441749  0.330377  0.454627  0.373035   \n",
       "\n",
       "RegionID    753899    753906    753924  \n",
       "date                                    \n",
       "1979-03   0.357694  0.324803  0.303692  \n",
       "1979-06   0.388161  0.329214  0.350751  \n",
       "1979-09   0.401762  0.325394  0.382342  \n",
       "1979-12   0.459422  0.394464  0.447982  \n",
       "1980-03   0.541508  0.429323  0.550050  \n",
       "\n",
       "[5 rows x 75 columns]"
      ]
     },
     "execution_count": 50,
     "metadata": {},
     "output_type": "execute_result"
    }
   ],
   "source": [
    "import pandas as pd\n",
    "\n",
    "plotdf.head()"
   ]
  },
  {
   "cell_type": "code",
   "execution_count": 49,
   "metadata": {},
   "outputs": [
    {
     "data": {
      "image/png": "[encoded data removed]",
      "text/plain": [
       "<Figure size 432x288 with 1 Axes>"
      ]
     },
     "metadata": {},
     "output_type": "display_data"
    }
   ],
   "source": [
    "import matplotlib.pylab as plt\n",
    "\n",
    "plotdf = utils.plot_affordability_series(afford_df)\n",
    "plt.show()"
   ]
  },
  {
   "cell_type": "code",
   "execution_count": 51,
   "metadata": {},
   "outputs": [
    {
     "data": {
      "text/plain": [
       "<matplotlib.axes._subplots.AxesSubplot at 0x238825387b8>"
      ]
     },
     "execution_count": 51,
     "metadata": {},
     "output_type": "execute_result"
    },
    {
     "data": {
      "image/png": "[encoded data removed]",
      "text/plain": [
       "<Figure size 432x288 with 1 Axes>"
      ]
     },
     "metadata": {},
     "output_type": "display_data"
    }
   ],
   "source": [
    "pd.plotting.autocorrelation_plot(plotdf)"
   ]
  },
  {
   "cell_type": "markdown",
   "metadata": {},
   "source": [
    "## Task I: Clustering\n",
    "\n",
    "(1) Use the kmeans algorithm to cluster the timeseries data. The\n",
    "implementation of kmeans for sklearn is described here:\n",
    "http://scikit-learn.org/stable/modules/generated/sklearn.cluster.KMeans.html\n",
    "\n",
    "You need to make some choices: \n",
    "  - Preprocessing: should you scale and center data before clustering?\n",
    "  - Initialization: How will you choose starting centroids\n",
    "  - Evaluation: How will you determine the number of clusters to use for next steps of analysis. Here are options implemented in sklearn: http://scikit-learn.org/stable/modules/clustering.html#clustering-performance-evaluation. Here is an implementation of the gap statistic method shown in lecture (use at your discretion): https://github.com/Zelazny7/gap-statistic/blob/master/gap.py\n",
    "  \n",
    "Make sure to include your choices for the above in your writeup."
   ]
  },
  {
   "cell_type": "code",
   "execution_count": 61,
   "metadata": {},
   "outputs": [
    {
     "data": {
      "text/html": [
       "<div>\n",
       "<style scoped>\n",
       "    .dataframe tbody tr th:only-of-type {\n",
       "        vertical-align: middle;\n",
       "    }\n",
       "\n",
       "    .dataframe tbody tr th {\n",
       "        vertical-align: top;\n",
       "    }\n",
       "\n",
       "    .dataframe thead th {\n",
       "        text-align: right;\n",
       "    }\n",
       "</style>\n",
       "<table border=\"1\" class=\"dataframe\">\n",
       "  <thead>\n",
       "    <tr style=\"text-align: right;\">\n",
       "      <th></th>\n",
       "      <th>RegionID</th>\n",
       "      <th>RegionName</th>\n",
       "      <th>SizeRank</th>\n",
       "      <th>1979-03</th>\n",
       "      <th>1979-06</th>\n",
       "      <th>1979-09</th>\n",
       "      <th>1979-12</th>\n",
       "      <th>1980-03</th>\n",
       "      <th>1980-06</th>\n",
       "      <th>1980-09</th>\n",
       "      <th>...</th>\n",
       "      <th>2014-12</th>\n",
       "      <th>2015-03</th>\n",
       "      <th>2015-06</th>\n",
       "      <th>2015-09</th>\n",
       "      <th>2015-12</th>\n",
       "      <th>2016-03</th>\n",
       "      <th>2016-06</th>\n",
       "      <th>2016-09</th>\n",
       "      <th>2016-12</th>\n",
       "      <th>2017-03</th>\n",
       "    </tr>\n",
       "  </thead>\n",
       "  <tbody>\n",
       "    <tr>\n",
       "      <th>324</th>\n",
       "      <td>False</td>\n",
       "      <td>False</td>\n",
       "      <td>False</td>\n",
       "      <td>False</td>\n",
       "      <td>False</td>\n",
       "      <td>False</td>\n",
       "      <td>False</td>\n",
       "      <td>False</td>\n",
       "      <td>False</td>\n",
       "      <td>False</td>\n",
       "      <td>...</td>\n",
       "      <td>False</td>\n",
       "      <td>False</td>\n",
       "      <td>False</td>\n",
       "      <td>False</td>\n",
       "      <td>False</td>\n",
       "      <td>False</td>\n",
       "      <td>False</td>\n",
       "      <td>False</td>\n",
       "      <td>False</td>\n",
       "      <td>False</td>\n",
       "    </tr>\n",
       "    <tr>\n",
       "      <th>325</th>\n",
       "      <td>False</td>\n",
       "      <td>False</td>\n",
       "      <td>False</td>\n",
       "      <td>False</td>\n",
       "      <td>False</td>\n",
       "      <td>False</td>\n",
       "      <td>False</td>\n",
       "      <td>False</td>\n",
       "      <td>False</td>\n",
       "      <td>False</td>\n",
       "      <td>...</td>\n",
       "      <td>False</td>\n",
       "      <td>False</td>\n",
       "      <td>False</td>\n",
       "      <td>False</td>\n",
       "      <td>False</td>\n",
       "      <td>False</td>\n",
       "      <td>False</td>\n",
       "      <td>False</td>\n",
       "      <td>False</td>\n",
       "      <td>False</td>\n",
       "    </tr>\n",
       "    <tr>\n",
       "      <th>326</th>\n",
       "      <td>False</td>\n",
       "      <td>False</td>\n",
       "      <td>False</td>\n",
       "      <td>False</td>\n",
       "      <td>False</td>\n",
       "      <td>False</td>\n",
       "      <td>False</td>\n",
       "      <td>False</td>\n",
       "      <td>False</td>\n",
       "      <td>False</td>\n",
       "      <td>...</td>\n",
       "      <td>False</td>\n",
       "      <td>False</td>\n",
       "      <td>False</td>\n",
       "      <td>False</td>\n",
       "      <td>False</td>\n",
       "      <td>False</td>\n",
       "      <td>False</td>\n",
       "      <td>False</td>\n",
       "      <td>False</td>\n",
       "      <td>False</td>\n",
       "    </tr>\n",
       "    <tr>\n",
       "      <th>327</th>\n",
       "      <td>False</td>\n",
       "      <td>False</td>\n",
       "      <td>False</td>\n",
       "      <td>False</td>\n",
       "      <td>False</td>\n",
       "      <td>False</td>\n",
       "      <td>False</td>\n",
       "      <td>False</td>\n",
       "      <td>False</td>\n",
       "      <td>False</td>\n",
       "      <td>...</td>\n",
       "      <td>False</td>\n",
       "      <td>False</td>\n",
       "      <td>False</td>\n",
       "      <td>False</td>\n",
       "      <td>False</td>\n",
       "      <td>False</td>\n",
       "      <td>False</td>\n",
       "      <td>False</td>\n",
       "      <td>False</td>\n",
       "      <td>False</td>\n",
       "    </tr>\n",
       "    <tr>\n",
       "      <th>328</th>\n",
       "      <td>False</td>\n",
       "      <td>False</td>\n",
       "      <td>False</td>\n",
       "      <td>False</td>\n",
       "      <td>False</td>\n",
       "      <td>False</td>\n",
       "      <td>False</td>\n",
       "      <td>False</td>\n",
       "      <td>False</td>\n",
       "      <td>False</td>\n",
       "      <td>...</td>\n",
       "      <td>False</td>\n",
       "      <td>False</td>\n",
       "      <td>False</td>\n",
       "      <td>False</td>\n",
       "      <td>False</td>\n",
       "      <td>False</td>\n",
       "      <td>False</td>\n",
       "      <td>False</td>\n",
       "      <td>False</td>\n",
       "      <td>False</td>\n",
       "    </tr>\n",
       "  </tbody>\n",
       "</table>\n",
       "<p>5 rows × 156 columns</p>\n",
       "</div>"
      ],
      "text/plain": [
       "     RegionID  RegionName  SizeRank  1979-03  1979-06  1979-09  1979-12  \\\n",
       "324     False       False     False    False    False    False    False   \n",
       "325     False       False     False    False    False    False    False   \n",
       "326     False       False     False    False    False    False    False   \n",
       "327     False       False     False    False    False    False    False   \n",
       "328     False       False     False    False    False    False    False   \n",
       "\n",
       "     1980-03  1980-06  1980-09   ...     2014-12  2015-03  2015-06  2015-09  \\\n",
       "324    False    False    False   ...       False    False    False    False   \n",
       "325    False    False    False   ...       False    False    False    False   \n",
       "326    False    False    False   ...       False    False    False    False   \n",
       "327    False    False    False   ...       False    False    False    False   \n",
       "328    False    False    False   ...       False    False    False    False   \n",
       "\n",
       "     2015-12  2016-03  2016-06  2016-09  2016-12  2017-03  \n",
       "324    False    False    False    False    False    False  \n",
       "325    False    False    False    False    False    False  \n",
       "326    False    False    False    False    False    False  \n",
       "327    False    False    False    False    False    False  \n",
       "328    False    False    False    False    False    False  \n",
       "\n",
       "[5 rows x 156 columns]"
      ]
     },
     "execution_count": 61,
     "metadata": {},
     "output_type": "execute_result"
    }
   ],
   "source": [
    "# Check the missing values \n",
    "afford_df.isna().head()"
   ]
  },
  {
   "cell_type": "code",
   "execution_count": 63,
   "metadata": {},
   "outputs": [],
   "source": [
    "# Fill missing values with mean column values in the data set\n",
    "afford_df.fillna(afford_df.mean(), inplace=True)"
   ]
  },
  {
   "cell_type": "code",
   "execution_count": 64,
   "metadata": {},
   "outputs": [
    {
     "name": "stdout",
     "output_type": "stream",
     "text": [
      "RegionID      0\n",
      "RegionName    0\n",
      "SizeRank      0\n",
      "1979-03       0\n",
      "1979-06       0\n",
      "1979-09       0\n",
      "1979-12       0\n",
      "1980-03       0\n",
      "1980-06       0\n",
      "1980-09       0\n",
      "1980-12       0\n",
      "1981-03       0\n",
      "1981-06       0\n",
      "1981-09       0\n",
      "1981-12       0\n",
      "1982-03       0\n",
      "1982-06       0\n",
      "1982-09       0\n",
      "1982-12       0\n",
      "1983-03       0\n",
      "1983-06       0\n",
      "1983-09       0\n",
      "1983-12       0\n",
      "1984-03       0\n",
      "1984-06       0\n",
      "1984-09       0\n",
      "1984-12       0\n",
      "1985-03       0\n",
      "1985-06       0\n",
      "1985-09       0\n",
      "             ..\n",
      "2009-12       0\n",
      "2010-03       0\n",
      "2010-06       0\n",
      "2010-09       0\n",
      "2010-12       0\n",
      "2011-03       0\n",
      "2011-06       0\n",
      "2011-09       0\n",
      "2011-12       0\n",
      "2012-03       0\n",
      "2012-06       0\n",
      "2012-09       0\n",
      "2012-12       0\n",
      "2013-03       0\n",
      "2013-06       0\n",
      "2013-09       0\n",
      "2013-12       0\n",
      "2014-03       0\n",
      "2014-06       0\n",
      "2014-09       0\n",
      "2014-12       0\n",
      "2015-03       0\n",
      "2015-06       0\n",
      "2015-09       0\n",
      "2015-12       0\n",
      "2016-03       0\n",
      "2016-06       0\n",
      "2016-09       0\n",
      "2016-12       0\n",
      "2017-03       0\n",
      "Length: 156, dtype: int64\n"
     ]
    }
   ],
   "source": [
    "print(afford_df.isna().sum())\n",
    "#afford_df.info()\n",
    "#afford_df.describe()"
   ]
  },
  {
   "cell_type": "code",
   "execution_count": 79,
   "metadata": {},
   "outputs": [],
   "source": [
    "# Dependencies\n",
    "import pandas as pd\n",
    "import numpy as np\n",
    "from sklearn.cluster import KMeans\n",
    "from sklearn.preprocessing import LabelEncoder\n",
    "from sklearn.preprocessing import MinMaxScaler\n",
    "import seaborn as sns\n",
    "import matplotlib.pyplot as plt\n",
    "%matplotlib inline"
   ]
  },
  {
   "cell_type": "code",
   "execution_count": 80,
   "metadata": {},
   "outputs": [],
   "source": [
    "train_df, test_df = utils.split_train_test(afford_df)"
   ]
  },
  {
   "cell_type": "code",
   "execution_count": 88,
   "metadata": {},
   "outputs": [
    {
     "data": {
      "text/html": [
       "<div>\n",
       "<style scoped>\n",
       "    .dataframe tbody tr th:only-of-type {\n",
       "        vertical-align: middle;\n",
       "    }\n",
       "\n",
       "    .dataframe tbody tr th {\n",
       "        vertical-align: top;\n",
       "    }\n",
       "\n",
       "    .dataframe thead th {\n",
       "        text-align: right;\n",
       "    }\n",
       "</style>\n",
       "<table border=\"1\" class=\"dataframe\">\n",
       "  <thead>\n",
       "    <tr style=\"text-align: right;\">\n",
       "      <th></th>\n",
       "      <th>RegionID</th>\n",
       "      <th>RegionName</th>\n",
       "      <th>SizeRank</th>\n",
       "      <th>1979-03</th>\n",
       "      <th>1979-06</th>\n",
       "      <th>1979-09</th>\n",
       "      <th>1979-12</th>\n",
       "      <th>1980-03</th>\n",
       "      <th>1980-06</th>\n",
       "      <th>1980-09</th>\n",
       "      <th>...</th>\n",
       "      <th>2012-09</th>\n",
       "      <th>2012-12</th>\n",
       "      <th>2013-03</th>\n",
       "      <th>2013-06</th>\n",
       "      <th>2013-09</th>\n",
       "      <th>2013-12</th>\n",
       "      <th>2014-03</th>\n",
       "      <th>2014-06</th>\n",
       "      <th>2014-09</th>\n",
       "      <th>2014-12</th>\n",
       "    </tr>\n",
       "  </thead>\n",
       "  <tbody>\n",
       "    <tr>\n",
       "      <th>324</th>\n",
       "      <td>394913</td>\n",
       "      <td>New York, NY</td>\n",
       "      <td>1</td>\n",
       "      <td>0.261700</td>\n",
       "      <td>0.278316</td>\n",
       "      <td>0.284399</td>\n",
       "      <td>0.319438</td>\n",
       "      <td>0.379845</td>\n",
       "      <td>0.318970</td>\n",
       "      <td>0.337586</td>\n",
       "      <td>...</td>\n",
       "      <td>0.224406</td>\n",
       "      <td>0.217553</td>\n",
       "      <td>0.224845</td>\n",
       "      <td>0.241536</td>\n",
       "      <td>0.260265</td>\n",
       "      <td>0.261124</td>\n",
       "      <td>0.258286</td>\n",
       "      <td>0.253598</td>\n",
       "      <td>0.252561</td>\n",
       "      <td>0.241961</td>\n",
       "    </tr>\n",
       "    <tr>\n",
       "      <th>325</th>\n",
       "      <td>753899</td>\n",
       "      <td>Los Angeles-Long Beach-Anaheim, CA</td>\n",
       "      <td>2</td>\n",
       "      <td>0.357694</td>\n",
       "      <td>0.388161</td>\n",
       "      <td>0.401762</td>\n",
       "      <td>0.459422</td>\n",
       "      <td>0.541508</td>\n",
       "      <td>0.464528</td>\n",
       "      <td>0.486750</td>\n",
       "      <td>...</td>\n",
       "      <td>0.304163</td>\n",
       "      <td>0.300080</td>\n",
       "      <td>0.320920</td>\n",
       "      <td>0.359241</td>\n",
       "      <td>0.399297</td>\n",
       "      <td>0.402892</td>\n",
       "      <td>0.400288</td>\n",
       "      <td>0.393393</td>\n",
       "      <td>0.395619</td>\n",
       "      <td>0.383162</td>\n",
       "    </tr>\n",
       "    <tr>\n",
       "      <th>326</th>\n",
       "      <td>394463</td>\n",
       "      <td>Chicago, IL</td>\n",
       "      <td>3</td>\n",
       "      <td>0.261928</td>\n",
       "      <td>0.276790</td>\n",
       "      <td>0.276248</td>\n",
       "      <td>0.309709</td>\n",
       "      <td>0.353099</td>\n",
       "      <td>0.299344</td>\n",
       "      <td>0.295616</td>\n",
       "      <td>...</td>\n",
       "      <td>0.121624</td>\n",
       "      <td>0.117433</td>\n",
       "      <td>0.121061</td>\n",
       "      <td>0.131412</td>\n",
       "      <td>0.141545</td>\n",
       "      <td>0.142888</td>\n",
       "      <td>0.141657</td>\n",
       "      <td>0.138968</td>\n",
       "      <td>0.140140</td>\n",
       "      <td>0.134913</td>\n",
       "    </tr>\n",
       "    <tr>\n",
       "      <th>327</th>\n",
       "      <td>394514</td>\n",
       "      <td>Dallas-Fort Worth, TX</td>\n",
       "      <td>4</td>\n",
       "      <td>0.301131</td>\n",
       "      <td>0.328453</td>\n",
       "      <td>0.340857</td>\n",
       "      <td>0.386321</td>\n",
       "      <td>0.452818</td>\n",
       "      <td>0.376912</td>\n",
       "      <td>0.394715</td>\n",
       "      <td>...</td>\n",
       "      <td>0.104923</td>\n",
       "      <td>0.101957</td>\n",
       "      <td>0.105754</td>\n",
       "      <td>0.114501</td>\n",
       "      <td>0.123787</td>\n",
       "      <td>0.125153</td>\n",
       "      <td>0.123385</td>\n",
       "      <td>0.121437</td>\n",
       "      <td>0.121808</td>\n",
       "      <td>0.118163</td>\n",
       "    </tr>\n",
       "    <tr>\n",
       "      <th>328</th>\n",
       "      <td>394974</td>\n",
       "      <td>Philadelphia, PA</td>\n",
       "      <td>5</td>\n",
       "      <td>0.204333</td>\n",
       "      <td>0.215107</td>\n",
       "      <td>0.219247</td>\n",
       "      <td>0.247690</td>\n",
       "      <td>0.295396</td>\n",
       "      <td>0.248018</td>\n",
       "      <td>0.260259</td>\n",
       "      <td>...</td>\n",
       "      <td>0.138880</td>\n",
       "      <td>0.134923</td>\n",
       "      <td>0.139083</td>\n",
       "      <td>0.148469</td>\n",
       "      <td>0.156956</td>\n",
       "      <td>0.155812</td>\n",
       "      <td>0.153202</td>\n",
       "      <td>0.149514</td>\n",
       "      <td>0.148801</td>\n",
       "      <td>0.141915</td>\n",
       "    </tr>\n",
       "  </tbody>\n",
       "</table>\n",
       "<p>5 rows × 147 columns</p>\n",
       "</div>"
      ],
      "text/plain": [
       "     RegionID                          RegionName  SizeRank   1979-03  \\\n",
       "324    394913                        New York, NY         1  0.261700   \n",
       "325    753899  Los Angeles-Long Beach-Anaheim, CA         2  0.357694   \n",
       "326    394463                         Chicago, IL         3  0.261928   \n",
       "327    394514               Dallas-Fort Worth, TX         4  0.301131   \n",
       "328    394974                    Philadelphia, PA         5  0.204333   \n",
       "\n",
       "      1979-06   1979-09   1979-12   1980-03   1980-06   1980-09    ...     \\\n",
       "324  0.278316  0.284399  0.319438  0.379845  0.318970  0.337586    ...      \n",
       "325  0.388161  0.401762  0.459422  0.541508  0.464528  0.486750    ...      \n",
       "326  0.276790  0.276248  0.309709  0.353099  0.299344  0.295616    ...      \n",
       "327  0.328453  0.340857  0.386321  0.452818  0.376912  0.394715    ...      \n",
       "328  0.215107  0.219247  0.247690  0.295396  0.248018  0.260259    ...      \n",
       "\n",
       "      2012-09   2012-12   2013-03   2013-06   2013-09   2013-12   2014-03  \\\n",
       "324  0.224406  0.217553  0.224845  0.241536  0.260265  0.261124  0.258286   \n",
       "325  0.304163  0.300080  0.320920  0.359241  0.399297  0.402892  0.400288   \n",
       "326  0.121624  0.117433  0.121061  0.131412  0.141545  0.142888  0.141657   \n",
       "327  0.104923  0.101957  0.105754  0.114501  0.123787  0.125153  0.123385   \n",
       "328  0.138880  0.134923  0.139083  0.148469  0.156956  0.155812  0.153202   \n",
       "\n",
       "      2014-06   2014-09   2014-12  \n",
       "324  0.253598  0.252561  0.241961  \n",
       "325  0.393393  0.395619  0.383162  \n",
       "326  0.138968  0.140140  0.134913  \n",
       "327  0.121437  0.121808  0.118163  \n",
       "328  0.149514  0.148801  0.141915  \n",
       "\n",
       "[5 rows x 147 columns]"
      ]
     },
     "execution_count": 88,
     "metadata": {},
     "output_type": "execute_result"
    }
   ],
   "source": [
    "train_df.head()"
   ]
  },
  {
   "cell_type": "code",
   "execution_count": 81,
   "metadata": {},
   "outputs": [],
   "source": [
    "train_X, train_y = utils.get_X_y(train_df)"
   ]
  },
  {
   "cell_type": "code",
   "execution_count": 82,
   "metadata": {},
   "outputs": [
    {
     "name": "stdout",
     "output_type": "stream",
     "text": [
      "[[0.26170029 0.27831582 0.28439863 0.3194383 ]\n",
      " [0.27831582 0.28439863 0.3194383  0.37984483]\n",
      " [0.28439863 0.3194383  0.37984483 0.31897013]\n",
      " ...\n",
      " [0.11371621 0.12283006 0.13093484 0.12856396]\n",
      " [0.12283006 0.13093484 0.12856396 0.12404706]\n",
      " [0.13093484 0.12856396 0.12404706 0.1187748 ]]\n"
     ]
    }
   ],
   "source": [
    "print(train_X)"
   ]
  },
  {
   "cell_type": "code",
   "execution_count": 83,
   "metadata": {},
   "outputs": [
    {
     "name": "stdout",
     "output_type": "stream",
     "text": [
      "[0.37984483 0.31897013 0.33758634 ... 0.12404706 0.1187748  0.11657912]\n"
     ]
    }
   ],
   "source": [
    "print(train_y)"
   ]
  },
  {
   "cell_type": "code",
   "execution_count": 75,
   "metadata": {},
   "outputs": [],
   "source": [
    "# cluster records into 9\n",
    "kmeans = KMeans(n_clusters=9, max_iter=600, algorithm = 'auto',n_jobs=4)\n",
    "predict_y = kmeans.fit_predict(train_X)"
   ]
  },
  {
   "cell_type": "code",
   "execution_count": 76,
   "metadata": {},
   "outputs": [
    {
     "data": {
      "text/plain": [
       "0.0"
      ]
     },
     "execution_count": 76,
     "metadata": {},
     "output_type": "execute_result"
    }
   ],
   "source": [
    "from sklearn import metrics\n",
    "\n",
    "metrics.adjusted_rand_score(train_y, predict_y)"
   ]
  },
  {
   "cell_type": "code",
   "execution_count": 104,
   "metadata": {},
   "outputs": [],
   "source": [
    "# clustering code goes here\n",
    "\n",
    "# cluster records into 9\n",
    "kmeans = KMeans(n_clusters=9, max_iter=600, algorithm = 'auto',n_jobs=4)\n",
    "predict_y = kmeans.fit_predict(train_X)"
   ]
  },
  {
   "cell_type": "code",
   "execution_count": 105,
   "metadata": {},
   "outputs": [
    {
     "name": "stdout",
     "output_type": "stream",
     "text": [
      "[1 7 7 ... 0 0 0]\n"
     ]
    }
   ],
   "source": [
    "print(predict_y)"
   ]
  },
  {
   "cell_type": "code",
   "execution_count": 125,
   "metadata": {},
   "outputs": [
    {
     "name": "stdout",
     "output_type": "stream",
     "text": [
      "[1 7 7 ... 0 0 0]\n"
     ]
    }
   ],
   "source": [
    "print(kmeans.labels_)"
   ]
  },
  {
   "cell_type": "code",
   "execution_count": 123,
   "metadata": {},
   "outputs": [
    {
     "name": "stdout",
     "output_type": "stream",
     "text": [
      "[[0.12844834 0.1272384  0.12647816 0.12621261]\n",
      " [0.29016363 0.28862467 0.28780088 0.28689486]\n",
      " [0.3966458  0.39802504 0.39796112 0.39570806]\n",
      " [0.20562167 0.20421858 0.20300357 0.20197974]\n",
      " [0.5670103  0.57523681 0.57532447 0.56632262]\n",
      " [0.16754537 0.1666468  0.16599233 0.16546184]\n",
      " [0.24395033 0.24234076 0.24077579 0.23981204]\n",
      " [0.33941965 0.33950599 0.33863967 0.3382334 ]\n",
      " [0.4650058  0.46838433 0.46862636 0.46677602]]\n"
     ]
    }
   ],
   "source": [
    "print(kmeans.cluster_centers_.reshape(9,4))"
   ]
  },
  {
   "cell_type": "code",
   "execution_count": 130,
   "metadata": {},
   "outputs": [
    {
     "data": {
      "image/png": "[encoded data removed]",
      "text/plain": [
       "<Figure size 432x288 with 1 Axes>"
      ]
     },
     "metadata": {},
     "output_type": "display_data"
    }
   ],
   "source": [
    "centers = np.array(kmeans.cluster_centers_)\n",
    "\n",
    "plt.plot()\n",
    "plt.title('k means centroids')\n",
    "\n",
    "plt.scatter(centers[:,0], centers[:,1], marker=\"x\", color='r')\n",
    "plt.show()"
   ]
  },
  {
   "cell_type": "code",
   "execution_count": 113,
   "metadata": {},
   "outputs": [
    {
     "name": "stdout",
     "output_type": "stream",
     "text": [
      "0.0\n"
     ]
    }
   ],
   "source": [
    "print(utils.predict_correct(train_X, train_y, kmeans))"
   ]
  },
  {
   "cell_type": "code",
   "execution_count": 131,
   "metadata": {},
   "outputs": [
    {
     "name": "stdout",
     "output_type": "stream",
     "text": [
      "[1 7 7 ... 0 0 0]\n"
     ]
    }
   ],
   "source": [
    "print(kmeans.labels_)"
   ]
  },
  {
   "cell_type": "code",
   "execution_count": 86,
   "metadata": {},
   "outputs": [
    {
     "data": {
      "text/plain": [
       "KMeans(algorithm='auto', copy_x=True, init='k-means++', max_iter=600,\n",
       "    n_clusters=9, n_init=10, n_jobs=4, precompute_distances='auto',\n",
       "    random_state=None, tol=0.0001, verbose=0)"
      ]
     },
     "execution_count": 86,
     "metadata": {},
     "output_type": "execute_result"
    }
   ],
   "source": [
    "scaler = MinMaxScaler()\n",
    "X_scaled = scaler.fit_transform(train_X)\n",
    "kmeans.fit(X_scaled)"
   ]
  },
  {
   "cell_type": "code",
   "execution_count": 39,
   "metadata": {},
   "outputs": [
    {
     "name": "stdout",
     "output_type": "stream",
     "text": [
      "0.0\n"
     ]
    }
   ],
   "source": [
    "print(utils.predict_correct(train_X, train_y, kmeans))"
   ]
  },
  {
   "cell_type": "code",
   "execution_count": 67,
   "metadata": {},
   "outputs": [
    {
     "data": {
      "text/plain": [
       "0.0"
      ]
     },
     "execution_count": 67,
     "metadata": {},
     "output_type": "execute_result"
    }
   ],
   "source": [
    "from sklearn import metrics\n",
    "\n",
    "test_X, test_y = utils.get_X_y(test_df)\n",
    "\n",
    "predict_y = kmeans.predict(test_X)\n",
    "metrics.adjusted_rand_score(test_y, predict_y) "
   ]
  },
  {
   "cell_type": "markdown",
   "metadata": {},
   "source": [
    "_Clustering discussion goes here_\n",
    "\n",
    "From my testing results, kmeans doesn't do a good job. Should I pivot data?"
   ]
  },
  {
   "cell_type": "markdown",
   "metadata": {},
   "source": [
    "(2) Further analysis: Plot the resulting cluster centroids and provide a qualitative description of each cluster. Look at the region names and size ranks for the time series you obtain, do resulting clusters reflect geographic or population similarities across regions?"
   ]
  },
  {
   "cell_type": "code",
   "execution_count": 95,
   "metadata": {},
   "outputs": [
    {
     "data": {
      "text/plain": [
       "0.0"
      ]
     },
     "execution_count": 95,
     "metadata": {},
     "output_type": "execute_result"
    }
   ],
   "source": [
    "#include geographic\n",
    "train_rX, train_ry = utils.get_X_y_with_region(train_df)\n",
    "\n",
    "rX_scaled = scaler.fit_transform(train_rX)\n",
    "kmeans.fit(rX_scaled)\n",
    "\n",
    "predict_ry = kmeans.predict(rX_scaled)\n",
    "metrics.adjusted_rand_score(train_ry, predict_ry) "
   ]
  },
  {
   "cell_type": "code",
   "execution_count": 98,
   "metadata": {},
   "outputs": [
    {
     "data": {
      "text/plain": [
       "0.0"
      ]
     },
     "execution_count": 98,
     "metadata": {},
     "output_type": "execute_result"
    }
   ],
   "source": [
    "#include size rank\n",
    "train_sX, train_sy = utils.get_X_y_with_sizerank(train_df)\n",
    "\n",
    "sX_scaled = scaler.fit_transform(train_sX)\n",
    "kmeans.fit(sX_scaled)\n",
    "\n",
    "predict_sy = kmeans.predict(sX_scaled)\n",
    "metrics.adjusted_rand_score(train_sy, predict_sy) "
   ]
  },
  {
   "cell_type": "code",
   "execution_count": 99,
   "metadata": {},
   "outputs": [
    {
     "data": {
      "image/png": "[encoded data removed]",
      "text/plain": [
       "<Figure size 432x288 with 1 Axes>"
      ]
     },
     "metadata": {},
     "output_type": "display_data"
    }
   ],
   "source": [
    "# clustering analysis goes here\n",
    "\n",
    "sse = {}\n",
    "for k in range(1, 10):\n",
    "    kmeans = KMeans(n_clusters=k, max_iter=1000).fit(train_X)\n",
    "    sse[k] = kmeans.inertia_ # Inertia: Sum of distances of samples to their closest cluster center\n",
    "plt.figure()\n",
    "plt.plot(list(sse.keys()), list(sse.values()))\n",
    "plt.xlabel(\"Number of cluster\")\n",
    "plt.ylabel(\"SSE\")\n",
    "plt.show()\n"
   ]
  },
  {
   "cell_type": "markdown",
   "metadata": {},
   "source": [
    "_with discussion here_\n",
    "###### Cluster number is 5 that is good enough for the model."
   ]
  },
  {
   "cell_type": "markdown",
   "metadata": {},
   "source": [
    "## Task 2: Dimensionality Reduction via Decomposition\n",
    "    \n",
    "(1) Apply one  \"global\" dimensionality reduction technique, e.g., PCA or Non-negative Matrix Factorization (http://scikit-learn.org/stable/modules/classes.html#module-sklearn.decomposition) to the affordability data. "
   ]
  },
  {
   "cell_type": "code",
   "execution_count": 84,
   "metadata": {},
   "outputs": [
    {
     "data": {
      "text/html": [
       "<div>\n",
       "<style scoped>\n",
       "    .dataframe tbody tr th:only-of-type {\n",
       "        vertical-align: middle;\n",
       "    }\n",
       "\n",
       "    .dataframe tbody tr th {\n",
       "        vertical-align: top;\n",
       "    }\n",
       "\n",
       "    .dataframe thead th {\n",
       "        text-align: right;\n",
       "    }\n",
       "</style>\n",
       "<table border=\"1\" class=\"dataframe\">\n",
       "  <thead>\n",
       "    <tr style=\"text-align: right;\">\n",
       "      <th>RegionID</th>\n",
       "      <th>394304</th>\n",
       "      <th>394312</th>\n",
       "      <th>394318</th>\n",
       "      <th>394347</th>\n",
       "      <th>394355</th>\n",
       "      <th>394357</th>\n",
       "      <th>394358</th>\n",
       "      <th>394367</th>\n",
       "      <th>394378</th>\n",
       "      <th>394388</th>\n",
       "      <th>...</th>\n",
       "      <th>395134</th>\n",
       "      <th>395148</th>\n",
       "      <th>395160</th>\n",
       "      <th>395167</th>\n",
       "      <th>395169</th>\n",
       "      <th>395183</th>\n",
       "      <th>395209</th>\n",
       "      <th>753899</th>\n",
       "      <th>753906</th>\n",
       "      <th>753924</th>\n",
       "    </tr>\n",
       "    <tr>\n",
       "      <th>date</th>\n",
       "      <th></th>\n",
       "      <th></th>\n",
       "      <th></th>\n",
       "      <th></th>\n",
       "      <th></th>\n",
       "      <th></th>\n",
       "      <th></th>\n",
       "      <th></th>\n",
       "      <th></th>\n",
       "      <th></th>\n",
       "      <th></th>\n",
       "      <th></th>\n",
       "      <th></th>\n",
       "      <th></th>\n",
       "      <th></th>\n",
       "      <th></th>\n",
       "      <th></th>\n",
       "      <th></th>\n",
       "      <th></th>\n",
       "      <th></th>\n",
       "      <th></th>\n",
       "    </tr>\n",
       "  </thead>\n",
       "  <tbody>\n",
       "    <tr>\n",
       "      <th>1979-03</th>\n",
       "      <td>0.232680</td>\n",
       "      <td>0.287440</td>\n",
       "      <td>0.241254</td>\n",
       "      <td>0.248301</td>\n",
       "      <td>0.281276</td>\n",
       "      <td>0.293120</td>\n",
       "      <td>0.241090</td>\n",
       "      <td>0.320604</td>\n",
       "      <td>0.279537</td>\n",
       "      <td>0.261269</td>\n",
       "      <td>...</td>\n",
       "      <td>0.329093</td>\n",
       "      <td>0.262781</td>\n",
       "      <td>0.233772</td>\n",
       "      <td>0.290762</td>\n",
       "      <td>0.237118</td>\n",
       "      <td>0.291715</td>\n",
       "      <td>0.254252</td>\n",
       "      <td>0.357694</td>\n",
       "      <td>0.324803</td>\n",
       "      <td>0.303692</td>\n",
       "    </tr>\n",
       "    <tr>\n",
       "      <th>1979-06</th>\n",
       "      <td>0.247157</td>\n",
       "      <td>0.313798</td>\n",
       "      <td>0.242736</td>\n",
       "      <td>0.264578</td>\n",
       "      <td>0.291680</td>\n",
       "      <td>0.320723</td>\n",
       "      <td>0.262005</td>\n",
       "      <td>0.344172</td>\n",
       "      <td>0.293638</td>\n",
       "      <td>0.272639</td>\n",
       "      <td>...</td>\n",
       "      <td>0.351231</td>\n",
       "      <td>0.275551</td>\n",
       "      <td>0.242763</td>\n",
       "      <td>0.336807</td>\n",
       "      <td>0.249160</td>\n",
       "      <td>0.309812</td>\n",
       "      <td>0.264869</td>\n",
       "      <td>0.388161</td>\n",
       "      <td>0.329214</td>\n",
       "      <td>0.350751</td>\n",
       "    </tr>\n",
       "    <tr>\n",
       "      <th>1979-09</th>\n",
       "      <td>0.253609</td>\n",
       "      <td>0.321006</td>\n",
       "      <td>0.241687</td>\n",
       "      <td>0.271742</td>\n",
       "      <td>0.306315</td>\n",
       "      <td>0.327072</td>\n",
       "      <td>0.264234</td>\n",
       "      <td>0.352533</td>\n",
       "      <td>0.305817</td>\n",
       "      <td>0.271228</td>\n",
       "      <td>...</td>\n",
       "      <td>0.362340</td>\n",
       "      <td>0.283997</td>\n",
       "      <td>0.239239</td>\n",
       "      <td>0.325960</td>\n",
       "      <td>0.253414</td>\n",
       "      <td>0.324721</td>\n",
       "      <td>0.277353</td>\n",
       "      <td>0.401762</td>\n",
       "      <td>0.325394</td>\n",
       "      <td>0.382342</td>\n",
       "    </tr>\n",
       "    <tr>\n",
       "      <th>1979-12</th>\n",
       "      <td>0.277786</td>\n",
       "      <td>0.356240</td>\n",
       "      <td>0.283188</td>\n",
       "      <td>0.312490</td>\n",
       "      <td>0.356599</td>\n",
       "      <td>0.369596</td>\n",
       "      <td>0.293461</td>\n",
       "      <td>0.388893</td>\n",
       "      <td>0.327856</td>\n",
       "      <td>0.325152</td>\n",
       "      <td>...</td>\n",
       "      <td>0.403449</td>\n",
       "      <td>0.327575</td>\n",
       "      <td>0.272597</td>\n",
       "      <td>0.374332</td>\n",
       "      <td>0.284488</td>\n",
       "      <td>0.365309</td>\n",
       "      <td>0.314773</td>\n",
       "      <td>0.459422</td>\n",
       "      <td>0.394464</td>\n",
       "      <td>0.447982</td>\n",
       "    </tr>\n",
       "    <tr>\n",
       "      <th>1980-03</th>\n",
       "      <td>0.320509</td>\n",
       "      <td>0.432043</td>\n",
       "      <td>0.365602</td>\n",
       "      <td>0.371988</td>\n",
       "      <td>0.400885</td>\n",
       "      <td>0.416118</td>\n",
       "      <td>0.341429</td>\n",
       "      <td>0.464336</td>\n",
       "      <td>0.360372</td>\n",
       "      <td>0.344529</td>\n",
       "      <td>...</td>\n",
       "      <td>0.474701</td>\n",
       "      <td>0.372208</td>\n",
       "      <td>0.304646</td>\n",
       "      <td>0.441749</td>\n",
       "      <td>0.330377</td>\n",
       "      <td>0.454627</td>\n",
       "      <td>0.373035</td>\n",
       "      <td>0.541508</td>\n",
       "      <td>0.429323</td>\n",
       "      <td>0.550050</td>\n",
       "    </tr>\n",
       "  </tbody>\n",
       "</table>\n",
       "<p>5 rows × 75 columns</p>\n",
       "</div>"
      ],
      "text/plain": [
       "RegionID    394304    394312    394318    394347    394355    394357  \\\n",
       "date                                                                   \n",
       "1979-03   0.232680  0.287440  0.241254  0.248301  0.281276  0.293120   \n",
       "1979-06   0.247157  0.313798  0.242736  0.264578  0.291680  0.320723   \n",
       "1979-09   0.253609  0.321006  0.241687  0.271742  0.306315  0.327072   \n",
       "1979-12   0.277786  0.356240  0.283188  0.312490  0.356599  0.369596   \n",
       "1980-03   0.320509  0.432043  0.365602  0.371988  0.400885  0.416118   \n",
       "\n",
       "RegionID    394358    394367    394378    394388    ...       395134  \\\n",
       "date                                                ...                \n",
       "1979-03   0.241090  0.320604  0.279537  0.261269    ...     0.329093   \n",
       "1979-06   0.262005  0.344172  0.293638  0.272639    ...     0.351231   \n",
       "1979-09   0.264234  0.352533  0.305817  0.271228    ...     0.362340   \n",
       "1979-12   0.293461  0.388893  0.327856  0.325152    ...     0.403449   \n",
       "1980-03   0.341429  0.464336  0.360372  0.344529    ...     0.474701   \n",
       "\n",
       "RegionID    395148    395160    395167    395169    395183    395209  \\\n",
       "date                                                                   \n",
       "1979-03   0.262781  0.233772  0.290762  0.237118  0.291715  0.254252   \n",
       "1979-06   0.275551  0.242763  0.336807  0.249160  0.309812  0.264869   \n",
       "1979-09   0.283997  0.239239  0.325960  0.253414  0.324721  0.277353   \n",
       "1979-12   0.327575  0.272597  0.374332  0.284488  0.365309  0.314773   \n",
       "1980-03   0.372208  0.304646  0.441749  0.330377  0.454627  0.373035   \n",
       "\n",
       "RegionID    753899    753906    753924  \n",
       "date                                    \n",
       "1979-03   0.357694  0.324803  0.303692  \n",
       "1979-06   0.388161  0.329214  0.350751  \n",
       "1979-09   0.401762  0.325394  0.382342  \n",
       "1979-12   0.459422  0.394464  0.447982  \n",
       "1980-03   0.541508  0.429323  0.550050  \n",
       "\n",
       "[5 rows x 75 columns]"
      ]
     },
     "execution_count": 84,
     "metadata": {},
     "output_type": "execute_result"
    }
   ],
   "source": [
    "#RegionId\n",
    "region_df = utils.pivot_df(afford_df,['RegionName','SizeRank'],['RegionID'], 'RegionID')\n",
    "\n",
    "region_df.head()"
   ]
  },
  {
   "cell_type": "code",
   "execution_count": 139,
   "metadata": {},
   "outputs": [
    {
     "name": "stdout",
     "output_type": "stream",
     "text": [
      "PCA(copy=True, iterated_power='auto', n_components=2, random_state=None,\n",
      "  svd_solver='auto', tol=0.0, whiten=False)\n",
      "[[ 9.99999992e-01  1.28496050e-04  8.07160844e-08  1.27651013e-07]\n",
      " [-1.28496114e-04  9.99999816e-01  4.24882791e-04  4.14021102e-04]]\n",
      "[1.21396821e+09 1.87521726e+01]\n"
     ]
    }
   ],
   "source": [
    "# decomposition code here\n",
    "from sklearn.decomposition import PCA\n",
    "from sklearn.model_selection import train_test_split\n",
    "\n",
    "train_rsX, train_rsy = utils.get_X_y_with_rs(train_df)\n",
    "\n",
    "pca= PCA(n_components=2)\n",
    "print(pca.fit(train_rsX))\n",
    "print(pca.components_)\n",
    "print(pca.explained_variance_)"
   ]
  },
  {
   "cell_type": "code",
   "execution_count": 141,
   "metadata": {},
   "outputs": [
    {
     "name": "stdout",
     "output_type": "stream",
     "text": [
      "[[ 3.92010737e+05 -4.99968130e+01]\n",
      " [-2.90125954e+03  9.55456895e-03]\n",
      " [-2.90199784e+03  2.62820592e-02]\n",
      " ...\n",
      " [-2.90214585e+03 -1.29328890e-01]\n",
      " [-2.90213673e+03 -1.21228155e-01]\n",
      " [-2.90212863e+03 -1.23604186e-01]]\n"
     ]
    }
   ],
   "source": [
    "X_pca = pca.transform(train_rsX)\n",
    "\n",
    "print(X_pca)"
   ]
  },
  {
   "cell_type": "code",
   "execution_count": 142,
   "metadata": {},
   "outputs": [
    {
     "name": "stdout",
     "output_type": "stream",
     "text": [
      "original shape:    (10575, 4)\n",
      "transformed shape: (10575, 2)\n"
     ]
    }
   ],
   "source": [
    "print(\"original shape:   \", train_rsX.shape)\n",
    "print(\"transformed shape:\", X_pca.shape)"
   ]
  },
  {
   "cell_type": "markdown",
   "metadata": {},
   "source": [
    "(2) Plot the transformed data in two dimensions. Color regions based on clusters found in Task 1. Plot again coloring based on geography or size. Does the data in reduced dimension reflect any of these characteristics?"
   ]
  },
  {
   "cell_type": "code",
   "execution_count": 144,
   "metadata": {},
   "outputs": [
    {
     "name": "stdout",
     "output_type": "stream",
     "text": [
      "(10575, 4)\n",
      "(10575, 2)\n"
     ]
    }
   ],
   "source": [
    "pca = PCA(2)  # project from 64 to 2 dimensions\n",
    "projected = pca.fit_transform(train_rsX)\n",
    "print(train_rsX.shape)\n",
    "print(projected.shape)"
   ]
  },
  {
   "cell_type": "code",
   "execution_count": 147,
   "metadata": {},
   "outputs": [
    {
     "data": {
      "image/png": "[encoded data removed]",
      "text/plain": [
       "<Figure size 432x288 with 2 Axes>"
      ]
     },
     "metadata": {},
     "output_type": "display_data"
    }
   ],
   "source": [
    "# plotting code here\n",
    "\n",
    "plt.scatter(projected[:, 0], projected[:, 1],\n",
    "            c=train_rsy, edgecolor='none', alpha=0.5,\n",
    "            cmap=plt.cm.get_cmap('Oranges_r', 10))\n",
    "plt.xlabel('component 1')\n",
    "plt.ylabel('component 2')\n",
    "plt.colorbar();"
   ]
  },
  {
   "cell_type": "code",
   "execution_count": 143,
   "metadata": {},
   "outputs": [
    {
     "data": {
      "image/png": "[encoded data removed]",
      "text/plain": [
       "<Figure size 432x288 with 1 Axes>"
      ]
     },
     "metadata": {},
     "output_type": "display_data"
    }
   ],
   "source": [
    "X_new = pca.inverse_transform(X_pca)\n",
    "plt.scatter(train_rsX[:, 0], train_rsX[:, 1], alpha=0.2)\n",
    "plt.scatter(X_new[:, 0], X_new[:, 1], alpha=0.8)\n",
    "plt.axis('equal');"
   ]
  },
  {
   "cell_type": "code",
   "execution_count": null,
   "metadata": {},
   "outputs": [],
   "source": [
    "from sklearn.decomposition import RandomizedPCA\n",
    "model = RandomizedPCA(100).fit(train_rsX)\n",
    "plt.plot(np.cumsum(model.explained_variance_ratio_))\n",
    "plt.title('RandomizedPCA')\n",
    "plt.xlabel('number of components')\n",
    "plt.ylabel('cumulative explained variance');"
   ]
  },
  {
   "cell_type": "code",
   "execution_count": 148,
   "metadata": {},
   "outputs": [
    {
     "data": {
      "image/png": "[encoded data removed]",
      "text/plain": [
       "<Figure size 432x288 with 1 Axes>"
      ]
     },
     "metadata": {},
     "output_type": "display_data"
    }
   ],
   "source": [
    "pca = PCA().fit(train_rsX)\n",
    "plt.plot(np.cumsum(pca.explained_variance_ratio_))\n",
    "plt.title('PCA')\n",
    "plt.xlabel('number of components')\n",
    "plt.ylabel('cumulative explained variance');"
   ]
  },
  {
   "cell_type": "markdown",
   "metadata": {},
   "source": [
    "_decomposition discussion here_\n",
    "\n",
    "##### To be honest, this plot doesn't make any sense to me. I believe I did it wrong."
   ]
  },
  {
   "cell_type": "markdown",
   "metadata": {},
   "source": [
    "## Task 3: Dimensionality Reduction via Manifold Learning\n",
    "    \n",
    "(1) Apply one  \"local\" dimensionality reduction technique, e.g., LLE or tSNE (http://scikit-learn.org/stable/modules/classes.html#module-sklearn.manifold) to the affordability data. "
   ]
  },
  {
   "cell_type": "code",
   "execution_count": 154,
   "metadata": {},
   "outputs": [
    {
     "data": {
      "text/plain": [
       "(10575, 10575)"
      ]
     },
     "execution_count": 154,
     "metadata": {},
     "output_type": "execute_result"
    }
   ],
   "source": [
    "# manifold code here\n",
    "from sklearn.manifold import MDS\n",
    "from scipy.stats import mode\n",
    "from sklearn.metrics import pairwise_distances\n",
    "from sklearn.metrics import accuracy_score\n",
    "\n",
    "D = pairwise_distances(train_rsX)\n",
    "D.shape"
   ]
  },
  {
   "cell_type": "code",
   "execution_count": null,
   "metadata": {},
   "outputs": [],
   "source": [
    "model = MDS(n_components=2, dissimilarity='precomputed', random_state=1)\n",
    "out = model.fit_transform(D)"
   ]
  },
  {
   "cell_type": "markdown",
   "metadata": {},
   "source": [
    "(2) Plot the transformed data in two dimensions. Color regions based on clusters found in Task 1. Plot again coloring based on geography or size. Does the data in reduced dimension reflect any of these characteristics?"
   ]
  },
  {
   "cell_type": "code",
   "execution_count": 156,
   "metadata": {},
   "outputs": [],
   "source": [
    "colorize = dict(c=train_rsX[:, 0], cmap=plt.cm.get_cmap('rainbow', 5))"
   ]
  },
  {
   "cell_type": "code",
   "execution_count": 157,
   "metadata": {},
   "outputs": [
    {
     "data": {
      "image/png": "[encoded data removed]",
      "text/plain": [
       "<Figure size 432x288 with 1 Axes>"
      ]
     },
     "metadata": {},
     "output_type": "display_data"
    }
   ],
   "source": [
    "# plotting code here\n",
    "plt.scatter(out[:, 0], out[:, 1], **colorize)\n",
    "plt.axis('equal');"
   ]
  },
  {
   "cell_type": "code",
   "execution_count": 158,
   "metadata": {},
   "outputs": [
    {
     "data": {
      "image/png": "[encoded data removed]",
      "text/plain": [
       "<Figure size 432x288 with 1 Axes>"
      ]
     },
     "metadata": {},
     "output_type": "display_data"
    }
   ],
   "source": [
    "from sklearn.manifold import LocallyLinearEmbedding\n",
    "\n",
    "model = LocallyLinearEmbedding(n_neighbors=100, n_components=2, method='modified',\n",
    "                               eigen_solver='dense')\n",
    "out = model.fit_transform(train_rsX)\n",
    "\n",
    "fig, ax = plt.subplots()\n",
    "ax.scatter(out[:, 0], out[:, 1], **colorize)\n",
    "ax.set_ylim(0.15, -0.15);"
   ]
  },
  {
   "cell_type": "code",
   "execution_count": 159,
   "metadata": {},
   "outputs": [
    {
     "data": {
      "image/png": "[encoded data removed]",
      "text/plain": [
       "<Figure size 432x288 with 1 Axes>"
      ]
     },
     "metadata": {},
     "output_type": "display_data"
    }
   ],
   "source": [
    "from sklearn.manifold import Isomap\n",
    "\n",
    "model = Isomap(n_components=2)\n",
    "out = model.fit_transform(train_rsX)\n",
    "\n",
    "fig, ax = plt.subplots()\n",
    "ax.scatter(out[:, 0], out[:, 1], **colorize)\n",
    "ax.set_ylim(0.15, -0.15);"
   ]
  },
  {
   "cell_type": "markdown",
   "metadata": {},
   "source": [
    "_manifold discussion here_\n",
    "\n",
    "_\"This is essentially the goal of a manifold learning estimator: given high-dimensional embedded data, it seeks a low-dimensional representation of the data that preserves certain relationships within the data. In the case of MDS, the quantity preserved is the distance between every pair of points.\"_"
   ]
  },
  {
   "cell_type": "code",
   "execution_count": null,
   "metadata": {},
   "outputs": [],
   "source": []
  }
 ],
 "metadata": {
  "kernelspec": {
   "display_name": "Python 3",
   "language": "python",
   "name": "python3"
  },
  "language_info": {
   "codemirror_mode": {
    "name": "ipython",
    "version": 3
   },
   "file_extension": ".py",
   "mimetype": "text/x-python",
   "name": "python",
   "nbconvert_exporter": "python",
   "pygments_lexer": "ipython3",
   "version": "3.6.5"
  }
 },
 "nbformat": 4,
 "nbformat_minor": 2
}
